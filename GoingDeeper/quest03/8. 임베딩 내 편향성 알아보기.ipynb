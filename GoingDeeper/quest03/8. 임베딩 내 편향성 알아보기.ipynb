{
 "cells": [
  {
   "cell_type": "markdown",
   "id": "8f8c31b3",
   "metadata": {},
   "source": [
    "# 8. 임베딩 내 편향성 알아보기\n",
    "\n",
    "8-1. 들어가며<br>\n",
    "8-2. 워드 임베딩의 편향성<br>\n",
    "8-3. WEAT를 통한 편향성 측정<br>\n",
    "8-4. WEAT 구현하기<br>\n",
    "8-5. 사전학습된 Word Embedding에 WEAT 적용<br>\n",
    "8-6. 직접 만드는 Word Embedding에 WEAT 적용(1)<br>\n",
    "8-7. 직접 만드는 Word Embedding에 WEAT 적용(2)"
   ]
  },
  {
   "cell_type": "markdown",
   "id": "108504b0",
   "metadata": {},
   "source": [
    "## 8-1. 들어가며\n",
    "---\n",
    "### 학습 목표\n",
    "\n",
    "- 데이터의 편향성에 대한 문제의식을 무엇인지 설명할 수 있습니다.\n",
    "- `WEAT(Word Embedding Association Test)`에 대해서 설명할 수 있습니다.\n",
    "- WEAT 수식의 의미를 이해하고 이를 구현할 수 있습니다.\n",
    "- pre-train된 모델을 불러와서 `WEAT score`를 구현할 수 있습니다.\n",
    "\n",
    "### 인공지능은 객관적일까?\n",
    "---\n",
    "학습 데이터의 편향성\n",
    "\n",
    "예시:\n",
    "- 차량 충돌 사고실험 : 남성위주 데이터 사용\n",
    "    - 한 데이터 제조업체에서 충돌 실험을 통해 탑승자의 신체 움직임을 파악하고 안전성을 높이고자 했습니다. 그러나 결과적으로 여성 탑승자가 남성 탑승자보다 사망률이 높았다\n",
    "- 아마존 인공지능 채용 시스템 : 성 차별적 특성\n",
    "    - '여성'이라는 단어가 포함되면 감점\n",
    "    - 여자 대학을 졸업한 지원자의 점수가 감점\n",
    "    - 지난 10년간의 회사에 제출된 이력서 패턴을 익힌 인공지능 채용 시스템은 남성 우위인 기술산업 업계의 현실을 반영\n",
    "- 콤파스 : 범죄자의 형량을 정하는 알고리즘 : 인종차별적 특성\n",
    "    - 이 알고리즘은 범죄 방식, 생활 방식, 성격, 태도 등의 점수를 환산해 범죄자의 재범률을 예측하는 시스템\n",
    "    - 인종을 변수로 포함하고 있지 않은데도 흑인의 재범 가능성을 백인보다 2배 위험하다고 판단\n",
    "    - 흑인과 백인은 동일 범행에 대해 다른 처벌을 받았기 때문에 이런 결과가 나타난 것\n",
    "    - 재범을 저지른 흑인은 체포될 확률이 백인에 비해 높았기 때문에 이런 데이터로 학습한 콤파스는 인종 차별을 할 수 밖에 없었습니다.\n",
    "\n",
    "### \"<u>데이터 안에 이미 편향성이 내재되어 있다면 이를 통해 나온 결과도 편향성을 가질 수 밖에 없다</u>\"\n",
    "\n",
    "<br>\n",
    "\n",
    "최근에는 **인공지능이 가진 편향성을 예방하기 위한 연구**가 지속되고 있습니다. \n",
    "- 특히 자연어처리 분야, \n",
    "- 그중에서도 워드 임베딩과 관련된 연구\n",
    "\n",
    "#### 자연어 처리, 워드 임베딩에서 편향성 예방 연구 이유:\n",
    "1. 언어의 사용패턴이 담긴 코퍼스야말로 인간 무의식 속에 감추어진 편향성이 고스란히 드러나는 데이터셋\n",
    "2. 그 언어의 의미가 워드 임베딩에 추상적인 형태로 담겨 있는데, \n",
    "    - 최근 연구를 통해 그 **임베딩 공간에서 편향성을 정량적으로 측정하는 방법론**들이 발표되면서 이 분야의 연구가 활기를 띠게 되었기 때문\n",
    "\n",
    "<br>\n",
    "\n",
    "그래서 오늘은 **워드 임베딩에 숨어 있는 편향성을 측정하는 대표적인 방법론**인 :\n",
    "### \"Word Embedding Association Test (WEAT)\" \n",
    "라는 기법에 대해 알아보고, \n",
    "\n",
    "이를 활용해 우리가 학습시킨 **Word2Vec 임베딩 내의 편향성을 측정**해 보면서 \n",
    "\n",
    "실제로 이 방법론이 우리 머리 속에 있는 편향성을 잘 반영하는지도 살펴보겠습니다.\n",
    "\n",
    "\n",
    "\n",
    "\n",
    "\n",
    "\n",
    "\n"
   ]
  },
  {
   "cell_type": "markdown",
   "id": "c4803998",
   "metadata": {},
   "source": [
    "학습 내용<br>\n",
    "\n",
    ">4-2 워드 임베딩의 편향성 : 워드 임베딩의 편향성이 무엇인지 학습니다.<br>\n",
    "4-3 WEAT를 통한 편향성 측정 : WEAT를 통한 편향성 측정을 학습합니다.<br>\n",
    "4-4 WEAT 구현하기 : WEAT score를 코드로 구현합니다.<br>\n",
    "4-5 사전학습된 Word Embedding에 WEAT 적용 : target, attribute 셋을 만들어서 WEAT score를 구현합니다.<br>\n",
    "4-6 직접 만드는 Word Embedding에 WEAT 적용(1) : 주어진 데이터를 활용해 WEAT score를 코드로 구현합니다.<br>\n",
    "4-7 직접 만드는 Word Embedding에 WEAT 적용(2) : 주어진 데이터를 활용해 WEAT score를 코드로 구현합니다.\n",
    "\n"
   ]
  },
  {
   "cell_type": "markdown",
   "id": "0030855f",
   "metadata": {},
   "source": [
    "## 8-2. 워드 임베딩의 편향성\n",
    "\n",
    "[Man is to Computer Programmer as Woman is to Homemaker? Debiasing Word Embeddings](https://arxiv.org/pdf/1607.06520.pdf)<br>\n",
    " : 우리가 가지고 있을지도 모를 편견이 워드 임베딩 속 벡터들에 고스란히 반영되어 있었다는 것을 보여 준 논문\n",
    " "
   ]
  },
  {
   "cell_type": "markdown",
   "id": "95984c55",
   "metadata": {},
   "source": [
    "### WEAT(Word Embedding Association Test)\n",
    "\n",
    "워드 임베딩 벡터들 간에는 **의미적인 유사도 거리를 정량적으로 측정**할 수 있습니다. 그렇다면 워드 임베딩에 **내포된 편향성도 정량적으로 측정할 방법**은 없을까요? 위 논문이 발표되자마자 몇 달도 되지 않아 그런 방법이 제안되었습니다.\n",
    "\n",
    "Word Embedding Association Test (WEAT) 논문 : \n",
    "- [Semantics derived automatically from language corpora necessarily contain human biases](https://arxiv.org/pdf/1608.07187.pdf)\n",
    "\n",
    "\n",
    "- 워드 임베딩에 편향성이 반영되어 있다는 것을 발견\n",
    "- 워드 임베딩 벡터의 `의미적 유사도`를 정량적으로 측정 가능 -> 그럼 임베딩에 내포된 `편향성`도 정량적으로 측정할 수 있지 않을까?\n",
    "- 워드 임베딩의 편향성을 정량적으로 측정할 방법을 제시 : **\"`WEAT`\"**\n",
    "\n",
    "\n",
    "#### WEAT(Word Embedding Association Test)? : \n",
    "\n",
    "- `target` : 분석하고자 하는 개념이나 집단을 대표하는 단어들의 집합\n",
    "    - 편향성이 있는지 알아보려는 단어 셋\n",
    "- `attribute` : 특정 속성이나 개념을 대표하는 단어들의 집합\n",
    "    - 편향성을 따질 기준 단어 셋\n",
    "\n",
    "target 단어와 attribute 단어들의 거리를 통해 편향성을 측정하는 방법\n",
    "> 예를들어, \n",
    ">- science/art : target\n",
    ">- male/female : attribute<br>\n",
    ">WEAT score의 절대값이 클 수록 편향성도 큼"
   ]
  },
  {
   "attachments": {
    "image.png": {
     "image/png": "[encoded data removed]"
    }
   },
   "cell_type": "markdown",
   "id": "0b3a38a8",
   "metadata": {},
   "source": [
    "## 8-3. WEAT를 통한 편향성 측정\n",
    "### WEAT score\n",
    "![image.png](attachment:image.png)\n",
    "- X, Y : target\n",
    "- A, B : attribute\n",
    "    - (X, Y, A, B : 단어벡터들의 집합)\n",
    "- `s(w, A, B) = mean cos(w, a) - mean cos(w, b)`, w, a, b : vector\n",
    "\n",
    "\n",
    "- 벡터의 유사도 측정을 위해 cosine similarity 사용\n",
    "- `s(w, A, B)` : target set의 단어 `w`가 두 attribute set A, B에 속한 단어들과의 유사도의 평균(mean)값이 얼마나 차이나는지 측정\n",
    "\n",
    "    - == `w`가 `개념축 A-B`에 대해 가지는 편향성을 계산한 값 `(-2, 2)`\n",
    "    - 절대값이 클 수록 w 가 A-B 개념축에 대해 편향성을 가진다는 의미\n",
    "    \n",
    "- 분자 부분 : target X, Y에 속하는 단어 x, y들이 개념축 A-B에 대해 가지는 편향성을 각각 **평균**내서 **뺀** 값\n",
    "    - X에 속하는 단어들과 Y에 속하는 단어들이 A-B 개념축에 대해 가지는 편향성의 정도가 뚜렷할 수록 \n",
    "    - WEAT score 식의 `abs(분자값)`이 커짐\n",
    "- 분모 부분 : X, Y에 속하는 모든 단어들이 가지는 **편향성 값의 표준편차(std)**로 **normalize**\n",
    "    - 한 값이 최종 WEAT score가 됩니다."
   ]
  },
  {
   "cell_type": "markdown",
   "id": "f11e60fb",
   "metadata": {},
   "source": [
    "## 8-4. WEAT 구현하기\n",
    "\n"
   ]
  },
  {
   "cell_type": "code",
   "execution_count": 1,
   "id": "ed541730",
   "metadata": {},
   "outputs": [],
   "source": [
    "# 라이브러리 import\n",
    "import numpy as np\n",
    "from numpy import dot\n",
    "from numpy.linalg import norm"
   ]
  },
  {
   "cell_type": "code",
   "execution_count": 2,
   "id": "d22e26bb",
   "metadata": {},
   "outputs": [],
   "source": [
    "# 두 개의 target 단어 셋 X, Y와 두 개의 attribute 단어 셋 A, B를 정의\n",
    "'''\n",
    "targets\n",
    "    X set(꽃) : 장미, 튤립, 백합, 데이지\n",
    "    Y set(곤충) : 거미, 모기, 파리, 메뚜기\n",
    "\n",
    "attributes\n",
    "    A set(유쾌) : 사랑, 행복, 웃음\n",
    "    B set(불쾌) : 재난, 고통, 증오\n",
    "'''\n",
    "\n",
    "\n",
    "# 위에서 정의한 집합의 임베딩 결과(임베딩 과정은 생략) : \n",
    "\n",
    "target_X = {\n",
    "    '장미': [4.1, 1.2, -2.4, 0.5, 4.1],\n",
    "    '튤립': [3.1, 0.5, 3.6, 1.7, 5.8],\n",
    "    '백합': [2.9, -1.3, 0.4, 1.1, 3.7],\n",
    "    '데이지': [5.4, 2.5, 4.6, -1.0, 3.6]\n",
    "}\n",
    "target_Y = {\n",
    "    '거미': [-1.5, 0.2, -0.6, -4.6, -5.3],\n",
    "    '모기': [0.4, 0.7, -1.9, -4.5, -2.9],\n",
    "    '파리': [0.9, 1.4, -2.3, -3.9, -4.7],\n",
    "    '메뚜기': [0.7, 0.9, -0.4, -4.1, -3.9]\n",
    "}\n",
    "attribute_A = {\n",
    "    '사랑':[2.8,  4.2, 4.3,  0.3, 5.0],\n",
    "    '행복':[3.8,  3. , -1.2,  4.4, 4.9],\n",
    "    '웃음':[3.7, -0.3,  1.2, -2.5, 3.9]\n",
    "}\n",
    "attribute_B = {\n",
    "    '재난': [-0.2, -2.8, -4.7, -4.3, -4.7],\n",
    "    '고통': [-4.5, -2.1,  -3.8, -3.6, -3.1],\n",
    "    '증오': [-3.6, -3.3, -3.5,  -3.7, -4.4]\n",
    "}\n"
   ]
  },
  {
   "cell_type": "code",
   "execution_count": 3,
   "id": "e23be27d",
   "metadata": {},
   "outputs": [
    {
     "name": "stdout",
     "output_type": "stream",
     "text": [
      "[[ 4.1  1.2 -2.4  0.5  4.1]\n",
      " [ 3.1  0.5  3.6  1.7  5.8]\n",
      " [ 2.9 -1.3  0.4  1.1  3.7]\n",
      " [ 5.4  2.5  4.6 -1.   3.6]]\n",
      "[[-1.5  0.2 -0.6 -4.6 -5.3]\n",
      " [ 0.4  0.7 -1.9 -4.5 -2.9]\n",
      " [ 0.9  1.4 -2.3 -3.9 -4.7]\n",
      " [ 0.7  0.9 -0.4 -4.1 -3.9]]\n",
      "[[ 2.8  4.2  4.3  0.3  5. ]\n",
      " [ 3.8  3.  -1.2  4.4  4.9]\n",
      " [ 3.7 -0.3  1.2 -2.5  3.9]]\n",
      "[[-0.2 -2.8 -4.7 -4.3 -4.7]\n",
      " [-4.5 -2.1 -3.8 -3.6 -3.1]\n",
      " [-3.6 -3.3 -3.5 -3.7 -4.4]]\n"
     ]
    }
   ],
   "source": [
    "# 단어 set들을 array로 변환\n",
    "X = np.array([v for v in target_X.values()])\n",
    "Y = np.array([v for v in target_Y.values()])\n",
    "A = np.array([v for v in attribute_A.values()])\n",
    "B = np.array([v for v in attribute_B.values()])\n",
    "print(X)\n",
    "print(Y)\n",
    "print(A)\n",
    "print(B)"
   ]
  },
  {
   "cell_type": "code",
   "execution_count": 6,
   "id": "cc08b323",
   "metadata": {},
   "outputs": [
    {
     "name": "stdout",
     "output_type": "stream",
     "text": [
      "0.6457646122337399\n",
      "-0.794002342033094\n"
     ]
    }
   ],
   "source": [
    "# s('장미', A, B) 계산 : \n",
    "\n",
    "def cos_sim(i, j):\n",
    "    return dot(i, j.T)/(norm(i)*norm(j))\n",
    "\n",
    "def s(w, A, B):\n",
    "    c_a = cos_sim(w, A)\n",
    "    c_b = cos_sim(w, B)\n",
    "    mean_A = np.mean(c_a, axis=-1)\n",
    "    mean_B = np.mean(c_b, axis=-1)\n",
    "    return mean_A - mean_B #, c_a, c_b\n",
    "\n",
    "print(s(target_X['장미'], A, B)) # 유쾌 (score > 0)\n",
    "print(s(target_Y['거미'], A, B)) # 불쾌 (score < 0) ,,, nomalize는 아직 안해줌"
   ]
  },
  {
   "cell_type": "code",
   "execution_count": 7,
   "id": "2653ce5d",
   "metadata": {},
   "outputs": [
    {
     "name": "stdout",
     "output_type": "stream",
     "text": [
      "[0.29551989 0.51723181 0.26499096 0.50924109]\n",
      "0.397\n",
      "\n",
      "\n",
      "[-0.44713039 -0.28310853 -0.33144878 -0.26030641]\n",
      "-0.33\n"
     ]
    }
   ],
   "source": [
    "# target_X와 attribute_A, attribute_B 사의의 평균값\n",
    "# target_Y와 attribute_A, attribute_B 사의의 평균값\n",
    "\n",
    "print(s(X, A, B))\n",
    "print(round(np.mean(s(X, A, B)), 3))\n",
    "print('\\n')\n",
    "print(s(Y, A, B))\n",
    "print(round(np.mean(s(Y, A, B)), 3))"
   ]
  },
  {
   "cell_type": "code",
   "execution_count": 8,
   "id": "7910739b",
   "metadata": {},
   "outputs": [
    {
     "name": "stdout",
     "output_type": "stream",
     "text": [
      "1.932\n"
     ]
    }
   ],
   "source": [
    "# WEAT score의 수식 전체를 코드로\n",
    "def weat_score(X, Y, A, B):\n",
    "    \n",
    "    s_X = s(X, A, B)\n",
    "    s_Y = s(Y, A, B)\n",
    "\n",
    "    mean_X = np.mean(s_X)\n",
    "    mean_Y = np.mean(s_Y)\n",
    "    \n",
    "    std_dev = np.std(np.concatenate([s_X, s_Y], axis=0))\n",
    "    \n",
    "    return  (mean_X-mean_Y)/std_dev\n",
    "\n",
    "print(round(weat_score(X, Y, A, B), 3))"
   ]
  },
  {
   "cell_type": "markdown",
   "id": "7bf37ae4",
   "metadata": {},
   "source": [
    "WEAT score가 매우 높게 나온 것을 알 수 있습니다. 즉, 꽃은 유쾌한 단어와 상대적으로 가깝고, 곤충은 불쾌한 단어와 가깝다는 것을 수치적으로 확인할 수 있었습니다."
   ]
  },
  {
   "cell_type": "code",
   "execution_count": 9,
   "id": "58e9bfd0",
   "metadata": {
    "scrolled": true
   },
   "outputs": [
    {
     "data": {
      "text/plain": [
       "<matplotlib.collections.PathCollection at 0x7ffb0967de20>"
      ]
     },
     "execution_count": 9,
     "metadata": {},
     "output_type": "execute_result"
    },
    {
     "data": {
      "image/png": "[encoded data removed]",
      "text/plain": [
       "<Figure size 432x288 with 1 Axes>"
      ]
     },
     "metadata": {
      "needs_background": "light"
     },
     "output_type": "display_data"
    }
   ],
   "source": [
    "# 시각적으로 확인 : PCA를 통해 5차원이었던 벡터를 2차원으로\n",
    "\n",
    "from sklearn.decomposition import PCA\n",
    "pca = PCA(n_components=2)\n",
    "pc_A = pca.fit_transform(A)\n",
    "pc_B = pca.fit_transform(B)\n",
    "pc_X = pca.fit_transform(X)\n",
    "pc_Y = pca.fit_transform(Y)\n",
    "\n",
    "import matplotlib.pyplot as plt\n",
    "fig, ax = plt.subplots()\n",
    "ax.scatter(pc_A[:,0],pc_A[:,1], c='blue', label='A')\n",
    "ax.scatter(pc_B[:,0],pc_B[:,1], c='red', label='B')\n",
    "ax.scatter(pc_X[:,0],pc_X[:,1], c='skyblue', label='X')\n",
    "ax.scatter(pc_Y[:,0],pc_Y[:,1], c='pink', label='Y')"
   ]
  },
  {
   "cell_type": "markdown",
   "id": "6c4bf4eb",
   "metadata": {},
   "source": [
    "파란색 점(A)과 하늘색 점(X)이 가깝고, 빨간색 점(B)과 분홍색 점(Y)이 가깝게 표현"
   ]
  },
  {
   "cell_type": "markdown",
   "id": "d5068d95",
   "metadata": {},
   "source": [
    "## 8-5. 사전학습된 Word Embedding에 WEAT 적용\n",
    "\n",
    "지금까지 WEAT가 어떻게 계산되는지 확인해보았습니다. 이제 **실제 pretrain된 임베딩 모델**을 이용하여 계산해볼까요?\n",
    "\n",
    "구글에서 학습한 모델을 사용해보도록 하겠습니다.\n",
    "\n",
    "우선 ~/aiffel/weat 폴더를 만들고 링크를 걸어 줍니다. 압축을 풀면 대략 3G 정도 됩니다. (아래 링크에서 다운받아 로컬에서도 확인해볼수 있습니다.)\n",
    "\n",
    "[GoogleNews-vectors-negative300.bin.gz](https://drive.google.com/u/0/uc?id=0B7XkCwpI5KDYNlNUTTlSS21pQmM&export=download)\n",
    "\n"
   ]
  },
  {
   "cell_type": "code",
   "execution_count": 10,
   "id": "a5f69f93",
   "metadata": {},
   "outputs": [
    {
     "name": "stdout",
     "output_type": "stream",
     "text": [
      "total 13624\r\n",
      "-rw-r--r-- 1 root root  1163767 Jan  4 16:33 '7. 워드 임베딩.ipynb'\r\n",
      "-rw-r--r-- 1 root root    48800 Jan  7 09:16 '8. 임베딩 내 편향성 알아보기.ipynb'\r\n",
      "-rw-r--r-- 1 root root      747 Jan  3 09:24 '9. [프로젝트] 임베딩 내 편향성 알아보기_tmp.ipynb'\r\n",
      "-rw-r--r-- 1 root root   294256 Jan  4 16:32 'note 7.ipynb'\r\n",
      "-rw-r--r-- 1 root root    81442 Jan  4 16:17  w2v_metadata.tsv\r\n",
      "-rw-r--r-- 1 root root 12350785 Jan  4 16:17  w2v_tensor.tsv\r\n"
     ]
    }
   ],
   "source": [
    "!mkdir -p ~/aiffel/weat\n",
    "!ln -s ~/data/* ~/aiffel/weat/\n",
    "!cd ~/aiffel/weat\n",
    "!ls -l"
   ]
  },
  {
   "cell_type": "code",
   "execution_count": 11,
   "id": "235b86c5",
   "metadata": {},
   "outputs": [],
   "source": [
    "# 다음 코드에서 data_dir 변수에 본인의 경로를 잘 설정해서 모델을 불러오도록 합니다.\n",
    "\n",
    "import os\n",
    "\n",
    "data_dir = '~/aiffel/weat' \n",
    "model_dir = os.path.join(data_dir, 'GoogleNews-vectors-negative300.bin')\n",
    "\n",
    "from gensim.models import KeyedVectors\n",
    "\n",
    "# 50만개의 단어만 활용합니다. 메모리가 충분하다면 limit 파라미터값을 생략하여 300만개를 모두 활용할 수 있습니다. \n",
    "w2v = KeyedVectors.load_word2vec_format(model_dir, binary=True, limit=500000)"
   ]
  },
  {
   "cell_type": "code",
   "execution_count": 13,
   "id": "ffb73e64",
   "metadata": {},
   "outputs": [
    {
     "name": "stdout",
     "output_type": "stream",
     "text": [
      "500000\n",
      "300\n",
      "(500000, 300)\n"
     ]
    }
   ],
   "source": [
    "# w2v에 있는 단어 개수와 벡터 크기 확인\n",
    "\n",
    "# print(len(w2v.vocab))        # Gensim 3.X 버전까지는 w2v.vocab을 직접 접근할 수 있습니다. \n",
    "print(len(w2v.index_to_key))   # Gensim 4.0부터는 index_to_key를 활용해 vocab size를 알 수 있습니다. \n",
    "print(len(w2v['I']))                    # 혹은 단어를 key로 직접 vector를 얻을 수 있습니다. \n",
    "print(w2v.vectors.shape)"
   ]
  },
  {
   "cell_type": "markdown",
   "id": "4af6bbc0",
   "metadata": {},
   "source": [
    "w2v에는 limit으로 지정한 갯수(디폴트는 3,000,000개)의 단어가 있고, **각 단어는 300차원**을 갖는다는 것을 알 수 있습니다."
   ]
  },
  {
   "cell_type": "code",
   "execution_count": 14,
   "id": "31468d0f",
   "metadata": {},
   "outputs": [
    {
     "data": {
      "text/plain": [
       "array([-5.18798828e-04,  1.60156250e-01,  1.60980225e-03,  2.53906250e-02,\n",
       "        9.91210938e-02, -8.59375000e-02,  3.24218750e-01, -2.17285156e-02,\n",
       "        1.34765625e-01,  1.10351562e-01, -1.04980469e-01, -2.90527344e-02,\n",
       "       -2.38037109e-02, -4.02832031e-02, -3.68652344e-02,  2.32421875e-01,\n",
       "        3.20312500e-01,  1.01074219e-01,  5.83496094e-02, -2.91824341e-04,\n",
       "       -3.29589844e-02,  2.11914062e-01,  4.32128906e-02, -8.59375000e-02,\n",
       "        2.81250000e-01, -1.78222656e-02,  3.79943848e-03, -1.71875000e-01,\n",
       "        2.06054688e-01, -1.85546875e-01,  3.73535156e-02, -1.21459961e-02,\n",
       "        2.04101562e-01, -3.80859375e-02,  3.61328125e-02, -8.15429688e-02,\n",
       "        8.44726562e-02,  9.37500000e-02,  1.44531250e-01,  7.42187500e-02,\n",
       "        2.51953125e-01, -7.91015625e-02,  8.69140625e-02,  1.58691406e-02,\n",
       "        1.09375000e-01, -2.23632812e-01, -5.15747070e-03,  1.68945312e-01,\n",
       "       -1.36718750e-01, -2.51464844e-02, -3.85742188e-02, -1.33056641e-02,\n",
       "        1.38671875e-01,  1.76757812e-01,  1.10351562e-01,  1.51367188e-01,\n",
       "        7.86132812e-02, -1.69921875e-01,  1.20605469e-01, -4.37500000e-01,\n",
       "       -4.32128906e-02,  1.34765625e-01, -3.45703125e-01,  9.13085938e-02,\n",
       "        4.71191406e-02,  9.66796875e-02, -1.61132812e-02, -4.71191406e-02,\n",
       "       -4.68750000e-02,  1.37695312e-01,  9.96093750e-02,  4.49218750e-02,\n",
       "       -2.49023438e-02,  1.58203125e-01, -3.57421875e-01, -1.21093750e-01,\n",
       "        1.15722656e-01,  9.08203125e-02,  1.40625000e-01,  1.60156250e-01,\n",
       "       -4.42504883e-03,  5.34667969e-02,  2.28515625e-01,  1.88476562e-01,\n",
       "       -3.88183594e-02, -2.53906250e-01, -1.74804688e-01,  9.81445312e-02,\n",
       "        1.08642578e-02,  1.41601562e-01,  7.81250000e-03,  1.36718750e-01,\n",
       "       -2.08007812e-01, -3.41796875e-02, -2.50000000e-01,  1.25976562e-01,\n",
       "        1.57226562e-01,  3.31115723e-03, -1.51367188e-01, -6.98242188e-02,\n",
       "       -1.40625000e-01,  2.06054688e-01, -3.54003906e-02,  1.57226562e-01,\n",
       "        5.83496094e-02, -3.58886719e-02,  2.12890625e-01, -1.13769531e-01,\n",
       "        1.41601562e-01, -1.29394531e-02,  9.13085938e-02, -3.95507812e-02,\n",
       "        9.76562500e-02, -2.69775391e-02,  1.30004883e-02, -1.30859375e-01,\n",
       "        3.32031250e-01, -3.53515625e-01, -5.44433594e-02, -2.50244141e-02,\n",
       "       -1.42578125e-01,  6.49414062e-02,  5.54199219e-02, -4.83398438e-02,\n",
       "       -1.12304688e-01, -1.32812500e-01, -6.73828125e-02, -1.41601562e-01,\n",
       "       -2.05078125e-01, -1.29882812e-01, -1.04003906e-01, -8.10546875e-02,\n",
       "       -1.67968750e-01,  1.63085938e-01, -1.13769531e-01, -5.17578125e-02,\n",
       "        7.61718750e-02,  3.59375000e-01,  1.04003906e-01,  3.59375000e-01,\n",
       "       -8.74023438e-02,  6.54296875e-02, -1.09863281e-02, -1.88476562e-01,\n",
       "       -6.59179688e-02,  2.30468750e-01, -2.96875000e-01,  6.59179688e-03,\n",
       "        1.49414062e-01, -1.73828125e-01,  1.31835938e-01,  2.36328125e-01,\n",
       "       -9.22851562e-02,  1.70898438e-01, -1.70898438e-02,  3.12500000e-02,\n",
       "       -3.37219238e-03,  9.66796875e-02, -2.61718750e-01, -1.84326172e-02,\n",
       "       -1.85546875e-01,  1.24023438e-01,  3.00781250e-01,  2.43164062e-01,\n",
       "        3.06640625e-01, -3.28125000e-01, -5.05371094e-02,  1.01562500e-01,\n",
       "        7.86132812e-02, -1.44531250e-01, -1.25976562e-01, -2.41699219e-02,\n",
       "        2.94921875e-01, -1.50390625e-01, -3.97949219e-02,  2.75390625e-01,\n",
       "        1.26953125e-01, -9.86328125e-02, -1.39648438e-01,  2.52685547e-02,\n",
       "       -8.54492188e-02, -1.72119141e-02,  9.17968750e-02,  1.39648438e-01,\n",
       "       -2.39257812e-01, -2.11914062e-01, -2.21679688e-01,  1.53320312e-01,\n",
       "       -1.58691406e-02, -2.00195312e-01, -2.07519531e-02,  3.58886719e-02,\n",
       "       -6.96629286e-07, -2.13867188e-01,  2.00195312e-01, -1.09375000e-01,\n",
       "       -5.15136719e-02,  6.22558594e-02, -3.22265625e-01, -7.86132812e-02,\n",
       "        5.02929688e-02,  7.08007812e-02,  1.20117188e-01, -1.79687500e-01,\n",
       "        1.59179688e-01, -1.02233887e-03, -3.49609375e-01,  1.25000000e-01,\n",
       "        6.44531250e-02,  8.10546875e-02, -3.39355469e-02,  7.42187500e-02,\n",
       "       -3.08837891e-02, -1.38671875e-01, -3.19824219e-02,  1.99218750e-01,\n",
       "        1.25000000e-01,  5.68847656e-02, -1.67968750e-01,  1.30859375e-01,\n",
       "        2.90527344e-02, -1.49536133e-02, -1.39648438e-01,  4.07714844e-02,\n",
       "       -1.05590820e-02, -1.74804688e-01,  2.12890625e-01, -1.41601562e-01,\n",
       "        2.30712891e-02, -3.36914062e-02, -8.78906250e-02, -6.64062500e-02,\n",
       "       -6.93359375e-02, -7.42187500e-02,  7.03125000e-02, -2.01416016e-02,\n",
       "       -1.26953125e-01, -3.63769531e-02,  5.93261719e-02,  1.18164062e-01,\n",
       "       -6.34765625e-03, -7.42187500e-02,  3.19824219e-02,  6.68945312e-02,\n",
       "       -2.27539062e-01,  6.54296875e-02,  1.79443359e-02,  1.46484375e-01,\n",
       "       -5.49316406e-02, -1.15234375e-01, -2.16796875e-01,  8.74023438e-02,\n",
       "        2.61718750e-01,  1.54296875e-01,  6.71386719e-03, -2.78320312e-02,\n",
       "       -4.15039062e-03, -2.09960938e-02, -5.51757812e-02, -9.76562500e-03,\n",
       "       -1.29882812e-01,  1.31835938e-01, -8.42285156e-03,  2.29492188e-01,\n",
       "        1.78710938e-01,  1.94335938e-01,  4.68750000e-02,  2.18505859e-02,\n",
       "       -2.75878906e-02,  1.73828125e-01,  1.33789062e-01,  1.36718750e-01,\n",
       "        3.10546875e-01,  9.39941406e-03,  9.22851562e-02, -2.44140625e-01,\n",
       "       -5.10253906e-02,  7.81250000e-02, -1.43554688e-01,  9.17968750e-02,\n",
       "        2.96630859e-02,  9.46044922e-03, -2.04101562e-01,  1.60156250e-01,\n",
       "        1.43554688e-01, -2.02636719e-02,  2.13623047e-02, -6.98242188e-02,\n",
       "       -3.11279297e-03, -2.52685547e-02, -1.09863281e-01,  1.07910156e-01,\n",
       "       -7.03125000e-02, -1.27929688e-01, -5.07812500e-02,  4.27246094e-02,\n",
       "       -7.32421875e-02, -3.54003906e-02,  8.88671875e-02, -3.02734375e-01],\n",
       "      dtype=float32)"
      ]
     },
     "execution_count": 14,
     "metadata": {},
     "output_type": "execute_result"
    }
   ],
   "source": [
    "w2v['happy']"
   ]
  },
  {
   "cell_type": "code",
   "execution_count": 15,
   "id": "fe4fa606",
   "metadata": {},
   "outputs": [
    {
     "data": {
      "text/plain": [
       "[('glad', 0.7408890724182129),\n",
       " ('pleased', 0.6632170677185059),\n",
       " ('ecstatic', 0.6626912355422974),\n",
       " ('overjoyed', 0.6599286794662476),\n",
       " ('thrilled', 0.6514049172401428),\n",
       " ('satisfied', 0.6437949538230896),\n",
       " ('proud', 0.636042058467865),\n",
       " ('delighted', 0.627237856388092),\n",
       " ('disappointed', 0.6269949674606323),\n",
       " ('excited', 0.6247665286064148)]"
      ]
     },
     "execution_count": 15,
     "metadata": {},
     "output_type": "execute_result"
    }
   ],
   "source": [
    "# 'happy'와 가장 유사한 단어\n",
    "w2v.most_similar(positive=['happy'])"
   ]
  },
  {
   "cell_type": "code",
   "execution_count": 16,
   "id": "62272c72",
   "metadata": {},
   "outputs": [
    {
     "data": {
      "text/plain": [
       "1.2624874"
      ]
     },
     "execution_count": 16,
     "metadata": {},
     "output_type": "execute_result"
    }
   ],
   "source": [
    "# WEAT를 통해 이 \"모델의 편향성\"을 확인해보도록 하겠습니다. 논문에 있던 단어 셋으로 구성\n",
    "\n",
    "target_X = ['science', 'technology', 'physics', 'chemistry', 'Einstein', 'NASA', 'experiment', 'astronomy']\n",
    "target_Y = ['poetry', 'art', 'Shakespeare', 'dance', 'literature', 'novel', 'symphony', 'drama']\n",
    "attribute_A = ['brother', 'father', 'uncle', 'grandfather', 'son', 'he', 'his', 'him']\n",
    "attribute_B = ['sister', 'mother', 'aunt', 'grandmother', 'daughter', 'she', 'hers', 'her']\n",
    "\n",
    "X = np.array([w2v[word] for word in target_X])\n",
    "Y = np.array([w2v[word] for word in target_Y])\n",
    "A = np.array([w2v[word] for word in attribute_A])\n",
    "B = np.array([w2v[word] for word in attribute_B])\n",
    "\n",
    "weat_score(X, Y, A, B)"
   ]
  },
  {
   "cell_type": "markdown",
   "id": "87be9d21",
   "metadata": {},
   "source": [
    " -> \"모델 자체(GoogleNews-vectors-negative300.bin)\"의 편향성 : 1.26..."
   ]
  },
  {
   "cell_type": "markdown",
   "id": "7a9a9f8c",
   "metadata": {},
   "source": [
    "과학과 관련된 단어가 남성과 관련된 단어와 가깝고, 예술과 관련된 단어가 여성과 관련된 단어와 가깝게 나타났습니다. 사람의 편향성을 실험하는 IAT에서도 이와 같게 나타났었죠? 많은 사람이 가진 편향이 임베딩 모델에 반영되었다고 볼 수 있습니다.\n",
    "\n",
    "이제 다른 셋을 구성해볼까요? \n",
    "- target_X는 인스턴트 식품들로 단어를 구성하였고 \n",
    "- target_Y는 그 반대로 구성했습니다. \n",
    "- attribute_A는 인스턴트를 의미하는 단어들로, \n",
    "- attributes_B는 그 반대로 구성했습니다.\n",
    "\n",
    "이 단어 셋들을 보면 target_X는 attribute_A와 attribute_B 중 어떤 것과 가깝다고 생각하시나요?\n",
    "보통 target_X와 attribute_A가 가깝고, traget_Y는 attribute_B와 가깝다고 대답할 것입니다.\n",
    "임베딩 모델도 그렇게 생각할까요?"
   ]
  },
  {
   "cell_type": "code",
   "execution_count": 17,
   "id": "81ba1929",
   "metadata": {},
   "outputs": [
    {
     "data": {
      "text/plain": [
       "1.6909266"
      ]
     },
     "execution_count": 17,
     "metadata": {},
     "output_type": "execute_result"
    }
   ],
   "source": [
    "target_X = ['pizza', 'coke', 'hamburger', 'ham', 'ramen', 'icecream', 'candy']\n",
    "target_Y = ['salad', 'fruit', 'vegetable', 'herb', 'root', 'greens', 'wholesome']\n",
    "attribute_A = ['junk', 'canned', 'convenience', 'frozen', 'fast']\n",
    "attribute_B = ['health', 'beneficial', 'good', 'nourishing', 'nutritious']\n",
    "\n",
    "X = np.array([w2v[word] for word in target_X])\n",
    "Y = np.array([w2v[word] for word in target_Y])\n",
    "A = np.array([w2v[word] for word in attribute_A])\n",
    "B = np.array([w2v[word] for word in attribute_B])\n",
    "\n",
    "weat_score(X, Y, A, B) # 양수... X가 A에 가깝다.. 음수면 X가 B에 가깝다,,, 로 ..."
   ]
  },
  {
   "cell_type": "code",
   "execution_count": 18,
   "id": "6358568c",
   "metadata": {},
   "outputs": [
    {
     "data": {
      "text/plain": [
       "-1.6909268"
      ]
     },
     "execution_count": 18,
     "metadata": {},
     "output_type": "execute_result"
    }
   ],
   "source": [
    "weat_score(Y, X, A, B)"
   ]
  },
  {
   "cell_type": "code",
   "execution_count": 19,
   "id": "bb91c6cf",
   "metadata": {},
   "outputs": [
    {
     "name": "stdout",
     "output_type": "stream",
     "text": [
      "삭제 완료\n"
     ]
    }
   ],
   "source": [
    "# 메모리 비우기\n",
    "del w2v\n",
    "print(\"삭제 완료\")"
   ]
  },
  {
   "cell_type": "markdown",
   "id": "c8e85725",
   "metadata": {},
   "source": [
    "## 8-6. 직접 만드는 Word Embedding에 WEAT 적용(1)"
   ]
  },
  {
   "cell_type": "markdown",
   "id": "73f77461",
   "metadata": {},
   "source": [
    "## 8-7. 직접 만드는 Word Embedding에 WEAT 적용(2)\n"
   ]
  }
 ],
 "metadata": {
  "kernelspec": {
   "display_name": "Python 3 (ipykernel)",
   "language": "python",
   "name": "python3"
  },
  "language_info": {
   "codemirror_mode": {
    "name": "ipython",
    "version": 3
   },
   "file_extension": ".py",
   "mimetype": "text/x-python",
   "name": "python",
   "nbconvert_exporter": "python",
   "pygments_lexer": "ipython3",
   "version": "3.9.7"
  }
 },
 "nbformat": 4,
 "nbformat_minor": 5
}
