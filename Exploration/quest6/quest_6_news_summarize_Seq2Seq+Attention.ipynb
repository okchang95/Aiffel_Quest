{
 "cells": [
  {
   "cell_type": "code",
   "execution_count": 13,
   "id": "cc2d632a",
   "metadata": {},
   "outputs": [
    {
     "name": "stderr",
     "output_type": "stream",
     "text": [
      "[nltk_data] Downloading package stopwords to /aiffel/nltk_data...\n",
      "[nltk_data]   Unzipping corpora/stopwords.zip.\n"
     ]
    }
   ],
   "source": [
    "import nltk # 영어 기호, 통계, 자연어 처리를 위한 라이브러리\n",
    "nltk.download('stopwords') # NLTK의 불용어 사용\n",
    "\n",
    "import numpy as np\n",
    "import pandas as pd\n",
    "import os\n",
    "import re\n",
    "import matplotlib.pyplot as plt\n",
    "from nltk.corpus import stopwords\n",
    "from bs4 import BeautifulSoup \n",
    "from tensorflow.keras.preprocessing.text import Tokenizer \n",
    "from tensorflow.keras.preprocessing.sequence import pad_sequences\n",
    "import urllib.request\n",
    "import warnings\n",
    "warnings.filterwarnings(\"ignore\", category=UserWarning, module='bs4')"
   ]
  },
  {
   "cell_type": "code",
   "execution_count": 4,
   "id": "68bbaa63",
   "metadata": {},
   "outputs": [
    {
     "name": "stdout",
     "output_type": "stream",
     "text": [
      "불러온 샘플수 : 98401\n"
     ]
    }
   ],
   "source": [
    "import urllib.request\n",
    "urllib.request.urlretrieve(\"https://raw.githubusercontent.com/sunnysai12345/News_Summary/master/news_summary_more.csv\", filename=\"news_summary_more.csv\")\n",
    "data = pd.read_csv('news_summary_more.csv', encoding='iso-8859-1')\n",
    "print('불러온 샘플수 :', (len(data)))"
   ]
  },
  {
   "cell_type": "code",
   "execution_count": 5,
   "id": "9f18e445",
   "metadata": {},
   "outputs": [
    {
     "data": {
      "text/html": [
       "<div>\n",
       "<style scoped>\n",
       "    .dataframe tbody tr th:only-of-type {\n",
       "        vertical-align: middle;\n",
       "    }\n",
       "\n",
       "    .dataframe tbody tr th {\n",
       "        vertical-align: top;\n",
       "    }\n",
       "\n",
       "    .dataframe thead th {\n",
       "        text-align: right;\n",
       "    }\n",
       "</style>\n",
       "<table border=\"1\" class=\"dataframe\">\n",
       "  <thead>\n",
       "    <tr style=\"text-align: right;\">\n",
       "      <th></th>\n",
       "      <th>headlines</th>\n",
       "      <th>text</th>\n",
       "    </tr>\n",
       "  </thead>\n",
       "  <tbody>\n",
       "    <tr>\n",
       "      <th>46737</th>\n",
       "      <td>Transformation by transportation my vision for...</td>\n",
       "      <td>Speaking at an election rally in Nagaland, Pri...</td>\n",
       "    </tr>\n",
       "    <tr>\n",
       "      <th>80995</th>\n",
       "      <td>Sonam to be part of Harvard Business School pa...</td>\n",
       "      <td>Sonam Kapoor is set to join the Harvard Busine...</td>\n",
       "    </tr>\n",
       "    <tr>\n",
       "      <th>47914</th>\n",
       "      <td>Tease your taste buds with Cornetto Oreo this ...</td>\n",
       "      <td>Have you heard about Alia's new found love? Th...</td>\n",
       "    </tr>\n",
       "    <tr>\n",
       "      <th>73540</th>\n",
       "      <td>Will ensure Murthy, Infosys have good relation...</td>\n",
       "      <td>Infosys Co-founder Nandan Nilekani, who was ap...</td>\n",
       "    </tr>\n",
       "    <tr>\n",
       "      <th>12153</th>\n",
       "      <td>Aegon Life iTerm offers life cover upto 100 years</td>\n",
       "      <td>Safeguard yourself against life's unpleasant s...</td>\n",
       "    </tr>\n",
       "    <tr>\n",
       "      <th>115</th>\n",
       "      <td>Don't play around with the law, SC warns Karti...</td>\n",
       "      <td>The Supreme Court today allowed former Finance...</td>\n",
       "    </tr>\n",
       "    <tr>\n",
       "      <th>20301</th>\n",
       "      <td>Musk hires Morgan Stanley to help take Tesla p...</td>\n",
       "      <td>Tesla CEO Elon Musk has reportedly hired Ameri...</td>\n",
       "    </tr>\n",
       "    <tr>\n",
       "      <th>68701</th>\n",
       "      <td>Pakistani actor recreates Ranbir, Mahira's smo...</td>\n",
       "      <td>Pakistani actor Osman Khalid Butt recreated Ra...</td>\n",
       "    </tr>\n",
       "    <tr>\n",
       "      <th>94390</th>\n",
       "      <td>AI pilot grounded for 3 months after failing a...</td>\n",
       "      <td>An Air India pilot has been grounded for three...</td>\n",
       "    </tr>\n",
       "    <tr>\n",
       "      <th>5493</th>\n",
       "      <td>Case filed against MP CM over remark on UP, Bi...</td>\n",
       "      <td>A case has been filed in Bihar against Madhya ...</td>\n",
       "    </tr>\n",
       "  </tbody>\n",
       "</table>\n",
       "</div>"
      ],
      "text/plain": [
       "                                               headlines  \\\n",
       "46737  Transformation by transportation my vision for...   \n",
       "80995  Sonam to be part of Harvard Business School pa...   \n",
       "47914  Tease your taste buds with Cornetto Oreo this ...   \n",
       "73540  Will ensure Murthy, Infosys have good relation...   \n",
       "12153  Aegon Life iTerm offers life cover upto 100 years   \n",
       "115    Don't play around with the law, SC warns Karti...   \n",
       "20301  Musk hires Morgan Stanley to help take Tesla p...   \n",
       "68701  Pakistani actor recreates Ranbir, Mahira's smo...   \n",
       "94390  AI pilot grounded for 3 months after failing a...   \n",
       "5493   Case filed against MP CM over remark on UP, Bi...   \n",
       "\n",
       "                                                    text  \n",
       "46737  Speaking at an election rally in Nagaland, Pri...  \n",
       "80995  Sonam Kapoor is set to join the Harvard Busine...  \n",
       "47914  Have you heard about Alia's new found love? Th...  \n",
       "73540  Infosys Co-founder Nandan Nilekani, who was ap...  \n",
       "12153  Safeguard yourself against life's unpleasant s...  \n",
       "115    The Supreme Court today allowed former Finance...  \n",
       "20301  Tesla CEO Elon Musk has reportedly hired Ameri...  \n",
       "68701  Pakistani actor Osman Khalid Butt recreated Ra...  \n",
       "94390  An Air India pilot has been grounded for three...  \n",
       "5493   A case has been filed in Bihar against Madhya ...  "
      ]
     },
     "execution_count": 5,
     "metadata": {},
     "output_type": "execute_result"
    }
   ],
   "source": [
    "# #랜덤한 10개 샘플 출력\n",
    "data.sample(10)\n",
    "\n",
    "# 추상적 요약을 하는 경우에는 text(Text)를 본문, headlines(Summary)를 이미 요약된 데이터로 삼아서 모델을 학습"
   ]
  },
  {
   "cell_type": "markdown",
   "id": "0578866f",
   "metadata": {},
   "source": [
    "### 데이터 전처리"
   ]
  },
  {
   "cell_type": "code",
   "execution_count": 7,
   "id": "1178dff7",
   "metadata": {},
   "outputs": [
    {
     "name": "stdout",
     "output_type": "stream",
     "text": [
      "text 열에서 중복을 배제한 유일한 샘플의 수 : 98360\n",
      "headlines 열에서 중복을 배제한 유일한 샘플의 수 : 98280\n"
     ]
    }
   ],
   "source": [
    "# 중복 확인 \n",
    "print('text 열에서 중복을 배제한 유일한 샘플의 수 :', data['text'].nunique()) \n",
    "print('headlines 열에서 중복을 배제한 유일한 샘플의 수 :', data['headlines'].nunique())"
   ]
  },
  {
   "cell_type": "code",
   "execution_count": 8,
   "id": "a886bdf0",
   "metadata": {},
   "outputs": [
    {
     "name": "stdout",
     "output_type": "stream",
     "text": [
      "전체 샘플수 : 98360\n"
     ]
    }
   ],
   "source": [
    "# 중복 제거\n",
    "data.drop_duplicates(subset = ['text'], inplace=True)\n",
    "print('전체 샘플수 :', (len(data)))"
   ]
  },
  {
   "cell_type": "code",
   "execution_count": 9,
   "id": "61ac4af6",
   "metadata": {},
   "outputs": [
    {
     "name": "stdout",
     "output_type": "stream",
     "text": [
      "headlines    0\n",
      "text         0\n",
      "dtype: int64\n"
     ]
    }
   ],
   "source": [
    "# null값 확인 \n",
    "print(data.isnull().sum())"
   ]
  },
  {
   "cell_type": "code",
   "execution_count": 11,
   "id": "88cd452e",
   "metadata": {},
   "outputs": [
    {
     "name": "stdout",
     "output_type": "stream",
     "text": [
      "정규화 사전의 수:  120\n"
     ]
    }
   ],
   "source": [
    "# 텍스트 정규화 >> 연산량을 줄여줌\n",
    "contractions = {\"ain't\": \"is not\", \"aren't\": \"are not\",\"can't\": \"cannot\", \"'cause\": \"because\", \"could've\": \"could have\", \"couldn't\": \"could not\",\n",
    "                           \"didn't\": \"did not\",  \"doesn't\": \"does not\", \"don't\": \"do not\", \"hadn't\": \"had not\", \"hasn't\": \"has not\", \"haven't\": \"have not\",\n",
    "                           \"he'd\": \"he would\",\"he'll\": \"he will\", \"he's\": \"he is\", \"how'd\": \"how did\", \"how'd'y\": \"how do you\", \"how'll\": \"how will\", \"how's\": \"how is\",\n",
    "                           \"I'd\": \"I would\", \"I'd've\": \"I would have\", \"I'll\": \"I will\", \"I'll've\": \"I will have\",\"I'm\": \"I am\", \"I've\": \"I have\", \"i'd\": \"i would\",\n",
    "                           \"i'd've\": \"i would have\", \"i'll\": \"i will\",  \"i'll've\": \"i will have\",\"i'm\": \"i am\", \"i've\": \"i have\", \"isn't\": \"is not\", \"it'd\": \"it would\",\n",
    "                           \"it'd've\": \"it would have\", \"it'll\": \"it will\", \"it'll've\": \"it will have\",\"it's\": \"it is\", \"let's\": \"let us\", \"ma'am\": \"madam\",\n",
    "                           \"mayn't\": \"may not\", \"might've\": \"might have\",\"mightn't\": \"might not\",\"mightn't've\": \"might not have\", \"must've\": \"must have\",\n",
    "                           \"mustn't\": \"must not\", \"mustn't've\": \"must not have\", \"needn't\": \"need not\", \"needn't've\": \"need not have\",\"o'clock\": \"of the clock\",\n",
    "                           \"oughtn't\": \"ought not\", \"oughtn't've\": \"ought not have\", \"shan't\": \"shall not\", \"sha'n't\": \"shall not\", \"shan't've\": \"shall not have\",\n",
    "                           \"she'd\": \"she would\", \"she'd've\": \"she would have\", \"she'll\": \"she will\", \"she'll've\": \"she will have\", \"she's\": \"she is\",\n",
    "                           \"should've\": \"should have\", \"shouldn't\": \"should not\", \"shouldn't've\": \"should not have\", \"so've\": \"so have\",\"so's\": \"so as\",\n",
    "                           \"this's\": \"this is\",\"that'd\": \"that would\", \"that'd've\": \"that would have\", \"that's\": \"that is\", \"there'd\": \"there would\",\n",
    "                           \"there'd've\": \"there would have\", \"there's\": \"there is\", \"here's\": \"here is\",\"they'd\": \"they would\", \"they'd've\": \"they would have\",\n",
    "                           \"they'll\": \"they will\", \"they'll've\": \"they will have\", \"they're\": \"they are\", \"they've\": \"they have\", \"to've\": \"to have\",\n",
    "                           \"wasn't\": \"was not\", \"we'd\": \"we would\", \"we'd've\": \"we would have\", \"we'll\": \"we will\", \"we'll've\": \"we will have\", \"we're\": \"we are\",\n",
    "                           \"we've\": \"we have\", \"weren't\": \"were not\", \"what'll\": \"what will\", \"what'll've\": \"what will have\", \"what're\": \"what are\",\n",
    "                           \"what's\": \"what is\", \"what've\": \"what have\", \"when's\": \"when is\", \"when've\": \"when have\", \"where'd\": \"where did\", \"where's\": \"where is\",\n",
    "                           \"where've\": \"where have\", \"who'll\": \"who will\", \"who'll've\": \"who will have\", \"who's\": \"who is\", \"who've\": \"who have\",\n",
    "                           \"why's\": \"why is\", \"why've\": \"why have\", \"will've\": \"will have\", \"won't\": \"will not\", \"won't've\": \"will not have\",\n",
    "                           \"would've\": \"would have\", \"wouldn't\": \"would not\", \"wouldn't've\": \"would not have\", \"y'all\": \"you all\",\n",
    "                           \"y'all'd\": \"you all would\",\"y'all'd've\": \"you all would have\",\"y'all're\": \"you all are\",\"y'all've\": \"you all have\",\n",
    "                           \"you'd\": \"you would\", \"you'd've\": \"you would have\", \"you'll\": \"you will\", \"you'll've\": \"you will have\",\n",
    "                           \"you're\": \"you are\", \"you've\": \"you have\"}\n",
    "\n",
    "print(\"정규화 사전의 수: \", len(contractions))"
   ]
  },
  {
   "cell_type": "code",
   "execution_count": 14,
   "id": "4b6f0501",
   "metadata": {},
   "outputs": [
    {
     "name": "stdout",
     "output_type": "stream",
     "text": [
      "불용어 개수 : 179\n",
      "['i', 'me', 'my', 'myself', 'we', 'our', 'ours', 'ourselves', 'you', \"you're\", \"you've\", \"you'll\", \"you'd\", 'your', 'yours', 'yourself', 'yourselves', 'he', 'him', 'his', 'himself', 'she', \"she's\", 'her', 'hers', 'herself', 'it', \"it's\", 'its', 'itself', 'they', 'them', 'their', 'theirs', 'themselves', 'what', 'which', 'who', 'whom', 'this', 'that', \"that'll\", 'these', 'those', 'am', 'is', 'are', 'was', 'were', 'be', 'been', 'being', 'have', 'has', 'had', 'having', 'do', 'does', 'did', 'doing', 'a', 'an', 'the', 'and', 'but', 'if', 'or', 'because', 'as', 'until', 'while', 'of', 'at', 'by', 'for', 'with', 'about', 'against', 'between', 'into', 'through', 'during', 'before', 'after', 'above', 'below', 'to', 'from', 'up', 'down', 'in', 'out', 'on', 'off', 'over', 'under', 'again', 'further', 'then', 'once', 'here', 'there', 'when', 'where', 'why', 'how', 'all', 'any', 'both', 'each', 'few', 'more', 'most', 'other', 'some', 'such', 'no', 'nor', 'not', 'only', 'own', 'same', 'so', 'than', 'too', 'very', 's', 't', 'can', 'will', 'just', 'don', \"don't\", 'should', \"should've\", 'now', 'd', 'll', 'm', 'o', 're', 've', 'y', 'ain', 'aren', \"aren't\", 'couldn', \"couldn't\", 'didn', \"didn't\", 'doesn', \"doesn't\", 'hadn', \"hadn't\", 'hasn', \"hasn't\", 'haven', \"haven't\", 'isn', \"isn't\", 'ma', 'mightn', \"mightn't\", 'mustn', \"mustn't\", 'needn', \"needn't\", 'shan', \"shan't\", 'shouldn', \"shouldn't\", 'wasn', \"wasn't\", 'weren', \"weren't\", 'won', \"won't\", 'wouldn', \"wouldn't\"]\n"
     ]
    }
   ],
   "source": [
    "# NTLK의 불용어를 이용해서 제거 \n",
    "print('불용어 개수 :', len(stopwords.words('english') ))\n",
    "print(stopwords.words('english'))"
   ]
  },
  {
   "cell_type": "code",
   "execution_count": 16,
   "id": "ed07f549",
   "metadata": {},
   "outputs": [],
   "source": [
    "# 데이터 전처리 함수\n",
    "def preprocess_sentence(sentence, remove_stopwords=True):\n",
    "    sentence = sentence.lower() # 텍스트 소문자화\n",
    "    sentence = BeautifulSoup(sentence, \"lxml\").text # <br />, <a href = ...> 등의 html 태그 제거\n",
    "    sentence = re.sub(r'\\([^)]*\\)', '', sentence) # 괄호로 닫힌 문자열 (...) 제거 Ex) my husband (and myself!) for => my husband for\n",
    "    sentence = re.sub('\"','', sentence) # 쌍따옴표 \" 제거\n",
    "    sentence = ' '.join([contractions[t] if t in contractions else t for t in sentence.split(\" \")]) # 약어 정규화\n",
    "    sentence = re.sub(r\"'s\\b\",\"\", sentence) # 소유격 제거. Ex) roland's -> roland\n",
    "    sentence = re.sub(\"[^a-zA-Z]\", \" \", sentence) # 영어 외 문자(숫자, 특수문자 등) 공백으로 변환\n",
    "    sentence = re.sub('[m]{2,}', 'mm', sentence) # m이 3개 이상이면 2개로 변경. Ex) ummmmmmm yeah -> umm yeah\n",
    "    \n",
    "    # 불용어 제거 (Text)\n",
    "    if remove_stopwords:\n",
    "        tokens = ' '.join(word for word in sentence.split() if not word in stopwords.words('english') if len(word) > 1)\n",
    "    # 불용어 미제거 (headline)\n",
    "    else:\n",
    "        tokens = ' '.join(word for word in sentence.split() if len(word) > 1)\n",
    "    return tokens"
   ]
  },
  {
   "cell_type": "code",
   "execution_count": 17,
   "id": "79325c72",
   "metadata": {},
   "outputs": [
    {
     "name": "stdout",
     "output_type": "stream",
     "text": [
      "text:  everything bought great infact ordered twice third ordered wasfor mother father\n",
      "summary(headline): great way to start the day\n"
     ]
    }
   ],
   "source": [
    "temp_text = 'Everything I bought was great, infact I ordered twice and the third ordered was<br />for my mother and father.'\n",
    "temp_summary = 'Great way to start (or finish) the day!!!'\n",
    "\n",
    "print(\"text: \", preprocess_sentence(temp_text))\n",
    "print(\"summary(headline):\", preprocess_sentence(temp_summary, False))  # 불용어를 제거하지 않을 때, False"
   ]
  },
  {
   "cell_type": "markdown",
   "id": "8edfba0a",
   "metadata": {},
   "source": [
    "**위의 결과를 통해 알 수 있는 것들**  \n",
    "\n",
    "    * 알파벳이 모두 소문자로 변환\n",
    "    * <br />과 같은 html 태그 제거\n",
    "    * (or finish)와 같은 괄호로 묶인 단어  시퀀스 제거 \n",
    "    * 특수문자 제거"
   ]
  },
  {
   "cell_type": "code",
   "execution_count": 18,
   "id": "cf8e9228",
   "metadata": {},
   "outputs": [
    {
     "name": "stdout",
     "output_type": "stream",
     "text": [
      "Text 전처리 후 결과:  ['saurav kant alumnus upgrad iiit pg program machine learning artificial intelligence sr systems engineer infosys almost years work experience program upgrad degree career support helped transition data scientist tech mahindra salary hike upgrad online power learning powered lakh careers', 'kunal shah credit card bill payment platform cred gave users chance win free food swiggy one year pranav kaushik delhi techie bagged reward spending cred coins users get one cred coin per rupee bill paid used avail rewards brands like ixigo bookmyshow ubereats cult fit', 'new zealand defeated india wickets fourth odi hamilton thursday win first match five match odi series india lost international match rohit sharma captaincy consecutive victories dating back march match witnessed india getting seventh lowest total odi cricket history', 'aegon life iterm insurance plan customers enjoy tax benefits premiums paid save taxes plan provides life cover age years also customers options insure critical illnesses disability accidental death benefit rider life cover age years', 'speaking sexual harassment allegations rajkumar hirani sonam kapoor said known hirani many years true metoo movement get derailed metoo movement always believe woman case need reserve judgment added hirani accused assistant worked sanju']\n"
     ]
    }
   ],
   "source": [
    "# 전체 Text 데이터에 대한 전처리\n",
    "\n",
    "clean_text = [preprocess_sentence(sentence) for sentence in data['text']]\n",
    "\n",
    "# 전처리 후 출력\n",
    "print(\"Text 전처리 후 결과: \", clean_text[:5])"
   ]
  },
  {
   "cell_type": "code",
   "execution_count": 19,
   "id": "42a58604",
   "metadata": {},
   "outputs": [],
   "source": [
    "import copy\n",
    "clean_text_copy = copy.deepcopy(clean_text)"
   ]
  },
  {
   "cell_type": "code",
   "execution_count": 20,
   "id": "716ed076",
   "metadata": {},
   "outputs": [
    {
     "name": "stdout",
     "output_type": "stream",
     "text": [
      "Summary 전처리 후 결과:  ['upgrad learner switches to career in ml al with salary hike', 'delhi techie wins free food from swiggy for one year on cred', 'new zealand end rohit sharma led india match winning streak', 'aegon life iterm insurance plan helps customers save tax', 'have known hirani for yrs what if metoo claims are not true sonam']\n"
     ]
    }
   ],
   "source": [
    "# 전체 Summary 데이터에 대한 전처리 \n",
    "\n",
    "clean_summary = [preprocess_sentence(sentence, False) for sentence in data['headlines']]\n",
    "\n",
    "print(\"Summary 전처리 후 결과: \", clean_summary[:5])"
   ]
  },
  {
   "cell_type": "code",
   "execution_count": 21,
   "id": "465a6ad2",
   "metadata": {},
   "outputs": [],
   "source": [
    "clean_summary_copy = copy.deepcopy(clean_summary)"
   ]
  },
  {
   "cell_type": "code",
   "execution_count": 22,
   "id": "70ca60c5",
   "metadata": {},
   "outputs": [],
   "source": [
    "data['text'] = clean_text\n",
    "data['headlines'] = clean_summary\n",
    "\n",
    "# 텍스트 정제 이후에는 다시 한번 empty 값 존재를 확인해 보는 것이 좋음\n",
    "# 만약 empty 값을 가진 샘플이 있다면 모두 Null 값으로 변환\n",
    "data.replace('', np.nan, inplace=True)"
   ]
  },
  {
   "cell_type": "code",
   "execution_count": 23,
   "id": "be3fb379",
   "metadata": {},
   "outputs": [
    {
     "data": {
      "text/plain": [
       "headlines    0\n",
       "text         0\n",
       "dtype: int64"
      ]
     },
     "execution_count": 23,
     "metadata": {},
     "output_type": "execute_result"
    }
   ],
   "source": [
    "# null 값 확인\n",
    "data.isnull().sum()"
   ]
  },
  {
   "cell_type": "code",
   "execution_count": 24,
   "id": "aed98577",
   "metadata": {
    "scrolled": true
   },
   "outputs": [
    {
     "name": "stdout",
     "output_type": "stream",
     "text": [
      "전체 샘플수 : 98360\n"
     ]
    }
   ],
   "source": [
    "print('전체 샘플수 :', (len(data)))"
   ]
  },
  {
   "cell_type": "markdown",
   "id": "f14773a6",
   "metadata": {},
   "source": [
    "##### 샘플의 최대 길이 정하기"
   ]
  },
  {
   "cell_type": "code",
   "execution_count": 25,
   "id": "be2b3f61",
   "metadata": {},
   "outputs": [
    {
     "name": "stdout",
     "output_type": "stream",
     "text": [
      "텍스트의 최소 길이 : 1\n",
      "텍스트의 최대 길이 : 60\n",
      "텍스트의 평균 길이 : 35.09968483123221\n",
      "요약의 최소 길이 : 1\n",
      "요약의 최대 길이 : 16\n",
      "요약의 평균 길이 : 9.299532330215534\n"
     ]
    },
    {
     "data": {
      "image/png": "[encoded data removed]",
      "text/plain": [
       "<Figure size 432x288 with 2 Axes>"
      ]
     },
     "metadata": {
      "needs_background": "light"
     },
     "output_type": "display_data"
    },
    {
     "data": {
      "image/png": "[encoded data removed]",
      "text/plain": [
       "<Figure size 432x288 with 1 Axes>"
      ]
     },
     "metadata": {
      "needs_background": "light"
     },
     "output_type": "display_data"
    },
    {
     "data": {
      "image/png": "[encoded data removed]",
      "text/plain": [
       "<Figure size 432x288 with 1 Axes>"
      ]
     },
     "metadata": {
      "needs_background": "light"
     },
     "output_type": "display_data"
    }
   ],
   "source": [
    "# 길이 분포 출력\n",
    "import matplotlib.pyplot as plt\n",
    "\n",
    "text_len = [len(s.split()) for s in data['text']]\n",
    "summary_len = [len(s.split()) for s in data['headlines']]\n",
    "\n",
    "print('텍스트의 최소 길이 : {}'.format(np.min(text_len)))\n",
    "print('텍스트의 최대 길이 : {}'.format(np.max(text_len)))\n",
    "print('텍스트의 평균 길이 : {}'.format(np.mean(text_len)))\n",
    "print('요약의 최소 길이 : {}'.format(np.min(summary_len)))\n",
    "print('요약의 최대 길이 : {}'.format(np.max(summary_len)))\n",
    "print('요약의 평균 길이 : {}'.format(np.mean(summary_len)))\n",
    "\n",
    "plt.subplot(1,2,1)\n",
    "plt.boxplot(text_len)\n",
    "plt.title('text')\n",
    "plt.subplot(1,2,2)\n",
    "plt.boxplot(summary_len)\n",
    "plt.title('headlines')\n",
    "plt.tight_layout()\n",
    "plt.show()\n",
    "\n",
    "plt.title('text')\n",
    "plt.hist(text_len, bins = 40)\n",
    "plt.xlabel('length of samples')\n",
    "plt.ylabel('number of samples')\n",
    "plt.show()\n",
    "\n",
    "plt.title('headlines')\n",
    "plt.hist(summary_len, bins = 40)\n",
    "plt.xlabel('length of samples')\n",
    "plt.ylabel('number of samples')\n",
    "plt.show()"
   ]
  },
  {
   "cell_type": "code",
   "execution_count": 26,
   "id": "38791175",
   "metadata": {},
   "outputs": [],
   "source": [
    "# 임의로 적절하게 정함\n",
    "text_max_len = 40\n",
    "summary_max_len = 10"
   ]
  },
  {
   "cell_type": "code",
   "execution_count": 27,
   "id": "853693fd",
   "metadata": {},
   "outputs": [],
   "source": [
    "# 임의로 정한 값에 의해서 샘플이 몇 % 를 포함하는지 확인 \n",
    "def below_threshold_len(max_len, nested_list):\n",
    "  cnt = 0\n",
    "  for s in nested_list:\n",
    "    if(len(s.split()) <= max_len):\n",
    "        cnt = cnt + 1\n",
    "  print('전체 샘플 중 길이가 %s 이하인 샘플의 비율: %s'%(max_len, (cnt / len(nested_list))))"
   ]
  },
  {
   "cell_type": "code",
   "execution_count": 29,
   "id": "7171788a",
   "metadata": {},
   "outputs": [
    {
     "name": "stdout",
     "output_type": "stream",
     "text": [
      "전체 샘플 중 길이가 40 이하인 샘플의 비율: 0.9238714924766165\n",
      "전체 샘플 중 길이가 10 이하인 샘플의 비율: 0.8162972753151687\n"
     ]
    }
   ],
   "source": [
    "below_threshold_len(text_max_len, data['text'])\n",
    "below_threshold_len(summary_max_len,  data['headlines'])"
   ]
  },
  {
   "cell_type": "code",
   "execution_count": 30,
   "id": "e638830e",
   "metadata": {},
   "outputs": [
    {
     "name": "stdout",
     "output_type": "stream",
     "text": [
      "전체 샘플 수  74102\n"
     ]
    }
   ],
   "source": [
    "# 정해진 길이에 맞추지 않고 정해진 길이보다 길면 제외하는 방식으로 데이터 정제\n",
    "\n",
    "data = data[data.apply(lambda x:len(x['text'].split()) <= text_max_len and len(x['headlines'].split()) <= summary_max_len, axis = 1)]\n",
    "\n",
    "print('전체 샘플 수 ', (len(data)))"
   ]
  },
  {
   "cell_type": "markdown",
   "id": "c1a61bb4",
   "metadata": {},
   "source": [
    "##### 시작 토큰과 종료 토큰 추가\n",
    "    * 디코더는 시작 토큰을 입력 받아 문자 생성 시작, 종료 토큰에 문장 생성을 멈춤 \n",
    "    * 시작 토큰 : sostoken >> decoder input\n",
    "    * 종료 토큰 : eostoken >> decoder target\n",
    "    * Summary로 만듬"
   ]
  },
  {
   "cell_type": "code",
   "execution_count": 31,
   "id": "026dcdf1",
   "metadata": {},
   "outputs": [
    {
     "name": "stderr",
     "output_type": "stream",
     "text": [
      "/tmp/ipykernel_54/417454917.py:2: SettingWithCopyWarning: \n",
      "A value is trying to be set on a copy of a slice from a DataFrame.\n",
      "Try using .loc[row_indexer,col_indexer] = value instead\n",
      "\n",
      "See the caveats in the documentation: https://pandas.pydata.org/pandas-docs/stable/user_guide/indexing.html#returning-a-view-versus-a-copy\n",
      "  data['decoder_input'] = data['headlines'].apply(lambda x : 'sostoken '+ x)\n",
      "/tmp/ipykernel_54/417454917.py:3: SettingWithCopyWarning: \n",
      "A value is trying to be set on a copy of a slice from a DataFrame.\n",
      "Try using .loc[row_indexer,col_indexer] = value instead\n",
      "\n",
      "See the caveats in the documentation: https://pandas.pydata.org/pandas-docs/stable/user_guide/indexing.html#returning-a-view-versus-a-copy\n",
      "  data['decoder_target'] = data['headlines'].apply(lambda x : x + ' eostoken')\n"
     ]
    },
    {
     "data": {
      "text/html": [
       "<div>\n",
       "<style scoped>\n",
       "    .dataframe tbody tr th:only-of-type {\n",
       "        vertical-align: middle;\n",
       "    }\n",
       "\n",
       "    .dataframe tbody tr th {\n",
       "        vertical-align: top;\n",
       "    }\n",
       "\n",
       "    .dataframe thead th {\n",
       "        text-align: right;\n",
       "    }\n",
       "</style>\n",
       "<table border=\"1\" class=\"dataframe\">\n",
       "  <thead>\n",
       "    <tr style=\"text-align: right;\">\n",
       "      <th></th>\n",
       "      <th>headlines</th>\n",
       "      <th>text</th>\n",
       "      <th>decoder_input</th>\n",
       "      <th>decoder_target</th>\n",
       "    </tr>\n",
       "  </thead>\n",
       "  <tbody>\n",
       "    <tr>\n",
       "      <th>2</th>\n",
       "      <td>new zealand end rohit sharma led india match w...</td>\n",
       "      <td>new zealand defeated india wickets fourth odi ...</td>\n",
       "      <td>sostoken new zealand end rohit sharma led indi...</td>\n",
       "      <td>new zealand end rohit sharma led india match w...</td>\n",
       "    </tr>\n",
       "    <tr>\n",
       "      <th>3</th>\n",
       "      <td>aegon life iterm insurance plan helps customer...</td>\n",
       "      <td>aegon life iterm insurance plan customers enjo...</td>\n",
       "      <td>sostoken aegon life iterm insurance plan helps...</td>\n",
       "      <td>aegon life iterm insurance plan helps customer...</td>\n",
       "    </tr>\n",
       "    <tr>\n",
       "      <th>5</th>\n",
       "      <td>rahat fateh ali khan denies getting notice for...</td>\n",
       "      <td>pakistani singer rahat fateh ali khan denied r...</td>\n",
       "      <td>sostoken rahat fateh ali khan denies getting n...</td>\n",
       "      <td>rahat fateh ali khan denies getting notice for...</td>\n",
       "    </tr>\n",
       "    <tr>\n",
       "      <th>9</th>\n",
       "      <td>cong wins ramgarh bypoll in rajasthan takes to...</td>\n",
       "      <td>congress candidate shafia zubair ramgarh assem...</td>\n",
       "      <td>sostoken cong wins ramgarh bypoll in rajasthan...</td>\n",
       "      <td>cong wins ramgarh bypoll in rajasthan takes to...</td>\n",
       "    </tr>\n",
       "    <tr>\n",
       "      <th>10</th>\n",
       "      <td>up cousins fed human excreta for friendship wi...</td>\n",
       "      <td>two minor cousins uttar pradesh gorakhpur alle...</td>\n",
       "      <td>sostoken up cousins fed human excreta for frie...</td>\n",
       "      <td>up cousins fed human excreta for friendship wi...</td>\n",
       "    </tr>\n",
       "  </tbody>\n",
       "</table>\n",
       "</div>"
      ],
      "text/plain": [
       "                                            headlines  \\\n",
       "2   new zealand end rohit sharma led india match w...   \n",
       "3   aegon life iterm insurance plan helps customer...   \n",
       "5   rahat fateh ali khan denies getting notice for...   \n",
       "9   cong wins ramgarh bypoll in rajasthan takes to...   \n",
       "10  up cousins fed human excreta for friendship wi...   \n",
       "\n",
       "                                                 text  \\\n",
       "2   new zealand defeated india wickets fourth odi ...   \n",
       "3   aegon life iterm insurance plan customers enjo...   \n",
       "5   pakistani singer rahat fateh ali khan denied r...   \n",
       "9   congress candidate shafia zubair ramgarh assem...   \n",
       "10  two minor cousins uttar pradesh gorakhpur alle...   \n",
       "\n",
       "                                        decoder_input  \\\n",
       "2   sostoken new zealand end rohit sharma led indi...   \n",
       "3   sostoken aegon life iterm insurance plan helps...   \n",
       "5   sostoken rahat fateh ali khan denies getting n...   \n",
       "9   sostoken cong wins ramgarh bypoll in rajasthan...   \n",
       "10  sostoken up cousins fed human excreta for frie...   \n",
       "\n",
       "                                       decoder_target  \n",
       "2   new zealand end rohit sharma led india match w...  \n",
       "3   aegon life iterm insurance plan helps customer...  \n",
       "5   rahat fateh ali khan denies getting notice for...  \n",
       "9   cong wins ramgarh bypoll in rajasthan takes to...  \n",
       "10  up cousins fed human excreta for friendship wi...  "
      ]
     },
     "execution_count": 31,
     "metadata": {},
     "output_type": "execute_result"
    }
   ],
   "source": [
    "# 시작, 종료 토큰 추가 \n",
    "data['decoder_input'] = data['headlines'].apply(lambda x : 'sostoken '+ x)\n",
    "data['decoder_target'] = data['headlines'].apply(lambda x : x + ' eostoken')\n",
    "data.head()"
   ]
  },
  {
   "cell_type": "code",
   "execution_count": 32,
   "id": "305f55a6",
   "metadata": {},
   "outputs": [],
   "source": [
    "# numpy 타입으로 저장\n",
    "encoder_input = np.array(data['text']) # 인코더의 입력\n",
    "decoder_input = np.array(data['decoder_input']) # 디코더의 입력\n",
    "decoder_target = np.array(data['decoder_target']) # 디코더의 레이블"
   ]
  },
  {
   "cell_type": "code",
   "execution_count": 33,
   "id": "f4d635b4",
   "metadata": {},
   "outputs": [
    {
     "name": "stdout",
     "output_type": "stream",
     "text": [
      "[42468 23015 57898 ... 17331 19164 68216]\n"
     ]
    }
   ],
   "source": [
    "# encoder_input과 크기와 형태가 같은 순서가 섞인 정수 시퀀스를 만들어 줌\n",
    "indices = np.arange(encoder_input.shape[0])\n",
    "np.random.shuffle(indices)\n",
    "print(indices)"
   ]
  },
  {
   "cell_type": "code",
   "execution_count": 34,
   "id": "3c7bf294",
   "metadata": {},
   "outputs": [],
   "source": [
    "# 만든 정수 시퀀스를 이용해 다시 데이터의 샘플 순서를 정의해 주면 잘 섞인 샘플로 만듬\n",
    "encoder_input = encoder_input[indices]\n",
    "decoder_input = decoder_input[indices]\n",
    "decoder_target = decoder_target[indices]"
   ]
  },
  {
   "cell_type": "code",
   "execution_count": 35,
   "id": "bcadaf51",
   "metadata": {},
   "outputs": [
    {
     "name": "stdout",
     "output_type": "stream",
     "text": [
      "테스트 데이터의 수 : 14820\n"
     ]
    }
   ],
   "source": [
    "# 8:2 비율로 만듬\n",
    "n_of_val = int(len(encoder_input)*0.2)\n",
    "print('테스트 데이터의 수 :', n_of_val)"
   ]
  },
  {
   "cell_type": "code",
   "execution_count": 36,
   "id": "6d1aef49",
   "metadata": {},
   "outputs": [
    {
     "name": "stdout",
     "output_type": "stream",
     "text": [
      "훈련 데이터의 개수 : 59282\n",
      "훈련 레이블의 개수 : 59282\n",
      "테스트 데이터의 개수 : 14820\n",
      "테스트 레이블의 개수 : 14820\n"
     ]
    }
   ],
   "source": [
    "# 훈련, 테스트 셋으로 만들기 \n",
    "encoder_input_train = encoder_input[:-n_of_val]\n",
    "decoder_input_train = decoder_input[:-n_of_val]\n",
    "decoder_target_train = decoder_target[:-n_of_val]\n",
    "\n",
    "encoder_input_test = encoder_input[-n_of_val:]\n",
    "decoder_input_test = decoder_input[-n_of_val:]\n",
    "decoder_target_test = decoder_target[-n_of_val:]\n",
    "\n",
    "print('훈련 데이터의 개수 :', len(encoder_input_train))\n",
    "print('훈련 레이블의 개수 :', len(decoder_input_train))\n",
    "print('테스트 데이터의 개수 :', len(encoder_input_test))\n",
    "print('테스트 레이블의 개수 :', len(decoder_input_test))"
   ]
  },
  {
   "cell_type": "markdown",
   "id": "6694912c",
   "metadata": {},
   "source": [
    "##### 정수 인코딩\n",
    "    * 모델 학습을 위해 훈련 데이터와 테스트 데이터의 단어들을 모두 정수로 바꿔주기\n",
    "    * 단어 집합(vocabulary) 만들기 :  각 단어에 고유한 정수를 맵핑하는 작업을 말함\n",
    "    * keras의 토크나이저를 사용해서, 훈련 데이터로 부터 단어 집합 만들기\n",
    "    * 만들어진 단어 집합은 src_tokenizer.word_index에 저장되어 있음\n",
    "    * 빈도 수 낮은 단어는 제외하고 학습 진행\n",
    "    * src_tokenizer.word_counts.items() : 단어와 각 단어의 등장 빈도수가 저장\n",
    "    * texts_to_sequences() : 주어진 텍스트 데이터의 단어들을 모두 정수로 변환하는 정수 인코딩을 수행 >> 이후에는 데이터에 존재하지 않음"
   ]
  },
  {
   "cell_type": "code",
   "execution_count": 37,
   "id": "88bc0b07",
   "metadata": {},
   "outputs": [],
   "source": [
    "src_tokenizer = Tokenizer() # 토크나이저 정의\n",
    "src_tokenizer.fit_on_texts(encoder_input_train) # 입력된 데이터로부터 단어 집합 생성"
   ]
  },
  {
   "cell_type": "code",
   "execution_count": 38,
   "id": "16a8dd6c",
   "metadata": {
    "scrolled": true
   },
   "outputs": [
    {
     "name": "stdout",
     "output_type": "stream",
     "text": [
      "단어 집합(vocabulary)의 크기 : 61595\n",
      "등장 빈도가 6번 이하인 희귀 단어의 수: 42251\n",
      "단어 집합에서 희귀 단어를 제외시킬 경우의 단어 집합의 크기 19344\n",
      "단어 집합에서 희귀 단어의 비율: 68.59485347836674\n",
      "전체 등장 빈도에서 희귀 단어 등장 빈도 비율: 4.18821068427166\n"
     ]
    }
   ],
   "source": [
    "threshold = 7\n",
    "total_cnt = len(src_tokenizer.word_index) # 단어의 수\n",
    "rare_cnt = 0 # 등장 빈도수가 threshold보다 작은 단어의 개수를 카운트\n",
    "total_freq = 0 # 훈련 데이터의 전체 단어 빈도수 총 합\n",
    "rare_freq = 0 # 등장 빈도수가 threshold보다 작은 단어의 등장 빈도수의 총 합\n",
    "\n",
    "# 단어와 빈도수의 쌍(pair)을 key와 value로 받는다.\n",
    "for key, value in src_tokenizer.word_counts.items():\n",
    "    total_freq = total_freq + value\n",
    "\n",
    "    # 단어의 등장 빈도수가 threshold보다 작으면\n",
    "    if(value < threshold):\n",
    "        rare_cnt = rare_cnt + 1\n",
    "        rare_freq = rare_freq + value\n",
    "\n",
    "print('단어 집합(vocabulary)의 크기 :', total_cnt)\n",
    "print('등장 빈도가 %s번 이하인 희귀 단어의 수: %s'%(threshold - 1, rare_cnt))\n",
    "print('단어 집합에서 희귀 단어를 제외시킬 경우의 단어 집합의 크기 %s'%(total_cnt - rare_cnt))\n",
    "print(\"단어 집합에서 희귀 단어의 비율:\", (rare_cnt / total_cnt)*100)\n",
    "print(\"전체 등장 빈도에서 희귀 단어 등장 빈도 비율:\", (rare_freq / total_freq)*100)"
   ]
  },
  {
   "cell_type": "markdown",
   "id": "578cb0d6",
   "metadata": {},
   "source": [
    "**위의 결과에서 알 수 있는 것들**   \n",
    "\n",
    "    * threshold인 7회 미만인 단어들이 68% 이상 차지\n",
    "    * 해당 단어들을 정수 인코딩 과정에서 빼고 훈련 데이터에서 제거하기 \n"
   ]
  },
  {
   "cell_type": "code",
   "execution_count": 39,
   "id": "c76d47d6",
   "metadata": {},
   "outputs": [],
   "source": [
    "src_vocab = 9000 # 제거 후 단어 집합의 크기를 약 9000개로 제한 \n",
    "src_tokenizer = Tokenizer(num_words=src_vocab) # 단어 집합의 크기를 약 9,000으로 제한\n",
    "src_tokenizer.fit_on_texts(encoder_input_train) # 단어 집합 재생성"
   ]
  },
  {
   "cell_type": "code",
   "execution_count": 40,
   "id": "673f5b7e",
   "metadata": {},
   "outputs": [
    {
     "name": "stdout",
     "output_type": "stream",
     "text": [
      "[[5744, 4335, 4087, 1373, 2764, 247, 3246, 2880, 197, 7, 68, 1, 7482, 7968, 258, 688, 1215, 3656, 426, 6543, 2378, 394, 6544, 292, 1, 4335, 2777, 699, 84, 6545, 1936, 5744, 8821, 863], [22, 43, 5668, 519, 1491, 892, 608, 278, 333, 139, 190, 66, 28, 2, 36, 22, 105, 1161, 278, 73, 3, 54, 231, 593, 28, 2, 5, 540, 1139, 946, 253, 66, 66, 1264, 35, 134], [13, 57, 119, 47, 922, 1238, 57, 22, 266, 5086, 6981, 6546, 143, 1313, 154, 1783, 7483, 89, 3, 2314, 103, 57, 22, 266, 1720, 314, 595, 324, 5325, 283, 413]]\n"
     ]
    }
   ],
   "source": [
    "# 텍스트 시퀀스를 정수 시퀀스로 변환\n",
    "encoder_input_train = src_tokenizer.texts_to_sequences(encoder_input_train) \n",
    "encoder_input_test = src_tokenizer.texts_to_sequences(encoder_input_test)\n",
    "\n",
    "# 잘 진행되었는지 샘플 출력 >> 정수 출력 \n",
    "print(encoder_input_train[:3])"
   ]
  },
  {
   "cell_type": "code",
   "execution_count": 41,
   "id": "699103e5",
   "metadata": {},
   "outputs": [],
   "source": [
    "## headlines에도 동일한 작업 수행 \n",
    "\n",
    "tar_tokenizer = Tokenizer()\n",
    "tar_tokenizer.fit_on_texts(decoder_input_train)"
   ]
  },
  {
   "cell_type": "code",
   "execution_count": 42,
   "id": "e31ec1c7",
   "metadata": {},
   "outputs": [
    {
     "name": "stdout",
     "output_type": "stream",
     "text": [
      "단어 집합(vocabulary)의 크기 : 27213\n",
      "등장 빈도가 5번 이하인 희귀 단어의 수: 18128\n",
      "단어 집합에서 희귀 단어를 제외시킬 경우의 단어 집합의 크기 9085\n",
      "단어 집합에서 희귀 단어의 비율: 66.61522066659317\n",
      "전체 등장 빈도에서 희귀 단어 등장 빈도 비율: 5.951075343559008\n"
     ]
    }
   ],
   "source": [
    "threshold = 6\n",
    "total_cnt = len(tar_tokenizer.word_index) # 단어의 수\n",
    "rare_cnt = 0 # 등장 빈도수가 threshold보다 작은 단어의 개수를 카운트\n",
    "total_freq = 0 # 훈련 데이터의 전체 단어 빈도수 총 합\n",
    "rare_freq = 0 # 등장 빈도수가 threshold보다 작은 단어의 등장 빈도수의 총 합\n",
    "\n",
    "# 단어와 빈도수의 쌍(pair)을 key와 value로 받는다.\n",
    "for key, value in tar_tokenizer.word_counts.items():\n",
    "    total_freq = total_freq + value\n",
    "\n",
    "    # 단어의 등장 빈도수가 threshold보다 작으면\n",
    "    if(value < threshold):\n",
    "        rare_cnt = rare_cnt + 1\n",
    "        rare_freq = rare_freq + value\n",
    "\n",
    "print('단어 집합(vocabulary)의 크기 :', total_cnt)\n",
    "print('등장 빈도가 %s번 이하인 희귀 단어의 수: %s'%(threshold - 1, rare_cnt))\n",
    "print('단어 집합에서 희귀 단어를 제외시킬 경우의 단어 집합의 크기 %s'%(total_cnt - rare_cnt))\n",
    "print(\"단어 집합에서 희귀 단어의 비율:\", (rare_cnt / total_cnt)*100)\n",
    "print(\"전체 등장 빈도에서 희귀 단어 등장 빈도 비율:\", (rare_freq / total_freq)*100)"
   ]
  },
  {
   "cell_type": "code",
   "execution_count": 43,
   "id": "74144332",
   "metadata": {},
   "outputs": [
    {
     "name": "stdout",
     "output_type": "stream",
     "text": [
      "input\n",
      "input  [[1, 11, 130, 163, 49], [1, 1500, 1064, 88, 142, 179, 4, 24, 105], [1, 610, 489, 7, 8, 1582, 13], [1, 1673, 95, 515, 104], [1, 30, 21, 3, 1916, 22, 5, 521, 4]]\n",
      "target\n",
      "decoder  [[11, 130, 163, 49, 2], [1500, 1064, 88, 142, 179, 4, 24, 105, 2], [610, 489, 7, 8, 1582, 13, 2], [1673, 95, 515, 104, 2], [30, 21, 3, 1916, 22, 5, 521, 4, 2]]\n"
     ]
    }
   ],
   "source": [
    "tar_vocab = 2000\n",
    "tar_tokenizer = Tokenizer(num_words=tar_vocab) \n",
    "tar_tokenizer.fit_on_texts(decoder_input_train)\n",
    "tar_tokenizer.fit_on_texts(decoder_target_train)\n",
    "\n",
    "# 텍스트 시퀀스를 정수 시퀀스로 변환\n",
    "decoder_input_train = tar_tokenizer.texts_to_sequences(decoder_input_train) \n",
    "decoder_target_train = tar_tokenizer.texts_to_sequences(decoder_target_train)\n",
    "decoder_input_test = tar_tokenizer.texts_to_sequences(decoder_input_test)\n",
    "decoder_target_test = tar_tokenizer.texts_to_sequences(decoder_target_test)\n",
    "\n",
    "# 잘 변환되었는지 확인\n",
    "print('input')\n",
    "print('input ',decoder_input_train[:5])\n",
    "print('target')\n",
    "print('decoder ',decoder_target_train[:5])"
   ]
  },
  {
   "cell_type": "markdown",
   "id": "830d4e29",
   "metadata": {},
   "source": [
    "**패딩 하기 전에 점검해야 할 것**    \n",
    "\n",
    "    * summary는 원래 평균 길이가 짧아서 빈도수가 낮은 단어로 구성된 문장은 empty 샘플이 됐을 가능성이 높으니 확인하기  \n",
    "    * 실제 길이가 0이 된 decoder_input, decoder_target은 길이가 1로 나올 것 >> sostoken, eostoken이 있으니까   \n",
    "    * drop_train, drop_test라는 변수에 길이가 1인 경우를 저장 "
   ]
  },
  {
   "cell_type": "code",
   "execution_count": 44,
   "id": "aa31945e",
   "metadata": {},
   "outputs": [
    {
     "name": "stdout",
     "output_type": "stream",
     "text": [
      "삭제할 훈련 데이터의 개수 : 10\n",
      "삭제할 테스트 데이터의 개수 : 3\n",
      "훈련 데이터의 개수 : 59272\n",
      "훈련 레이블의 개수 : 59272\n",
      "테스트 데이터의 개수 : 14817\n",
      "테스트 레이블의 개수 : 14817\n"
     ]
    }
   ],
   "source": [
    "drop_train = [index for index, sentence in enumerate(decoder_input_train) if len(sentence) == 1]\n",
    "drop_test = [index for index, sentence in enumerate(decoder_input_test) if len(sentence) == 1]\n",
    "\n",
    "print('삭제할 훈련 데이터의 개수 :', len(drop_train))\n",
    "print('삭제할 테스트 데이터의 개수 :', len(drop_test))\n",
    "\n",
    "encoder_input_train = [sentence for index, sentence in enumerate(encoder_input_train) if index not in drop_train]\n",
    "decoder_input_train = [sentence for index, sentence in enumerate(decoder_input_train) if index not in drop_train]\n",
    "decoder_target_train = [sentence for index, sentence in enumerate(decoder_target_train) if index not in drop_train]\n",
    "\n",
    "encoder_input_test = [sentence for index, sentence in enumerate(encoder_input_test) if index not in drop_test]\n",
    "decoder_input_test = [sentence for index, sentence in enumerate(decoder_input_test) if index not in drop_test]\n",
    "decoder_target_test = [sentence for index, sentence in enumerate(decoder_target_test) if index not in drop_test]\n",
    "\n",
    "print('훈련 데이터의 개수 :', len(encoder_input_train))\n",
    "print('훈련 레이블의 개수 :', len(decoder_input_train))\n",
    "print('테스트 데이터의 개수 :', len(encoder_input_test))\n",
    "print('테스트 레이블의 개수 :', len(decoder_input_test))"
   ]
  },
  {
   "cell_type": "markdown",
   "id": "3def0843",
   "metadata": {},
   "source": [
    "#### 패딩 \n",
    "    *  최대 길이보다 짧은 데이터들은 뒤의 공간에 숫자 0을 넣어 최대 길이로 길이를 맞춰주기"
   ]
  },
  {
   "cell_type": "code",
   "execution_count": 45,
   "id": "3ffe683d",
   "metadata": {},
   "outputs": [],
   "source": [
    "encoder_input_train = pad_sequences(encoder_input_train, maxlen=text_max_len, padding='post')\n",
    "encoder_input_test = pad_sequences(encoder_input_test, maxlen=text_max_len, padding='post')\n",
    "decoder_input_train = pad_sequences(decoder_input_train, maxlen=summary_max_len, padding='post')\n",
    "decoder_target_train = pad_sequences(decoder_target_train, maxlen=summary_max_len, padding='post')\n",
    "decoder_input_test = pad_sequences(decoder_input_test, maxlen=summary_max_len, padding='post')\n",
    "decoder_target_test = pad_sequences(decoder_target_test, maxlen=summary_max_len, padding='post')"
   ]
  },
  {
   "cell_type": "code",
   "execution_count": null,
   "id": "d37fa91f",
   "metadata": {},
   "outputs": [],
   "source": []
  },
  {
   "cell_type": "markdown",
   "id": "123cd717",
   "metadata": {},
   "source": [
    "### 모델 설계  \n",
    "    * LSTM 사용\n",
    "    * recurrent dropout은 dropout을 레이어가 아닌 time step마다 해주는 방식 > Regularization, 과적합 방지\n",
    "    * dropout과 recurrent dropout, 2개 다 사용하는 것을 Variational Dropout이라고 말함."
   ]
  },
  {
   "cell_type": "code",
   "execution_count": 47,
   "id": "d7fe33e2",
   "metadata": {},
   "outputs": [
    {
     "name": "stdout",
     "output_type": "stream",
     "text": [
      "WARNING:tensorflow:Layer lstm_3 will not use cuDNN kernels since it doesn't meet the criteria. It will use a generic GPU kernel as fallback when running on GPU.\n",
      "WARNING:tensorflow:Layer lstm_4 will not use cuDNN kernels since it doesn't meet the criteria. It will use a generic GPU kernel as fallback when running on GPU.\n",
      "WARNING:tensorflow:Layer lstm_5 will not use cuDNN kernels since it doesn't meet the criteria. It will use a generic GPU kernel as fallback when running on GPU.\n"
     ]
    }
   ],
   "source": [
    "from tensorflow.keras.layers import Input, LSTM, Embedding, Dense, Concatenate, TimeDistributed\n",
    "from tensorflow.keras.models import Model\n",
    "from tensorflow.keras.callbacks import EarlyStopping, ModelCheckpoint\n",
    "\n",
    "\n",
    "# 인코더 설계 시작\n",
    "embedding_dim = 128\n",
    "hidden_size = 256 #  LSTM에서의 뉴런의 개수\n",
    "\n",
    "# 인코더\n",
    "encoder_inputs = Input(shape=(text_max_len,))\n",
    "\n",
    "# 인코더의 임베딩 층\n",
    "enc_emb = Embedding(src_vocab, embedding_dim)(encoder_inputs)\n",
    "\n",
    "# 인코더의 LSTM 1\n",
    "encoder_lstm1 = LSTM(hidden_size, return_sequences=True, return_state=True ,dropout = 0.4, recurrent_dropout = 0.4)\n",
    "#encoder_lstm1 = LSTM(hidden_size, return_sequences=True, return_state=True ,dropout = 0.4)\n",
    "encoder_output1, state_h1, state_c1 = encoder_lstm1(enc_emb)\n",
    "\n",
    "# 인코더의 LSTM 2\n",
    "encoder_lstm2 = LSTM(hidden_size, return_sequences=True, return_state=True, dropout=0.4, recurrent_dropout=0.4)\n",
    "encoder_output2, state_h2, state_c2 = encoder_lstm2(encoder_output1)\n",
    "\n",
    "# 인코더의 LSTM 3\n",
    "encoder_lstm3 = LSTM(hidden_size, return_state=True, return_sequences=True, dropout=0.4, recurrent_dropout=0.4)\n",
    "encoder_outputs, state_h, state_c= encoder_lstm3(encoder_output2)"
   ]
  },
  {
   "cell_type": "code",
   "execution_count": 48,
   "id": "97559139",
   "metadata": {},
   "outputs": [
    {
     "name": "stdout",
     "output_type": "stream",
     "text": [
      "WARNING:tensorflow:Layer lstm_6 will not use cuDNN kernels since it doesn't meet the criteria. It will use a generic GPU kernel as fallback when running on GPU.\n"
     ]
    }
   ],
   "source": [
    "# 디코더 설계\n",
    "# initial_state의 인자값으로 인코더의 hidden state와 cell state의 값을 넣어줘야 함\n",
    "decoder_inputs = Input(shape=(None,))\n",
    "\n",
    "# 디코더의 임베딩 층\n",
    "dec_emb_layer = Embedding(tar_vocab, embedding_dim)\n",
    "dec_emb = dec_emb_layer(decoder_inputs)\n",
    "\n",
    "# 디코더의 LSTM\n",
    "decoder_lstm = LSTM(hidden_size, return_sequences=True, return_state=True, dropout=0.4, recurrent_dropout=0.2)\n",
    "# decoder_lstm = LSTM(hidden_size, return_sequences=True, return_state=True, dropout=0.4)\n",
    "decoder_outputs, _, _ = decoder_lstm(dec_emb, initial_state=[state_h, state_c]) \n",
    "# 인코더의 hidden state와 cell state를 디코더의 초기 state로 사용하는 가장 기본적인 seq2seq "
   ]
  },
  {
   "cell_type": "code",
   "execution_count": 49,
   "id": "70e645b5",
   "metadata": {},
   "outputs": [
    {
     "name": "stdout",
     "output_type": "stream",
     "text": [
      "Model: \"model\"\n",
      "__________________________________________________________________________________________________\n",
      "Layer (type)                    Output Shape         Param #     Connected to                     \n",
      "==================================================================================================\n",
      "input_2 (InputLayer)            [(None, 40)]         0                                            \n",
      "__________________________________________________________________________________________________\n",
      "embedding_1 (Embedding)         (None, 40, 128)      1152000     input_2[0][0]                    \n",
      "__________________________________________________________________________________________________\n",
      "lstm_3 (LSTM)                   [(None, 40, 256), (N 394240      embedding_1[0][0]                \n",
      "__________________________________________________________________________________________________\n",
      "input_3 (InputLayer)            [(None, None)]       0                                            \n",
      "__________________________________________________________________________________________________\n",
      "lstm_4 (LSTM)                   [(None, 40, 256), (N 525312      lstm_3[0][0]                     \n",
      "__________________________________________________________________________________________________\n",
      "embedding_2 (Embedding)         (None, None, 128)    256000      input_3[0][0]                    \n",
      "__________________________________________________________________________________________________\n",
      "lstm_5 (LSTM)                   [(None, 40, 256), (N 525312      lstm_4[0][0]                     \n",
      "__________________________________________________________________________________________________\n",
      "lstm_6 (LSTM)                   [(None, None, 256),  394240      embedding_2[0][0]                \n",
      "                                                                 lstm_5[0][1]                     \n",
      "                                                                 lstm_5[0][2]                     \n",
      "__________________________________________________________________________________________________\n",
      "dense (Dense)                   (None, None, 2000)   514000      lstm_6[0][0]                     \n",
      "==================================================================================================\n",
      "Total params: 3,761,104\n",
      "Trainable params: 3,761,104\n",
      "Non-trainable params: 0\n",
      "__________________________________________________________________________________________________\n"
     ]
    }
   ],
   "source": [
    "# 디코더의 출력층 정의\n",
    "decoder_softmax_layer = Dense(tar_vocab, activation='softmax') # 다중 클래스 분류 문제\n",
    "decoder_softmax_outputs = decoder_softmax_layer(decoder_outputs) \n",
    "\n",
    "# 모델 정의\n",
    "model = Model([encoder_inputs, decoder_inputs], decoder_softmax_outputs)\n",
    "model.summary()"
   ]
  },
  {
   "cell_type": "markdown",
   "id": "482b29cc",
   "metadata": {},
   "source": [
    "* 출력층의 설계를 바꿔서 모델의 성능을 높여보기 >> 어텐션 메커니즘 사용\n",
    "    * 인코더의 hidden state들과 디코더의 hidden state들을 어텐션 함수의 입력으로 사용\n",
    "    * 어텐션 함수가 리턴한 값을 예측 시에 디코더의 hidden state와 함께 활용"
   ]
  },
  {
   "cell_type": "code",
   "execution_count": 50,
   "id": "14671148",
   "metadata": {},
   "outputs": [
    {
     "name": "stdout",
     "output_type": "stream",
     "text": [
      "Model: \"model_1\"\n",
      "__________________________________________________________________________________________________\n",
      "Layer (type)                    Output Shape         Param #     Connected to                     \n",
      "==================================================================================================\n",
      "input_2 (InputLayer)            [(None, 40)]         0                                            \n",
      "__________________________________________________________________________________________________\n",
      "embedding_1 (Embedding)         (None, 40, 128)      1152000     input_2[0][0]                    \n",
      "__________________________________________________________________________________________________\n",
      "lstm_3 (LSTM)                   [(None, 40, 256), (N 394240      embedding_1[0][0]                \n",
      "__________________________________________________________________________________________________\n",
      "input_3 (InputLayer)            [(None, None)]       0                                            \n",
      "__________________________________________________________________________________________________\n",
      "lstm_4 (LSTM)                   [(None, 40, 256), (N 525312      lstm_3[0][0]                     \n",
      "__________________________________________________________________________________________________\n",
      "embedding_2 (Embedding)         (None, None, 128)    256000      input_3[0][0]                    \n",
      "__________________________________________________________________________________________________\n",
      "lstm_5 (LSTM)                   [(None, 40, 256), (N 525312      lstm_4[0][0]                     \n",
      "__________________________________________________________________________________________________\n",
      "lstm_6 (LSTM)                   [(None, None, 256),  394240      embedding_2[0][0]                \n",
      "                                                                 lstm_5[0][1]                     \n",
      "                                                                 lstm_5[0][2]                     \n",
      "__________________________________________________________________________________________________\n",
      "attention_layer (AdditiveAttent (None, None, 256)    256         lstm_6[0][0]                     \n",
      "                                                                 lstm_5[0][0]                     \n",
      "__________________________________________________________________________________________________\n",
      "concat_layer (Concatenate)      (None, None, 512)    0           lstm_6[0][0]                     \n",
      "                                                                 attention_layer[0][0]            \n",
      "__________________________________________________________________________________________________\n",
      "dense_1 (Dense)                 (None, None, 2000)   1026000     concat_layer[0][0]               \n",
      "==================================================================================================\n",
      "Total params: 4,273,360\n",
      "Trainable params: 4,273,360\n",
      "Non-trainable params: 0\n",
      "__________________________________________________________________________________________________\n"
     ]
    }
   ],
   "source": [
    "#  TensorFlow에 이미 구현된 어텐션 함수를 가져와서 디코더의 출력층에 결합\n",
    "\n",
    "from tensorflow.keras.layers import AdditiveAttention\n",
    "\n",
    "# 어텐션 층(어텐션 함수)\n",
    "attn_layer = AdditiveAttention(name='attention_layer')\n",
    "\n",
    "# 인코더와 디코더의 모든 time step의 hidden state를 어텐션 층에 전달하고 결과를 리턴\n",
    "attn_out = attn_layer([decoder_outputs, encoder_outputs])\n",
    "\n",
    "\n",
    "# 어텐션의 결과와 디코더의 hidden state들을 연결\n",
    "decoder_concat_input = Concatenate(axis=-1, name='concat_layer')([decoder_outputs, attn_out])\n",
    "\n",
    "# 디코더의 출력층\n",
    "decoder_softmax_layer = Dense(tar_vocab, activation='softmax')\n",
    "decoder_softmax_outputs = decoder_softmax_layer(decoder_concat_input)\n",
    "\n",
    "# 모델 정의\n",
    "model = Model([encoder_inputs, decoder_inputs], decoder_softmax_outputs)\n",
    "model.summary()"
   ]
  },
  {
   "cell_type": "code",
   "execution_count": 51,
   "id": "78240400",
   "metadata": {},
   "outputs": [
    {
     "name": "stdout",
     "output_type": "stream",
     "text": [
      "Epoch 1/10\n",
      "232/232 [==============================] - 157s 579ms/step - loss: 4.4333 - val_loss: 4.1232\n",
      "Epoch 2/10\n",
      "232/232 [==============================] - 130s 559ms/step - loss: 3.9741 - val_loss: 3.7992\n",
      "Epoch 3/10\n",
      "232/232 [==============================] - 130s 560ms/step - loss: 3.6797 - val_loss: 3.5801\n",
      "Epoch 4/10\n",
      "232/232 [==============================] - 131s 567ms/step - loss: 3.4768 - val_loss: 3.4306\n",
      "Epoch 5/10\n",
      "232/232 [==============================] - 132s 569ms/step - loss: 3.3138 - val_loss: 3.3120\n",
      "Epoch 6/10\n",
      "232/232 [==============================] - 132s 568ms/step - loss: 3.1793 - val_loss: 3.2099\n",
      "Epoch 7/10\n",
      "232/232 [==============================] - 132s 569ms/step - loss: 3.0619 - val_loss: 3.1283\n",
      "Epoch 8/10\n",
      "232/232 [==============================] - 135s 580ms/step - loss: 2.9621 - val_loss: 3.0601\n",
      "Epoch 9/10\n",
      "232/232 [==============================] - 129s 556ms/step - loss: 2.8717 - val_loss: 3.0156\n",
      "Epoch 10/10\n",
      "232/232 [==============================] - 131s 567ms/step - loss: 2.7922 - val_loss: 2.9771\n"
     ]
    }
   ],
   "source": [
    "model.compile(optimizer='rmsprop', loss='sparse_categorical_crossentropy')\n",
    "es = EarlyStopping(monitor='val_loss', patience=2, verbose=1)\n",
    "history = model.fit(x=[encoder_input_train, decoder_input_train], y=decoder_target_train, \\\n",
    "          validation_data=([encoder_input_test, decoder_input_test], decoder_target_test), \\\n",
    "          batch_size=256, callbacks=[es], epochs=10)"
   ]
  },
  {
   "cell_type": "code",
   "execution_count": 52,
   "id": "cc242aeb",
   "metadata": {},
   "outputs": [
    {
     "data": {
      "image/png": "[encoded data removed]",
      "text/plain": [
       "<Figure size 432x288 with 1 Axes>"
      ]
     },
     "metadata": {
      "needs_background": "light"
     },
     "output_type": "display_data"
    }
   ],
   "source": [
    "plt.plot(history.history['loss'], label='train')\n",
    "plt.plot(history.history['val_loss'], label='test')\n",
    "plt.legend()\n",
    "plt.show()"
   ]
  },
  {
   "cell_type": "code",
   "execution_count": null,
   "id": "3a954040",
   "metadata": {},
   "outputs": [],
   "source": []
  },
  {
   "cell_type": "markdown",
   "id": "b588b869",
   "metadata": {},
   "source": [
    "### 인퍼런스 모델 구현\n",
    "    * seq2seq는 훈련할 때와 실제 동작할 때(인퍼런스 단계)의 방식이 다르므로 그에 맞게 모델 설계를 별개로 진행해야 한다\n",
    "    * 정답 문장이 없는 인퍼런스 단계에서는 만들어야 할 문장의 길이만큼 디코더가 반복 구조로 동작해야 하기 때문에 부득이하게 인퍼런스를 위한 모델 설계를 별도로 해주어야 함"
   ]
  },
  {
   "cell_type": "code",
   "execution_count": 53,
   "id": "2ff9dfcb",
   "metadata": {},
   "outputs": [],
   "source": [
    "src_index_to_word = src_tokenizer.index_word # 원문 단어 집합에서 정수 -> 단어를 얻음\n",
    "tar_word_to_index = tar_tokenizer.word_index # 요약 단어 집합에서 단어 -> 정수를 얻음\n",
    "tar_index_to_word = tar_tokenizer.index_word # 요약 단어 집합에서 정수 -> 단어를 얻음"
   ]
  },
  {
   "cell_type": "code",
   "execution_count": 55,
   "id": "8653e669",
   "metadata": {},
   "outputs": [],
   "source": [
    "# 인코더 설계\n",
    "encoder_model = Model(inputs=encoder_inputs, outputs=[encoder_outputs, state_h, state_c])\n",
    "\n",
    "# 이전 시점의 상태들을 저장하는 텐서\n",
    "decoder_state_input_h = Input(shape=(hidden_size,))\n",
    "decoder_state_input_c = Input(shape=(hidden_size,))\n",
    "\n",
    "dec_emb2 = dec_emb_layer(decoder_inputs)\n",
    "\n",
    "# 문장의 다음 단어를 예측하기 위해서 초기 상태(initial_state)를 이전 시점의 상태로 사용. 이는 뒤의 함수 decode_sequence()에 구현\n",
    "# 훈련 과정에서와 달리 LSTM의 리턴하는 은닉 상태와 셀 상태인 state_h와 state_c를 버리지 않음.\n",
    "decoder_outputs2, state_h2, state_c2 = decoder_lstm(dec_emb2, initial_state=[decoder_state_input_h, decoder_state_input_c])"
   ]
  },
  {
   "cell_type": "code",
   "execution_count": 56,
   "id": "6d893d74",
   "metadata": {},
   "outputs": [],
   "source": [
    "# 어텐션 함수\n",
    "decoder_hidden_state_input = Input(shape=(text_max_len, hidden_size))\n",
    "attn_out_inf = attn_layer([decoder_outputs2, decoder_hidden_state_input])\n",
    "decoder_inf_concat = Concatenate(axis=-1, name='concat')([decoder_outputs2, attn_out_inf])\n",
    "\n",
    "# 디코더의 출력층\n",
    "decoder_outputs2 = decoder_softmax_layer(decoder_inf_concat) \n",
    "\n",
    "# 최종 디코더 모델\n",
    "decoder_model = Model(\n",
    "    [decoder_inputs] + [decoder_hidden_state_input,decoder_state_input_h, decoder_state_input_c],\n",
    "    [decoder_outputs2] + [state_h2, state_c2])\n"
   ]
  },
  {
   "cell_type": "code",
   "execution_count": 57,
   "id": "e31769ac",
   "metadata": {},
   "outputs": [],
   "source": [
    "def decode_sequence(input_seq):\n",
    "    # 입력으로부터 인코더의 상태를 얻음\n",
    "    e_out, e_h, e_c = encoder_model.predict(input_seq)\n",
    "\n",
    "     # <SOS>에 해당하는 토큰 생성\n",
    "    target_seq = np.zeros((1,1))\n",
    "    target_seq[0, 0] = tar_word_to_index['sostoken']\n",
    "\n",
    "    stop_condition = False\n",
    "    decoded_sentence = ''\n",
    "    while not stop_condition: # stop_condition이 True가 될 때까지 루프 반복\n",
    "\n",
    "        output_tokens, h, c = decoder_model.predict([target_seq] + [e_out, e_h, e_c])\n",
    "        sampled_token_index = np.argmax(output_tokens[0, -1, :])\n",
    "        sampled_token = tar_index_to_word[sampled_token_index]\n",
    "\n",
    "        if (sampled_token!='eostoken'):\n",
    "            decoded_sentence += ' '+sampled_token\n",
    "\n",
    "        #  <eos>에 도달하거나 최대 길이를 넘으면 중단.\n",
    "        if (sampled_token == 'eostoken'  or len(decoded_sentence.split()) >= (summary_max_len-1)):\n",
    "            stop_condition = True\n",
    "\n",
    "        # 길이가 1인 타겟 시퀀스를 업데이트\n",
    "        target_seq = np.zeros((1,1))\n",
    "        target_seq[0, 0] = sampled_token_index\n",
    "\n",
    "        # 상태를 업데이트 합니다.\n",
    "        e_h, e_c = h, c\n",
    "\n",
    "    return decoded_sentence"
   ]
  },
  {
   "cell_type": "code",
   "execution_count": null,
   "id": "6bcb9044",
   "metadata": {},
   "outputs": [],
   "source": []
  },
  {
   "cell_type": "markdown",
   "id": "1bd83a12",
   "metadata": {},
   "source": [
    "### 모델 테스트하기\n",
    "    * 정수 시퀀스를 텍스트 시퀀스로 변환하여 결과를 확인\n",
    "    * 주어진 정수 시퀀스를 텍스트 시퀀스로 변환하는 함수 생성\n",
    "        - Text의 정수 시퀀스에서는 패딩을 위해 사용되는 숫자 0을 제외\n",
    "        - Summary의 정수 시퀀스에서는 숫자 0, 시작 토큰의 인덱스, 종료 토큰의 인덱스를 출력에서 제외"
   ]
  },
  {
   "cell_type": "code",
   "execution_count": 65,
   "id": "8fec6987",
   "metadata": {},
   "outputs": [],
   "source": [
    "# 원문의 정수 시퀀스를 텍스트 시퀀스로 변환\n",
    "def seq2text(input_seq):\n",
    "    temp=''\n",
    "    for i in input_seq:\n",
    "        if (i!=0):\n",
    "            temp = temp + src_index_to_word[i]+' '\n",
    "    return temp\n",
    "\n",
    "# 요약문의 정수 시퀀스를 텍스트 시퀀스로 변환\n",
    "def seq2summary(input_seq):\n",
    "    temp = ''\n",
    "    for i in input_seq:\n",
    "        if (i == 'eostoken' or i == 0):  # eostoken이거나 패딩 토큰인 경우 종료\n",
    "            break\n",
    "        temp = temp + tar_index_to_word[i] + ' '\n",
    "    return temp"
   ]
  },
  {
   "cell_type": "code",
   "execution_count": 66,
   "id": "34d1322a",
   "metadata": {},
   "outputs": [
    {
     "name": "stdout",
     "output_type": "stream",
     "text": [
      "원문 : wework shared office spaces across bangalore community locations aside opportunities network make connections unique common areas phone booths micro coffee wework offers everything need make life living \n",
      "실제 요약 : sostoken why for co working space in bengaluru \n",
      "예측 요약 :  to be made\n",
      "\n",
      "\n",
      "원문 : indian rounder hardik pandya posted video batsman shikhar dhawan dancing washroom manchester play first england tuesday two seen matching dance moves facing mirror caught action love dancing singing read post caption \n",
      "실제 요약 : sostoken pandya posts video of him and dhawan dancing in \n",
      "예측 요약 :  hardik pandya shares picture with\n",
      "\n",
      "\n",
      "원문 : goa town country planning minister friday said state become expensive low budget indian tourists visiting adding goa competing kerala sri lanka southeast asia said focus quality tourism rather tourism merely \n",
      "실제 요약 : sostoken goa should low budget indian tourists minister \n",
      "예측 요약 :  india to be in india rajnath\n",
      "\n",
      "\n",
      "원문 : union home minister rajnath singh sunday said talks pakistan stops terrorists india alleging pakistan continuing attempts india sending terrorists violating singh claimed india emerged powerful country power threaten sovereignty \n",
      "실제 요약 : sostoken talks with pak till it stops terror aid rajnath \n",
      "예측 요약 :  india will not be rajnath singh\n",
      "\n",
      "\n",
      "원문 : janhvi kapoor speaking demise mother sridevi time shooting dhadak said wanted shoot next day shoot got cancelled like need set added janhvi said would lost mind dhadak \n",
      "실제 요약 : sostoken wanted to shoot for day after mom janhvi \n",
      "예측 요약 :  janhvi is sridevi on sridevi\n",
      "\n",
      "\n",
      "원문 : promising bring virat kohli chief guest rally candidate contesting gram panchayat elections maharashtra brought indian cricket team captain photographs candidate poster featuring kohli gone viral social media several people reportedly also took selfies photographs \n",
      "실제 요약 : sostoken candidate kohli as \n",
      "예측 요약 :  virat kohli to virat kohli\n",
      "\n",
      "\n",
      "원문 : former uttar pradesh cm akhilesh yadav wednesday said soldiers every part india except gujarat lives nation uttar pradesh madhya pradesh south india given martyrs tell gujarat given stated yadav alleged modi government indulging politics martyrs vande mataram \n",
      "실제 요약 : sostoken up mp have given gujarat akhilesh \n",
      "예측 요약 :  will not be up cm on\n",
      "\n",
      "\n",
      "원문 : delhi police arrested bigg boss contestant self proclaimed godman swami om charges theft november fir registered swami om breaking younger brother jha bicycle shop stealing important documents separate case swami om also facing charges molesting woman \n",
      "실제 요약 : sostoken bigg boss arrested for theft \n",
      "예측 요약 :  man arrested for assaulting assaulting woman\n",
      "\n",
      "\n",
      "원문 : supreme court said man forcibly sex wife years age marital rape due ipc rape law questioned government taken steps protect married girls aged years forced sexual acts \n",
      "실제 요약 : sostoken rape not criminal supreme court \n",
      "예측 요약 :  sc rejects rape victim of rape victim\n",
      "\n",
      "\n",
      "원문 : bloc arab nations turkey called emergency meeting united nations general assembly us un security council resolution rejecting us decision recognise jerusalem israel capital members voted favour resolution except us termed resolution insult \n",
      "실제 요약 : sostoken un meeting called after us un jerusalem \n",
      "예측 요약 :  un un un un\n",
      "\n",
      "\n",
      "원문 : former bihar cm morcha founder ram quit national democratic alliance demanded one rajya sabha seat party failing party decided support bjp led coalition next lok sabha elections announcement comes meeting rjd leader devi patna \n",
      "실제 요약 : sostoken former bihar cm ram quits nda \n",
      "예측 요약 :  aap to contest party in party\n",
      "\n",
      "\n",
      "원문 : per government survey nearly six every ten toilets constructed swachh bharat mission due water supply although india sanitation infrastructure slightly improved around people villages still open defecation national sample survey office found survey one lakh households \n",
      "실제 요약 : sostoken toilets built under bharat mission have no water \n",
      "예측 요약 :  india to get for first time\n",
      "\n",
      "\n",
      "원문 : year old rape survivor chandigarh gave birth baby august raped two younger one dna report revealed police initially suspected elder uncle baby however dna match baby upon questioning victim revealed also assaulted younger uncle \n",
      "실제 요약 : sostoken yr old girl raped by two baby \n",
      "예측 요약 :  rape victim of rape victim\n",
      "\n",
      "\n",
      "원문 : video child emerging ray machine security check railway station china gone viral video shows boy father walking security check suddenly realising son man goes back look son machine side \n",
      "실제 요약 : sostoken child into machine at china train station \n",
      "예측 요약 :  video shows mumbai couple with\n",
      "\n",
      "\n",
      "원문 : odi cricket history th match took place new guinea hong kong saturday almost years th odi th odi zimbabwe pakistan april came years first ever odi played january england australia many teams played odis \n",
      "실제 요약 : sostoken first odis took years next took just years \n",
      "예측 요약 :  india to odi odi odi odi series\n",
      "\n",
      "\n",
      "원문 : official instagram account sports merchandise group hacked saturday hackers posting fake news group ways indian shuttler pv sindhu immediately fixed account apologised indian shuttler accepted apology incident going stay without problem sindhu later said \n",
      "실제 요약 : sostoken instagram gets hacked says to sindhu \n",
      "예측 요약 :  twitter account hacked to fake news\n",
      "\n",
      "\n",
      "원문 : former bcci president cannot represent indian cricket board icc meeting next week held guilty conflict interest supreme court said monday supreme court allowed bcci acting secretary amitabh chaudhary represent board meeting accompanied bcci ceo rahul \n",
      "실제 요약 : sostoken cannot bcci in icc supreme court \n",
      "예측 요약 :  bcci to bcci for bcci\n",
      "\n",
      "\n",
      "원문 : hyderabad prison department provided employment two graduates found begging city streets commerce graduate computers hired computer operator hired assistant prison department hospital men receiving training draw monthly salary \n",
      "실제 요약 : sostoken prison jobs to \n",
      "예측 요약 :  man who to be in\n",
      "\n",
      "\n",
      "원문 : five india successful among countries territories participated commonwealth games india bagged total nine medals including two silver two bronze medals second time india finished best nation commonwealth games last time \n",
      "실제 요약 : sostoken india most among nations at cwg \n",
      "예측 요약 :  india india hockey team india\n",
      "\n",
      "\n",
      "원문 : australia chris right shoulder trying protect injury left shoulder tri series final wednesday incident occurred new zealand innings ninth reached ball right arm undergone surgery left shoulder last year \n",
      "실제 요약 : sostoken right trying to protect left one \n",
      "예측 요약 :  aus captain banned for ball\n",
      "\n",
      "\n",
      "원문 : enforcement directorate attached properties worth crore karnataka executive engineer prevention money laundering act investigation initiated based fir chargesheet filed karnataka allegedly acquired disproportionate assets including plots residential properties proceeds crime \n",
      "실제 요약 : sostoken ed taka engineer assets worth cr \n",
      "예측 요약 :  ed cr assets worth cr seized in scam\n",
      "\n",
      "\n",
      "원문 : haryana government decided introduce scheme school children given trees every six months period three years scheme cover students classes government private schools launched july nn \n",
      "실제 요약 : sostoken haryana govt to give school kids for trees \n",
      "예측 요약 :  kerala school school kids to\n",
      "\n",
      "\n",
      "원문 : took drone filming stands using roll toilet paper football match argentina sunday incident occurred third tier promotion play game de roll hit drone caused air crash stands \n",
      "실제 요약 : sostoken football fan uses toilet paper to take down drone \n",
      "예측 요약 :  russian man crashes into in\n",
      "\n",
      "\n",
      "원문 : competition food delivery startups like zomato uber swiggy ceo said growth absolute priority company surface noted room one player survive food delivery adding market india winner taken \n",
      "실제 요약 : sostoken is growth not ceo \n",
      "예측 요약 :  startup to make its own startup\n",
      "\n",
      "\n",
      "원문 : talking apple growth india company ceo tim cook said big india country people ability well said apple manufacturing entry level iphones india gone well despite challenges including currency \n",
      "실제 요약 : sostoken am in india on the country cook \n",
      "예측 요약 :  india is the of apple ceo\n",
      "\n",
      "\n",
      "원문 : nasa deep space climate observatory caught hundreds earth since launch previous studies captured scientists studied oceans however new study nasa scientists cause big land high altitude oriented ice \n",
      "실제 요약 : sostoken nasa scientists study from earth \n",
      "예측 요약 :  nasa to nasa\n",
      "\n",
      "\n",
      "원문 : bollywood actor ranbir kapoor received fc barcelona jersey signed lionel messi th birthday bollywood actor self confessed fan club called messi best player earth posed jersey barcelona number jersey also actor rk written back \n",
      "실제 요약 : sostoken ranbir receives by messi on th day \n",
      "예측 요약 :  ranbir kapoor shares picture with her\n",
      "\n",
      "\n",
      "원문 : hundreds gathered beach wednesday release sea part celebrations king birthday july number chosen number king rama king known number one age wish \n",
      "실제 요약 : sostoken releases to celebrate king birthday \n",
      "예측 요약 :  in pictures of\n",
      "\n",
      "\n",
      "원문 : madhya pradesh women child development minister wednesday proposed issuing weapon licences eligible women girls priority basis adding women prepared challenges increasing job opportunities thrown said move would boost would feel confident \n",
      "실제 요약 : sostoken mp minister proposes gun to women \n",
      "예측 요약 :  women women women to be minister\n",
      "\n",
      "\n",
      "원문 : remains year old discovered egypt egyptian ministry said believed date back th found royal near block lines interior corridor also discovered \n",
      "실제 요약 : sostoken remains of year old discovered in egypt \n",
      "예측 요약 :  man who to be in\n",
      "\n",
      "\n",
      "원문 : opener rohit sharma pacer jasprit bumrah picked west indies tour wicketkeeper batsman rishabh pant spinner kuldeep yadav included squad virat kohli lead team anil kumble got extension coach india play five odis one tour begins june \n",
      "실제 요약 : sostoken rohit bumrah for tour \n",
      "예측 요약 :  ashwin to play in cricket\n",
      "\n",
      "\n",
      "원문 : neo nazi couple uk named baby german dictator adolf hitler jailed membership far right group national action banned anti terror laws adam thomas sentenced six half five years jail respectively judge said couple long history violent racist beliefs \n",
      "실제 요약 : sostoken uk couple who named baby after jailed \n",
      "예측 요약 :  uk prince baby in uk\n",
      "\n",
      "\n",
      "원문 : central board secondary education today released board examinations date sheet academic year class examinations begin february april class examinations take place february march exams conducted morning session \n",
      "실제 요약 : sostoken cbse class exams to from class from \n",
      "예측 요약 :  cbse board exam to be\n",
      "\n",
      "\n",
      "원문 : addressing lok sabha minister state home hansraj ahir said national investigation agency arrested people cases linked terror group isis added people accused incidents absconding cases accused receiving providing funds people visiting areas isis influence \n",
      "실제 요약 : sostoken arrested people in cases to isis govt \n",
      "예측 요약 :  cannot be in encounter\n",
      "\n",
      "\n",
      "원문 : british long distance runner farah named winner bbc sports personality year award sunday four time olympic champion gold silver world championships london summer swiss tennis star roger federer named bbc overseas sports personality year record fourth time \n",
      "실제 요약 : sostoken wins sports of the year award \n",
      "예측 요약 :  becomes world highest ever\n",
      "\n",
      "\n",
      "원문 : delhi metro witnessed decline nearly lakh passengers per day june year hiked fares may recorded decline almost lakh passengers june compared june metro hiked minimum fare maximum fare \n",
      "실제 요약 : sostoken delhi metro down by per day post hike \n",
      "예측 요약 :  delhi metro to get crore\n",
      "\n",
      "\n",
      "원문 : senior congress leader denied media reports told leave party protest dalit atrocities alleged involvement anti sikh riots initially seen stage later walked away sat party workers ajay clarified specific criteria sitting stage \n",
      "실제 요약 : sostoken not asked to leave cong protest riots accused \n",
      "예측 요약 :  congress leader denies fir against over\n",
      "\n",
      "\n",
      "원문 : israel sunday released year old palestinian girl jailed slapping israeli soldier praised many symbol palestinian resistance called palestinians continue struggle occupation west bank israel captured west bank middle east war \n",
      "실제 요약 : sostoken israel girl jailed for \n",
      "예측 요약 :  israel pm parliament to death\n",
      "\n",
      "\n",
      "원문 : year old vegetable named filled almost potholes across mumbai past three years son died road accident year old son travelling hit pothole july also want anyone else lose loved one like said \n",
      "실제 요약 : sostoken man in mumbai in yrs after son death \n",
      "예측 요약 :  year old dies after being in delhi\n",
      "\n",
      "\n",
      "원문 : us president donald trump defended regular twitter use saying may white house without tweeting like put put immediately show said interview news channel doubt would social media trump added \n",
      "실제 요약 : sostoken trump defends his tweets as to white house victory \n",
      "예측 요약 :  trump calls for trump\n",
      "\n",
      "\n",
      "원문 : indian spinner patel playing pulled caught bowled dismissal ball towards helmet short leg ball hit towards ryan tried ball towards square leg picked nine wickets match \n",
      "실제 요약 : sostoken bowler takes catch after ball from \n",
      "예측 요약 :  bowler takes catch to catch\n",
      "\n",
      "\n",
      "원문 : five asian american passengers filed racial discrimination complaint russian airline forced fly delhi instead new york due skin colour us citizens travelling india us stranded moscow connecting flight cancelled also denied transit visas \n",
      "실제 요약 : sostoken airline sent us passengers back to india over skin \n",
      "예측 요약 :  airline to pay for us flight\n",
      "\n",
      "\n",
      "원문 : addressing hindu guwahati rashtriya swayamsevak sangh chief mohan bhagwat said india forgot pakistan august pakistan adding bharat exist long hindutva country exists bhagwat said pakistan name bharat word hindutva \n",
      "실제 요약 : sostoken pakistan has not its with india rss chief \n",
      "예측 요약 :  india should not be pak\n",
      "\n",
      "\n",
      "원문 : passengers told jump onto emergency exit windows threatening note found bathroom virgin airlines flight crew shouted leave jump seater plane evacuated within five minutes australian police arrested male passenger note warned death harm \n",
      "실제 요약 : sostoken flyers told to after note found \n",
      "예측 요약 :  flight makes emergency landing\n",
      "\n",
      "\n",
      "원문 : first song sidharth malhotra manoj bajpayee starrer released sung chauhan composed kohli lyrics manoj upcoming thriller directed neeraj pandey scheduled release january \n",
      "실제 요약 : sostoken first song from sidharth released \n",
      "예측 요약 :  first look of song from released\n",
      "\n",
      "\n",
      "원문 : tanushree dutta sister dutta talking tanushree opening alleged sexual harassment said trying achieve trying set example something like happens fault added also said scared family watching footage tanushree harassed \n",
      "실제 요약 : sostoken tanushree trying to set by up sister \n",
      "예측 요약 :  tanushree is not tanushree on tanushree row\n",
      "\n",
      "\n",
      "원문 : bjp spokesperson patra today said supreme court judgement aadhaar big victory pro poor modi government aadhaar constitutional validity congress called verdict slap face bjp patra claimed congress always reason wanted aadhaar struck \n",
      "실제 요약 : aadhaar verdict victory for pro poor modi govt says bjp \n",
      "예측 요약 :  aadhaar not to sc on aadhaar ban\n",
      "\n",
      "\n",
      "원문 : saif ali khan talking gym looks airport looks said never dress also best clothes world well dressed always added saif said want someone \n",
      "실제 요약 : sostoken will never dress for the saif ali khan \n",
      "예측 요약 :  was not for my life kareena\n",
      "\n",
      "\n",
      "원문 : hit hat trick help liverpool rivals arsenal english premier league saturday win liverpool opened nine point gap top table two liverpool team mohamed defending champions manchester city currently third table \n",
      "실제 요약 : sostoken hits as \n",
      "예측 요약 :  player to play in ipl\n",
      "\n",
      "\n",
      "원문 : saudi arabia plans set billion oil pakistan port saudi energy minister khalid al said saudi wants make pakistan economic development stable establishing partnership pakistan china pakistan economic corridor added port developed help china \n",
      "실제 요약 : sostoken saudi arabia to set up billion oil in pakistan \n",
      "예측 요약 :  saudi arabia to talks with iran\n",
      "\n",
      "\n"
     ]
    }
   ],
   "source": [
    "# 테스트 데이터 약 50개의 샘플에 대해서 실제 요약과 예측된 요약 비교\n",
    "for i in range(min(50, len(encoder_input_test)), min(100, len(encoder_input_test))):\n",
    "    print(\"원문 :\", seq2text(encoder_input_test[i]))\n",
    "    print(\"실제 요약 :\", seq2summary(decoder_input_test[i]))\n",
    "    print(\"예측 요약 :\", decode_sequence(encoder_input_test[i].reshape(1, text_max_len)))\n",
    "    print(\"\\n\")"
   ]
  },
  {
   "cell_type": "code",
   "execution_count": null,
   "id": "f898fa24",
   "metadata": {},
   "outputs": [],
   "source": []
  },
  {
   "cell_type": "code",
   "execution_count": null,
   "id": "bdfda8ad",
   "metadata": {},
   "outputs": [],
   "source": []
  },
  {
   "cell_type": "markdown",
   "id": "dfb2735c",
   "metadata": {},
   "source": [
    "## 추출적 요약"
   ]
  },
  {
   "cell_type": "code",
   "execution_count": 74,
   "id": "c5527cec",
   "metadata": {},
   "outputs": [
    {
     "name": "stdout",
     "output_type": "stream",
     "text": [
      "                                              headlines  \\\n",
      "0     upGrad learner switches to career in ML & Al w...   \n",
      "1     Delhi techie wins free food from Swiggy for on...   \n",
      "2     New Zealand end Rohit Sharma-led India's 12-ma...   \n",
      "3     Aegon life iTerm insurance plan helps customer...   \n",
      "4     Have known Hirani for yrs, what if MeToo claim...   \n",
      "...                                                 ...   \n",
      "1495  Have seen Sachin Tendulkar get angry but not M...   \n",
      "1496  Player ensures wife stays dry in rain during A...   \n",
      "1497  Federer denied entry into locker room by secur...   \n",
      "1498  42/42 seats in West Bengal: CM Mamata's cutout...   \n",
      "1499  Court refuses chargesheet by Delhi Police agai...   \n",
      "\n",
      "                                                   text  \n",
      "0     Saurav Kant, an alumnus of upGrad and IIIT-B's...  \n",
      "1     Kunal Shah's credit card bill payment platform...  \n",
      "2     New Zealand defeated India by 8 wickets in the...  \n",
      "3     With Aegon Life iTerm Insurance plan, customer...  \n",
      "4     Speaking about the sexual harassment allegatio...  \n",
      "...                                                 ...  \n",
      "1495  India head coach Ravi Shastri has said that he...  \n",
      "1496  Italian tennis player Andreas Seppi ensured hi...  \n",
      "1497  World number three Roger Federer was stopped b...  \n",
      "1498  A cutout of TMC chief and West Bengal CM Mamat...  \n",
      "1499  A Delhi court on Saturday pulled up Delhi Poli...  \n",
      "\n",
      "[1500 rows x 2 columns]\n"
     ]
    }
   ],
   "source": [
    "import requests\n",
    "from summa.summarizer import summarize\n",
    "urllib.request.urlretrieve(\"https://raw.githubusercontent.com/sunnysai12345/News_Summary/master/news_summary_more.csv\", filename=\"news_summary_more.csv\")\n",
    "data = pd.read_csv('news_summary_more.csv', encoding='iso-8859-1')\n",
    "print(data[:1500])"
   ]
  },
  {
   "cell_type": "markdown",
   "id": "381b4a9b",
   "metadata": {},
   "source": [
    "**Summa의 summarize()**\n",
    "\n",
    "    * text (str) : 요약할 테스트.\n",
    "    * ratio (float, optional) – 요약문에서 원본에서 선택되는 문장 비율. 0~1 사이값\n",
    "    * words (int or None, optional) – 출력에 포함할 단어 수. \n",
    "    * 만약, ratio와 함께 두 파라미터가 모두 제공되는 경우 ratio는 무시한다.\n",
    "    * split (bool, optional) – True면 문장 list / False는 조인(join)된 문자열을 반환\n",
    "    "
   ]
  },
  {
   "cell_type": "code",
   "execution_count": 83,
   "id": "ce85282a",
   "metadata": {},
   "outputs": [
    {
     "name": "stdout",
     "output_type": "stream",
     "text": [
      "Summary:\n",
      "\n"
     ]
    }
   ],
   "source": [
    "# 'Text' 열을 선택하고 문자열로 변환\n",
    "text_data = data['text'].astype(str).str.cat(sep=' ')\n",
    "\n",
    "print('Summary:')\n",
    "print(summarize(text_data[:1500], ratio=0.005))"
   ]
  },
  {
   "cell_type": "code",
   "execution_count": null,
   "id": "e5620b30",
   "metadata": {},
   "outputs": [],
   "source": [
    "print('Summary:')\n",
    "print(summarize(text_data[:1500], ratio=0.005, split=True))"
   ]
  },
  {
   "cell_type": "code",
   "execution_count": 71,
   "id": "cfc4c3bf",
   "metadata": {},
   "outputs": [
    {
     "name": "stdout",
     "output_type": "stream",
     "text": [
      "Summary:\n",
      "\n"
     ]
    }
   ],
   "source": [
    "print('Summary:')\n",
    "print(summarize(text_data[:1500], words=50))"
   ]
  },
  {
   "cell_type": "code",
   "execution_count": null,
   "id": "7f8cc201",
   "metadata": {},
   "outputs": [],
   "source": []
  },
  {
   "cell_type": "code",
   "execution_count": null,
   "id": "d4f3a0e9",
   "metadata": {},
   "outputs": [],
   "source": []
  },
  {
   "cell_type": "markdown",
   "id": "287b330f",
   "metadata": {},
   "source": [
    "### 회고\n",
    "\n",
    "    * 모델 결과를 통해 내 생각보다 예상치 못한 결과(잘못 요약)가 나왔다. \n",
    "      시간 상 이유로 epoch을 많이 줄였는데, 학습 부분에서 충분치 못했는지, 전처리 부분에서 잘못된 부분이 있는건지, \n",
    "      어느 부분에 의해 이러한 결과가 나왔는지 확인해 볼 필요가 있을 것 같다.\n",
    "    * 개념적인 부분에서 아직 숙지가 덜 된 것같다. 시간을 들여서 더 깊게 이해해볼 필요가 있을 것 같다.\n",
    "    * 아직은 갈 길이 멀지만, 자연어처리와 친해지면 좋겠다 :) "
   ]
  },
  {
   "cell_type": "code",
   "execution_count": null,
   "id": "b113751d",
   "metadata": {},
   "outputs": [],
   "source": []
  }
 ],
 "metadata": {
  "kernelspec": {
   "display_name": "Python 3 (ipykernel)",
   "language": "python",
   "name": "python3"
  },
  "language_info": {
   "codemirror_mode": {
    "name": "ipython",
    "version": 3
   },
   "file_extension": ".py",
   "mimetype": "text/x-python",
   "name": "python",
   "nbconvert_exporter": "python",
   "pygments_lexer": "ipython3",
   "version": "3.9.7"
  }
 },
 "nbformat": 4,
 "nbformat_minor": 5
}
