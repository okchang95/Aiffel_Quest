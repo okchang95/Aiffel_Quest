{
 "cells": [
  {
   "cell_type": "markdown",
   "id": "b47600fe",
   "metadata": {},
   "source": [
    "### 영화리뷰 텍스트 감성분석하기 [프로젝트]\n",
    "- 다양한 방법으로 Text Classification 구현\n",
    "    - 3가지 이상의 모델\n",
    "        - LSTM\n",
    "        - RNN\n",
    "        - CNN\n",
    "        - Transformer\n",
    "- genism을 활용하여 자체 학습된 혹은 사전 학습된 임베딩 레이어 분석\n",
    "    - 유사단어 찾기 활용\n",
    "    - 자체 학습 임제딩과 사전 학습 임베딩 비교\n",
    "- 한국 Word2Vec을 사용한 가시적인 성능 향상\n",
    "    - 네이버 리뷰 데이터 감성분석 정확도 85% 이상 달성\n",
    "    "
   ]
  },
  {
   "cell_type": "code",
   "execution_count": 4,
   "id": "f5469586",
   "metadata": {},
   "outputs": [
    {
     "data": {
      "text/html": [
       "<div>\n",
       "<style scoped>\n",
       "    .dataframe tbody tr th:only-of-type {\n",
       "        vertical-align: middle;\n",
       "    }\n",
       "\n",
       "    .dataframe tbody tr th {\n",
       "        vertical-align: top;\n",
       "    }\n",
       "\n",
       "    .dataframe thead th {\n",
       "        text-align: right;\n",
       "    }\n",
       "</style>\n",
       "<table border=\"1\" class=\"dataframe\">\n",
       "  <thead>\n",
       "    <tr style=\"text-align: right;\">\n",
       "      <th></th>\n",
       "      <th>id</th>\n",
       "      <th>document</th>\n",
       "      <th>label</th>\n",
       "    </tr>\n",
       "  </thead>\n",
       "  <tbody>\n",
       "    <tr>\n",
       "      <th>0</th>\n",
       "      <td>6270596</td>\n",
       "      <td>굳 ㅋ</td>\n",
       "      <td>1</td>\n",
       "    </tr>\n",
       "    <tr>\n",
       "      <th>1</th>\n",
       "      <td>9274899</td>\n",
       "      <td>GDNTOPCLASSINTHECLUB</td>\n",
       "      <td>0</td>\n",
       "    </tr>\n",
       "    <tr>\n",
       "      <th>2</th>\n",
       "      <td>8544678</td>\n",
       "      <td>뭐야 이 평점들은.... 나쁘진 않지만 10점 짜리는 더더욱 아니잖아</td>\n",
       "      <td>0</td>\n",
       "    </tr>\n",
       "    <tr>\n",
       "      <th>3</th>\n",
       "      <td>6825595</td>\n",
       "      <td>지루하지는 않은데 완전 막장임... 돈주고 보기에는....</td>\n",
       "      <td>0</td>\n",
       "    </tr>\n",
       "    <tr>\n",
       "      <th>4</th>\n",
       "      <td>6723715</td>\n",
       "      <td>3D만 아니었어도 별 다섯 개 줬을텐데.. 왜 3D로 나와서 제 심기를 불편하게 하죠??</td>\n",
       "      <td>0</td>\n",
       "    </tr>\n",
       "  </tbody>\n",
       "</table>\n",
       "</div>"
      ],
      "text/plain": [
       "        id                                           document  label\n",
       "0  6270596                                                굳 ㅋ      1\n",
       "1  9274899                               GDNTOPCLASSINTHECLUB      0\n",
       "2  8544678             뭐야 이 평점들은.... 나쁘진 않지만 10점 짜리는 더더욱 아니잖아      0\n",
       "3  6825595                   지루하지는 않은데 완전 막장임... 돈주고 보기에는....      0\n",
       "4  6723715  3D만 아니었어도 별 다섯 개 줬을텐데.. 왜 3D로 나와서 제 심기를 불편하게 하죠??      0"
      ]
     },
     "execution_count": 4,
     "metadata": {},
     "output_type": "execute_result"
    }
   ],
   "source": [
    "import tensorflow as tf\n",
    "import numpy as np\n",
    "import pandas as pd\n",
    "import matplotlib.pyplot as plt\n",
    "\n",
    "import pandas\n",
    "import konlpy\n",
    "import gensim\n",
    "\n",
    "# 데이터 읽어오기\n",
    "train_data = pd.read_table('~/aiffel/sentiment_classification/data/ratings_train.txt')\n",
    "test_data = pd.read_table('~/aiffel/sentiment_classification/data/ratings_test.txt')\n",
    "\n",
    "test_data.head()"
   ]
  },
  {
   "cell_type": "code",
   "execution_count": 5,
   "id": "e5f9185f",
   "metadata": {},
   "outputs": [],
   "source": [
    "# data loader\n",
    "# 데이터 중복 제거, NaN 결측치 제거, 한국어 토크나이저 토큰화, 불용어 제거\n",
    "# 사전 word_to_index 구성\n",
    "# x_train, y_train, x_test, y_test, word_to_index 리턴\n",
    "from collections import Counter\n",
    "from konlpy.tag import Mecab\n",
    "\n",
    "# konlpy tokenizer\n",
    "tokenizer = Mecab()\n",
    "# 불용어\n",
    "stopwords = ['의','가','이','은','들','는','좀','잘','걍','과','도','를','으로','자','에','와','한','하다']\n",
    "\n",
    "# 데이터 불러오는 함수\n",
    "def load_data(train_data, test_data, num_words=10000):\n",
    "    # 중복 제거 및 Nan값 제거\n",
    "    train_data.drop_duplicates(subset=['document'], inplace=True)\n",
    "    train_data = train_data.dropna(how = 'any') \n",
    "    test_data.drop_duplicates(subset=['document'], inplace=True)\n",
    "    test_data = test_data.dropna(how = 'any') \n",
    "    \n",
    "    # 토콘화 및 불용어 제거\n",
    "    X_train = []\n",
    "    for sentence in train_data['document']:\n",
    "        temp_X = tokenizer.morphs(sentence) # 토큰화\n",
    "        temp_X = [word for word in temp_X if not word in stopwords] # 불용어 제거\n",
    "        X_train.append(temp_X)\n",
    "\n",
    "    X_test = []\n",
    "    for sentence in test_data['document']:\n",
    "        temp_X = tokenizer.morphs(sentence) # 토큰화\n",
    "        temp_X = [word for word in temp_X if not word in stopwords] # 불용어 제거\n",
    "        X_test.append(temp_X)\n",
    "    \n",
    "    # X_train을 list로 만들어서 word에 들어 있는 text를 하나로 합친다\n",
    "    words = np.concatenate(X_train).tolist()\n",
    "    \n",
    "    # Counter로 가장 빈도가 높은 단어 추출 10000-4만큼 (용어, count(용어))\n",
    "    counter = Counter(words)\n",
    "    counter = counter.most_common(10000-4)\n",
    "    vocab = ['', '', '', ''] + [key for key, _ in counter]\n",
    "    # 빈도 높은 단어로 word index 사전 만들기\n",
    "    word_to_index = {word:index for index, word in enumerate(vocab)}\n",
    "     \n",
    "    # word 리스트를 인자로 받았을 때 index리스트로 변환해줌    \n",
    "    def wordlist_to_indexlist(wordlist):\n",
    "        return [word_to_index[word] if word in word_to_index else word_to_index[''] for word in wordlist]\n",
    "        \n",
    "    X_train = list(map(wordlist_to_indexlist, X_train))\n",
    "    X_test = list(map(wordlist_to_indexlist, X_test))\n",
    "    \n",
    "    # X_train. y_train, X_test , y_test\n",
    "    return X_train, np.array(list(train_data['label'])), X_test, np.array(list(test_data['label'])), word_to_index\n",
    "    "
   ]
  },
  {
   "cell_type": "code",
   "execution_count": 6,
   "id": "3f6ad826",
   "metadata": {},
   "outputs": [],
   "source": [
    "# 모든 문장은 Bos로 시작\n",
    "# 단어 인덱스 리스트로 변환해주는 함수\n",
    "def get_encoded_sentence(sentence,word_to_index):\n",
    "    return [word_to_indexp['<BOS>']]+[word_to_index[word] if word in word_to_index else word_to_index['<UNK>'] for word in sentences.split() ]\n",
    "\n",
    "\n",
    "# 여러 문장 리스트를 한번에 encode\n",
    "def get_encoded_sentences(sentences, word_to_index):\n",
    "    return [get_encoded_sentence(sentence,word_to_index) for sentence in sentences]\n",
    "# 변수에 담아서 출력하면 [[list 형태의 문장 index가  출력됨]]\n",
    "\n",
    "def get_decoded_sentences(encoded_sentences, index_to_word):\n",
    "    return [get_decoded_sentence(encoded_sentence, index_to_word) for encoded in encoded_sentences]\n",
    "\n",
    "\n",
    "# 앞문장 BoS는 제거해주고, index가 index_to word에 없으면 Unkown으로 처리\n",
    "def get_decoded_sentence(encoded_sentence, index_to_word):\n",
    "    return ' '.join(index_to_word[index] if index in index_to_word else '<UNK>' for index in encoded_sentence[1:])  #[1:]를 통해 <BOS>를 제외\n"
   ]
  },
  {
   "cell_type": "code",
   "execution_count": 11,
   "id": "9d52477f",
   "metadata": {},
   "outputs": [],
   "source": [
    "index_to_word = {index:word for word, index in word_to_index.items()}"
   ]
  },
  {
   "cell_type": "code",
   "execution_count": 7,
   "id": "754b2138",
   "metadata": {},
   "outputs": [],
   "source": [
    "# 데이터 load_data함수 사용해서 train, test, 데이터 만들기\n",
    "X_train, y_train, X_test, y_test, word_to_index = load_data(train_data, test_data)"
   ]
  },
  {
   "cell_type": "markdown",
   "id": "092782a7",
   "metadata": {},
   "source": [
    "### LSTM"
   ]
  },
  {
   "cell_type": "code",
   "execution_count": 17,
   "id": "1ca0d724",
   "metadata": {},
   "outputs": [],
   "source": [
    "# 실제 인코딩 인덱스는 제공된 word_to_index 기준으로 3씩 뒤로 밀려 있다\n",
    "word_to_index ={k:(v+3) for k,v in word_to_index.items()}\n",
    "\n",
    "\n",
    "# 처음 몇개의 인덱스는 사전 정의\n",
    "word_to_index[\"<PAD>\"] = 0\n",
    "word_to_index[\"<BOS>\"] = 1\n",
    "word_to_index[\"<UNK>\"] = 2\n",
    "word_to_index[\"<UNUSED>\"] = 3\n",
    "index_to_word = {index:word for word, index in word_to_index.items()}"
   ]
  },
  {
   "cell_type": "code",
   "execution_count": 18,
   "id": "95249673",
   "metadata": {},
   "outputs": [
    {
     "name": "stdout",
     "output_type": "stream",
     "text": [
      "문장길이 평균 :  15.96940191154864\n",
      "문장길이 최대 :  116\n",
      "문장길이 표준편차 :  12.843571191092\n",
      "pad_sequences maxlen :  41\n",
      "전체 문장의 0.9342988343341575%가 maxlen 설정값 이내에 포함됩니다. \n"
     ]
    }
   ],
   "source": [
    "total_data_text = list(X_train) + list(X_test)\n",
    "# 텍스트데이터 문장길이의 리스트를 생성한 후\n",
    "num_tokens = [len(tokens) for tokens in total_data_text]\n",
    "num_tokens = np.array(num_tokens)\n",
    "# 문장길이의 평균값, 최대값, 표준편차를 계산해 본다. \n",
    "print('문장길이 평균 : ', np.mean(num_tokens))\n",
    "print('문장길이 최대 : ', np.max(num_tokens))\n",
    "print('문장길이 표준편차 : ', np.std(num_tokens))\n",
    "\n",
    "# 예를들어, 최대 길이를 (평균 + 2*표준편차)로 한다면,  \n",
    "max_tokens = np.mean(num_tokens) + 2 * np.std(num_tokens)\n",
    "maxlen = int(max_tokens)\n",
    "print('pad_sequences maxlen : ', maxlen)\n",
    "print(f'전체 문장의 {np.sum(num_tokens < max_tokens) / len(num_tokens)}%가 maxlen 설정값 이내에 포함됩니다. ')"
   ]
  },
  {
   "cell_type": "code",
   "execution_count": 19,
   "id": "803dde4e",
   "metadata": {},
   "outputs": [
    {
     "name": "stdout",
     "output_type": "stream",
     "text": [
      "(146182, 41)\n"
     ]
    }
   ],
   "source": [
    "# paddding은 post로 진행\n",
    "x_train = tf.keras.preprocessing.sequence.pad_sequences(X_train,\n",
    "                                                        value=word_to_index[\"<PAD>\"],\n",
    "                                                        padding='post', # 혹은 'pre'\n",
    "                                                        maxlen=maxlen)\n",
    "\n",
    "x_test = tf.keras.preprocessing.sequence.pad_sequences(X_test,\n",
    "                                                       value=word_to_index[\"<PAD>\"],\n",
    "                                                       padding='post', # 혹은 'pre'\n",
    "                                                       maxlen=maxlen)\n",
    "\n",
    "print(x_train.shape)"
   ]
  },
  {
   "cell_type": "code",
   "execution_count": 99,
   "id": "3e88db34",
   "metadata": {},
   "outputs": [
    {
     "name": "stdout",
     "output_type": "stream",
     "text": [
      "WARNING:tensorflow:Layer lstm_6 will not use cuDNN kernels since it doesn't meet the criteria. It will use a generic GPU kernel as fallback when running on GPU.\n",
      "Model: \"sequential_3\"\n",
      "_________________________________________________________________\n",
      "Layer (type)                 Output Shape              Param #   \n",
      "=================================================================\n",
      "embedding_3 (Embedding)      (None, None, 250)         2500000   \n",
      "_________________________________________________________________\n",
      "lstm_6 (LSTM)                (None, None, 128)         194048    \n",
      "_________________________________________________________________\n",
      "lstm_7 (LSTM)                (None, 128)               131584    \n",
      "_________________________________________________________________\n",
      "dense_3 (Dense)              (None, 1)                 129       \n",
      "=================================================================\n",
      "Total params: 2,825,761\n",
      "Trainable params: 2,825,761\n",
      "Non-trainable params: 0\n",
      "_________________________________________________________________\n"
     ]
    }
   ],
   "source": [
    "vocab_size = 10000    # 어휘 사전의 크기입니다(10,000개의 단어)\n",
    "word_vector_dim = 250  # 워드 벡터의 차원 수 (변경 가능한 하이퍼파라미터)\n",
    "\n",
    "# model 설계 - Bi-LSTM 모델\n",
    "# Dropout로 과적합 방지\n",
    "model = tf.keras.Sequential()\n",
    "model.add(tf.keras.layers.Embedding(vocab_size, word_vector_dim, input_shape=(None,)))\n",
    "model.add(tf.keras.layers.LSTM(128,dropout=0.3, recurrent_dropout=0.2, return_sequences=True))   # 가장 널리 쓰이는 RNN인 LSTM 레이어를 사용하였습니다. 이때 LSTM state 벡터의 차원수는 8로 하였습니다. (변경 가능)\n",
    "model.add(tf.keras.layers.LSTM(128,dropout=0.5))   # 가장 널리 쓰이는 RNN인 LSTM 레이어를 사용하였습니다. 이때 LSTM state 벡터의 차원수는 8로 하였습니다. (변경 가능)\n",
    "model.add(tf.keras.layers.Dense(1, activation='sigmoid'))  # 최종 출력은 긍정/부정을 나타내는 1dim 입니다.\n",
    "\n",
    "\n",
    "model.summary()"
   ]
  },
  {
   "cell_type": "code",
   "execution_count": 22,
   "id": "5f5f2d19",
   "metadata": {},
   "outputs": [
    {
     "name": "stdout",
     "output_type": "stream",
     "text": [
      "(120000, 41)\n",
      "(120000,)\n"
     ]
    }
   ],
   "source": [
    "# validation set 10000건 분리\n",
    "x_val = x_train[:26182]   \n",
    "y_val = y_train[:26182]\n",
    "\n",
    "# validation set을 제외한 나머지 15000건\n",
    "partial_x_train = x_train[26182:]  \n",
    "partial_y_train = y_train[26182:]\n",
    "\n",
    "print(partial_x_train.shape)\n",
    "print(partial_y_train.shape)"
   ]
  },
  {
   "cell_type": "code",
   "execution_count": 101,
   "id": "36146721",
   "metadata": {},
   "outputs": [],
   "source": [
    "# 최적화 함수 Adam, RMSprops\n",
    "opt = tf.keras.optimizers.Adam()\n",
    "\n",
    "# 손실함수 binary_crossentropy 사용\n",
    "model.compile(optimizer=opt, # 'adam'\n",
    "              loss='binary_crossentropy',\n",
    "              metrics=['accuracy'])\n"
   ]
  },
  {
   "cell_type": "code",
   "execution_count": 102,
   "id": "1424c902",
   "metadata": {},
   "outputs": [
    {
     "name": "stdout",
     "output_type": "stream",
     "text": [
      "Epoch 1/5\n",
      "235/235 [==============================] - 50s 200ms/step - loss: 0.4427 - accuracy: 0.7729 - val_loss: 0.3491 - val_accuracy: 0.8466\n",
      "Epoch 2/5\n",
      "235/235 [==============================] - 46s 196ms/step - loss: 0.3324 - accuracy: 0.8574 - val_loss: 0.3438 - val_accuracy: 0.8508\n",
      "Epoch 3/5\n",
      "235/235 [==============================] - 46s 197ms/step - loss: 0.2968 - accuracy: 0.8725 - val_loss: 0.3268 - val_accuracy: 0.8586\n",
      "Epoch 4/5\n",
      "235/235 [==============================] - 46s 196ms/step - loss: 0.2665 - accuracy: 0.8876 - val_loss: 0.3328 - val_accuracy: 0.8602\n",
      "Epoch 5/5\n",
      "235/235 [==============================] - 46s 197ms/step - loss: 0.2427 - accuracy: 0.9000 - val_loss: 0.3517 - val_accuracy: 0.8602\n"
     ]
    }
   ],
   "source": [
    "epochs=5  # 몇 epoch를 훈련하면 좋을지 결과를 보면서 바꾸어 봅시다. \n",
    "\n",
    "# batch는 256 , 512 , 1024로 무두 진행\n",
    "# 512가 가장 성능이 좋았음\n",
    "history = model.fit(partial_x_train,\n",
    "                    partial_y_train,\n",
    "                    epochs=epochs,\n",
    "                    batch_size=512,\n",
    "                    validation_data=(x_val, y_val),\n",
    "                    verbose=1)"
   ]
  },
  {
   "cell_type": "code",
   "execution_count": 103,
   "id": "b969e0ad",
   "metadata": {},
   "outputs": [
    {
     "name": "stdout",
     "output_type": "stream",
     "text": [
      "1537/1537 - 20s - loss: 0.3626 - accuracy: 0.8538\n",
      "[0.36262834072113037, 0.8538356423377991]\n"
     ]
    }
   ],
   "source": [
    "# 결과 출력\n",
    "results = model.evaluate(x_test,  y_test, verbose=2)\n",
    "\n",
    "print(results)"
   ]
  },
  {
   "cell_type": "code",
   "execution_count": 104,
   "id": "a50aa0ce",
   "metadata": {},
   "outputs": [
    {
     "name": "stdout",
     "output_type": "stream",
     "text": [
      "dict_keys(['loss', 'accuracy', 'val_loss', 'val_accuracy'])\n"
     ]
    }
   ],
   "source": [
    "history_dict = history.history\n",
    "print(history_dict.keys()) # epoch에 따른 그래프를 그려볼 수 있는 항목들"
   ]
  },
  {
   "cell_type": "code",
   "execution_count": 109,
   "id": "9c80a1b2",
   "metadata": {},
   "outputs": [
    {
     "data": {
      "image/png": "[encoded data removed]",
      "text/plain": [
       "<Figure size 432x288 with 1 Axes>"
      ]
     },
     "metadata": {
      "needs_background": "light"
     },
     "output_type": "display_data"
    }
   ],
   "source": [
    "# 손실함수 그래프 확인\n",
    "import matplotlib.pyplot as plt\n",
    "\n",
    "acc = history_dict['accuracy']\n",
    "val_acc = history_dict['val_accuracy']\n",
    "loss = history_dict['loss']\n",
    "val_loss = history_dict['val_loss']\n",
    "\n",
    "epochs = range(1, len(acc) + 1)\n",
    "\n",
    "# \"bo\"는 \"파란색 점\"입니다\n",
    "plt.plot(epochs, loss, 'bo', label='Training loss')\n",
    "# b는 \"파란 실선\"입니다\n",
    "plt.plot(epochs, val_loss, 'b', label='Validation loss')\n",
    "plt.title('Training and validation loss')\n",
    "plt.xlabel('Epochs')\n",
    "plt.ylabel('Loss')\n",
    "plt.ylim(0.20,0.375)\n",
    "plt.legend()\n",
    "\n",
    "plt.show()\n"
   ]
  },
  {
   "cell_type": "code",
   "execution_count": 106,
   "id": "c53b1b7d",
   "metadata": {},
   "outputs": [
    {
     "name": "stdout",
     "output_type": "stream",
     "text": [
      "(10000, 250)\n"
     ]
    }
   ],
   "source": [
    "embedding_layer = model.layers[0]\n",
    "weights = embedding_layer.get_weights()[0]\n",
    "print(weights.shape)    # shape: (vocab_size, embedding_dim)"
   ]
  },
  {
   "cell_type": "markdown",
   "id": "bbe51d73",
   "metadata": {},
   "source": [
    "- embedding layer 16부터 최대 300까지 진행해 보았는데 높은 경우가 더 성능이 좋았음\n",
    "- 하지만 너무 높다고 높아지지는 않았음"
   ]
  },
  {
   "cell_type": "markdown",
   "id": "1b22d2b6",
   "metadata": {},
   "source": [
    "### LSTM & Word2Vec"
   ]
  },
  {
   "cell_type": "code",
   "execution_count": 111,
   "id": "a8ac4849",
   "metadata": {},
   "outputs": [
    {
     "data": {
      "text/plain": [
       "array([ 1.038851  , -1.1634965 ,  2.2386286 ,  0.8971453 , -2.088168  ,\n",
       "       -4.1942534 , -0.02519768, -0.69813883, -0.2908033 , -1.4651134 ,\n",
       "       -2.6863668 ,  0.7999443 , -0.6957915 , -0.5018775 ,  3.5025773 ,\n",
       "        0.21326113, -0.6588098 , -1.1900496 ,  0.61399573,  2.1247969 ,\n",
       "        0.1549463 ,  3.0840218 ,  3.1680267 , -3.9143991 ,  3.6073153 ,\n",
       "        0.5315545 , -0.3511633 , -1.107248  ,  1.7767181 , -0.95981866,\n",
       "        2.6072454 , -0.00697957, -3.27628   ,  1.558644  ,  0.81922376,\n",
       "        1.9231955 ,  3.7026553 , -0.53824735, -0.4920138 ,  2.4657123 ,\n",
       "       -2.620749  , -0.08950733,  0.61453176,  1.8866426 ,  0.257866  ,\n",
       "       -2.7827141 ,  2.9129577 , -0.6313133 ,  2.0387425 , -4.222685  ,\n",
       "       -2.7560544 ,  1.7903243 , -1.3080189 , -2.5531402 , -0.43849912,\n",
       "       -3.1073573 , -0.29090825,  5.1817617 ,  1.9604833 , -5.1421604 ,\n",
       "       -0.71431434,  4.5624633 , -0.55525815, -3.3019137 ,  1.6761336 ,\n",
       "       -1.9606539 , -0.2726863 ,  0.2465995 ,  1.2685091 ,  1.6055685 ,\n",
       "        1.8344896 ,  1.2752469 ,  0.99503314, -2.3348706 , -0.9290329 ,\n",
       "       -1.5920266 ,  5.693834  ,  1.1132814 , -0.9603875 , -1.970055  ,\n",
       "       -1.0120267 , -2.7289615 , -2.7759619 ,  3.214084  ,  1.8573734 ,\n",
       "       -1.3495721 , -0.10321241,  3.434593  , -2.8573685 , -1.9004927 ,\n",
       "       -1.6801298 , -2.805677  ,  1.7723105 , -0.41865307, -2.310913  ,\n",
       "       -6.2761464 , -0.8376036 ,  2.4590037 ,  2.1697695 , -4.440443  ],\n",
       "      dtype=float32)"
      ]
     },
     "execution_count": 111,
     "metadata": {},
     "output_type": "execute_result"
    }
   ],
   "source": [
    "# Word2VecKeyedVectors를 사용해 기본 LSTM으로 한 모델과 비교\n",
    "from gensim.models.keyedvectors  import Word2VecKeyedVectors\n",
    "import os\n",
    "\n",
    "word2vec_path = os.getenv('HOME')+'/data/word2vec_ko.model'\n",
    "word2vec = Word2VecKeyedVectors.load(word2vec_path)\n",
    "vector = word2vec.wv[\"끝\"]\n",
    "vector"
   ]
  },
  {
   "cell_type": "code",
   "execution_count": 112,
   "id": "cadb1a94",
   "metadata": {},
   "outputs": [
    {
     "data": {
      "text/plain": [
       "[('기쁨', 0.8425582647323608),\n",
       " ('비탄', 0.8262216448783875),\n",
       " ('아픔', 0.8158854842185974),\n",
       " ('연민', 0.8140999674797058),\n",
       " ('그리움', 0.8060039281845093),\n",
       " ('외로움', 0.8035392165184021),\n",
       " ('질투심', 0.7967507243156433),\n",
       " ('절망', 0.7751548886299133),\n",
       " ('죄책감', 0.7746415734291077),\n",
       " ('번민', 0.7715185880661011)]"
      ]
     },
     "execution_count": 112,
     "metadata": {},
     "output_type": "execute_result"
    }
   ],
   "source": [
    "word2vec.wv.similar_by_word(\"슬픔\")"
   ]
  },
  {
   "cell_type": "code",
   "execution_count": 189,
   "id": "c8b05d55",
   "metadata": {},
   "outputs": [],
   "source": [
    "vocab_size = 10000    # 어휘 사전의 크기입니다(10,000개의 단어)\n",
    "word_vector_dim = 250  # 워드 벡터의 차원수\n",
    "embedding_matrix = np.random.rand(vocab_size, word_vector_dim)\n",
    "for i in range(4, vocab_size):\n",
    "    word = index_to_word[i]\n",
    "    try:\n",
    "        embedding_matrix[i] = word2vec[word\n",
    "    except:\n",
    "        pass"
   ]
  },
  {
   "cell_type": "code",
   "execution_count": 196,
   "id": "0add6a01",
   "metadata": {},
   "outputs": [
    {
     "name": "stdout",
     "output_type": "stream",
     "text": [
      "WARNING:tensorflow:Layer lstm_12 will not use cuDNN kernels since it doesn't meet the criteria. It will use a generic GPU kernel as fallback when running on GPU.\n",
      "Model: \"sequential_17\"\n",
      "_________________________________________________________________\n",
      "Layer (type)                 Output Shape              Param #   \n",
      "=================================================================\n",
      "embedding_15 (Embedding)     (None, None, 250)         2500000   \n",
      "_________________________________________________________________\n",
      "lstm_12 (LSTM)               (None, None, 128)         194048    \n",
      "_________________________________________________________________\n",
      "lstm_13 (LSTM)               (None, 128)               131584    \n",
      "_________________________________________________________________\n",
      "dense_10 (Dense)             (None, 1)                 129       \n",
      "=================================================================\n",
      "Total params: 2,825,761\n",
      "Trainable params: 2,825,761\n",
      "Non-trainable params: 0\n",
      "_________________________________________________________________\n"
     ]
    }
   ],
   "source": [
    "# 이전과 동일하게 진행\n",
    "from tensorflow.keras.initializers import Constant\n",
    "\n",
    "vocab_size = 10000    # 어휘 사전의 크기입니다(10,000개의 단어)\n",
    "word_vector_dim = 250  # 워드 벡터의 차원 수 (변경 가능한 하이퍼파라미터)\n",
    "\n",
    "# model 설계 - 딥러닝 모델 코드를 직접 작성해 주세요.\n",
    "model = tf.keras.Sequential()\n",
    "model.add(tf.keras.layers.Embedding(vocab_size, \n",
    "                                    word_vector_dim,\n",
    "                                    embeddings_initializer=Constant(embedding_matrix),\n",
    "                                    input_shape=(None,),\n",
    "                                   trainable=True))\n",
    "model.add(tf.keras.layers.LSTM(128,dropout=0.3, recurrent_dropout=0.2, return_sequences=True))   # 가장 널리 쓰이는 RNN인 LSTM 레이어를 사용하였습니다. 이때 LSTM state 벡터의 차원수는 8로 하였습니다. (변경 가능)\n",
    "model.add(tf.keras.layers.LSTM(128,dropout=0.5))   # 가장 널리 쓰이는 RNN인 LSTM 레이어를 사용하였습니다. 이때 LSTM state 벡터의 차원수는 8로 하였습니다. (변경 가능)\n",
    "model.add(tf.keras.layers.Dense(1, activation='sigmoid'))  # 최종 출력은 긍정/부정을 나타내는 1dim 입니다.\n",
    "\n",
    "\n",
    "\n",
    "model.summary()"
   ]
  },
  {
   "cell_type": "code",
   "execution_count": 197,
   "id": "cdd977c5",
   "metadata": {},
   "outputs": [],
   "source": [
    "opt = tf.keras.optimizers.Adam()\n",
    "model.compile(optimizer=opt,\n",
    "              loss='binary_crossentropy',\n",
    "              metrics=['accuracy'])\n"
   ]
  },
  {
   "cell_type": "code",
   "execution_count": 198,
   "id": "6927fd5a",
   "metadata": {},
   "outputs": [
    {
     "name": "stdout",
     "output_type": "stream",
     "text": [
      "Epoch 1/8\n",
      "235/235 [==============================] - 51s 200ms/step - loss: 0.6569 - accuracy: 0.5644 - val_loss: 0.4333 - val_accuracy: 0.8052\n",
      "Epoch 2/8\n",
      "235/235 [==============================] - 47s 198ms/step - loss: 0.4127 - accuracy: 0.8157 - val_loss: 0.3527 - val_accuracy: 0.8463\n",
      "Epoch 3/8\n",
      "235/235 [==============================] - 46s 197ms/step - loss: 0.3597 - accuracy: 0.8448 - val_loss: 0.3430 - val_accuracy: 0.8519\n",
      "Epoch 4/8\n",
      "235/235 [==============================] - 46s 197ms/step - loss: 0.3351 - accuracy: 0.8584 - val_loss: 0.3301 - val_accuracy: 0.8580\n",
      "Epoch 5/8\n",
      "235/235 [==============================] - 46s 198ms/step - loss: 0.3162 - accuracy: 0.8668 - val_loss: 0.3231 - val_accuracy: 0.8606\n",
      "Epoch 6/8\n",
      "235/235 [==============================] - 47s 200ms/step - loss: 0.3055 - accuracy: 0.8721 - val_loss: 0.3222 - val_accuracy: 0.8602\n",
      "Epoch 7/8\n",
      "235/235 [==============================] - 46s 198ms/step - loss: 0.2936 - accuracy: 0.8775 - val_loss: 0.3213 - val_accuracy: 0.8610\n",
      "Epoch 8/8\n",
      "235/235 [==============================] - 47s 198ms/step - loss: 0.2857 - accuracy: 0.8818 - val_loss: 0.3302 - val_accuracy: 0.8613\n"
     ]
    }
   ],
   "source": [
    "epochs=8  # 몇 epoch를 훈련하면 좋을지 결과를 보면서 바꾸어 봅시다. \n",
    "\n",
    "history = model.fit(partial_x_train,\n",
    "                    partial_y_train,\n",
    "                    epochs=epochs,\n",
    "                    batch_size=512,\n",
    "                    validation_data=(x_val, y_val),\n",
    "                    verbose=1)"
   ]
  },
  {
   "cell_type": "code",
   "execution_count": 199,
   "id": "b58c47d6",
   "metadata": {},
   "outputs": [
    {
     "name": "stdout",
     "output_type": "stream",
     "text": [
      "1537/1537 - 20s - loss: 0.3396 - accuracy: 0.8567\n",
      "[0.33957505226135254, 0.8566633462905884]\n"
     ]
    }
   ],
   "source": [
    "results = model.evaluate(x_test,  y_test, verbose=2)\n",
    "\n",
    "print(results)"
   ]
  },
  {
   "cell_type": "code",
   "execution_count": 200,
   "id": "e2da06db",
   "metadata": {},
   "outputs": [
    {
     "name": "stdout",
     "output_type": "stream",
     "text": [
      "dict_keys(['loss', 'accuracy', 'val_loss', 'val_accuracy'])\n"
     ]
    }
   ],
   "source": [
    "history_dict = history.history\n",
    "print(history_dict.keys()) # epoch에 따른 그래프를 그려볼 수 있는 항목들"
   ]
  },
  {
   "cell_type": "code",
   "execution_count": 201,
   "id": "407835e8",
   "metadata": {},
   "outputs": [
    {
     "data": {
      "image/png": "[encoded data removed]",
      "text/plain": [
       "<Figure size 432x288 with 1 Axes>"
      ]
     },
     "metadata": {
      "needs_background": "light"
     },
     "output_type": "display_data"
    }
   ],
   "source": [
    "import matplotlib.pyplot as plt\n",
    "\n",
    "acc = history_dict['accuracy']\n",
    "val_acc = history_dict['val_accuracy']\n",
    "loss = history_dict['loss']\n",
    "val_loss = history_dict['val_loss']\n",
    "\n",
    "epochs = range(1, len(acc) + 1)\n",
    "\n",
    "# \"bo\"는 \"파란색 점\"입니다\n",
    "plt.plot(epochs, loss, 'bo', label='Training loss')\n",
    "# b는 \"파란 실선\"입니다\n",
    "plt.plot(epochs, val_loss, 'b', label='Validation loss')\n",
    "plt.title('Training and validation loss')\n",
    "plt.xlabel('Epochs')\n",
    "plt.ylabel('Loss')\n",
    "plt.legend()\n",
    "\n",
    "plt.show()\n"
   ]
  },
  {
   "cell_type": "markdown",
   "id": "a6b6d3f0",
   "metadata": {},
   "source": [
    "- 성능 0.0030정도 올라갔다. epoch 수를 적게 해서 엄청난 발전이 있는 것 같지는 않다\n",
    "- 하지만 그래프 확인 결과 이전 손실함수 그래프보다 훨씬 안정적으로  validation loss가 감소한다.\n",
    "- 과적합이 생각보다 빠르게 일어나서 모델에 조금 더 깊이를 만들거나, regularization을 해줘야 할 것 같다.\n",
    "- 데이터를 자세히 살펴보고 전처리를 해보는 것도 좋은 시도일 수 있을 것 같다"
   ]
  },
  {
   "cell_type": "markdown",
   "id": "3a1e8c4a",
   "metadata": {},
   "source": [
    "### RNN"
   ]
  },
  {
   "cell_type": "code",
   "execution_count": 131,
   "id": "43c80a6f",
   "metadata": {},
   "outputs": [
    {
     "name": "stdout",
     "output_type": "stream",
     "text": [
      "Model: \"sequential_12\"\n",
      "_________________________________________________________________\n",
      "Layer (type)                 Output Shape              Param #   \n",
      "=================================================================\n",
      "embedding_11 (Embedding)     (None, None, 300)         3000000   \n",
      "_________________________________________________________________\n",
      "simple_rnn_15 (SimpleRNN)    (None, None, 32)          10656     \n",
      "_________________________________________________________________\n",
      "dense_7 (Dense)              (None, None, 1)           33        \n",
      "=================================================================\n",
      "Total params: 3,010,689\n",
      "Trainable params: 3,010,689\n",
      "Non-trainable params: 0\n",
      "_________________________________________________________________\n"
     ]
    }
   ],
   "source": [
    "# 위와 동일한 데이터 셋을 가지고  RNN으로 진행\n",
    "vocab_size = 10000    # 어휘 사전의 크기입니다(10,000개의 단어)\n",
    "word_vector_dim = 300  # 워드 벡터의 차원 수 (변경 가능한 하이퍼파라미터)\n",
    "\n",
    "# model 설계 - 딥러닝 모델 코드를 직접 작성해 주세요.\n",
    "model = tf.keras.Sequential()\n",
    "model.add(tf.keras.layers.Embedding(vocab_size, \n",
    "                                    word_vector_dim,       \n",
    "                                    input_shape=(None,),\n",
    "                                   trainable=True))\n",
    "model.add(tf.keras.layers.SimpleRNN(32,dropout=0.3, recurrent_dropout=0.2, return_sequences=True))   # 가장 널리 쓰이는 RNN인 LSTM 레이어를 사용하였습니다. 이때 LSTM state 벡터의 차원수는 8로 하였습니다. (변경 가능) # 가장 널리 쓰이는 RNN인 LSTM 레이어를 사용하였습니다. 이때 LSTM state 벡터의 차원수는 8로 하였습니다. (변경 가능)\n",
    "model.add(tf.keras.layers.Dense(1, activation='sigmoid'))  # 최종 출력은 긍정/부정을 나타내는 1dim 입니다.\n",
    "\n",
    "\n",
    "model.summary()"
   ]
  },
  {
   "cell_type": "code",
   "execution_count": 132,
   "id": "691cac4b",
   "metadata": {},
   "outputs": [],
   "source": [
    "opt = tf.keras.optimizers.Adam()\n",
    "model.compile(optimizer=opt,\n",
    "              loss='binary_crossentropy',\n",
    "              metrics=['accuracy'])\n"
   ]
  },
  {
   "cell_type": "code",
   "execution_count": 133,
   "id": "4c188035",
   "metadata": {},
   "outputs": [
    {
     "name": "stdout",
     "output_type": "stream",
     "text": [
      "Epoch 1/5\n",
      "235/235 [==============================] - 18s 71ms/step - loss: 0.5239 - accuracy: 0.7506 - val_loss: 0.4450 - val_accuracy: 0.8052\n",
      "Epoch 2/5\n",
      "235/235 [==============================] - 16s 70ms/step - loss: 0.4383 - accuracy: 0.8154 - val_loss: 0.4577 - val_accuracy: 0.8083\n",
      "Epoch 3/5\n",
      "235/235 [==============================] - 17s 70ms/step - loss: 0.4177 - accuracy: 0.8253 - val_loss: 0.4480 - val_accuracy: 0.8099\n",
      "Epoch 4/5\n",
      "235/235 [==============================] - 16s 69ms/step - loss: 0.4063 - accuracy: 0.8307 - val_loss: 0.4354 - val_accuracy: 0.8122\n",
      "Epoch 5/5\n",
      "235/235 [==============================] - 16s 69ms/step - loss: 0.3995 - accuracy: 0.8331 - val_loss: 0.4159 - val_accuracy: 0.8134\n"
     ]
    }
   ],
   "source": [
    "epochs=5  # 몇 epoch를 훈련하면 좋을지 결과를 보면서 바꾸어 봅시다. \n",
    "\n",
    "history = model.fit(partial_x_train,\n",
    "                    partial_y_train,\n",
    "                    epochs=epochs,\n",
    "                    batch_size=512,\n",
    "                    validation_data=(x_val, y_val),\n",
    "                    verbose=1)"
   ]
  },
  {
   "cell_type": "code",
   "execution_count": 134,
   "id": "7936a5b2",
   "metadata": {},
   "outputs": [
    {
     "name": "stdout",
     "output_type": "stream",
     "text": [
      "1537/1537 - 8s - loss: 0.4216 - accuracy: 0.8117\n",
      "[0.4215710759162903, 0.8116781115531921]\n"
     ]
    }
   ],
   "source": [
    "# 결과\n",
    "results = model.evaluate(x_test,  y_test, verbose=2)\n",
    "\n",
    "print(results)"
   ]
  },
  {
   "cell_type": "code",
   "execution_count": 135,
   "id": "9fecdb43",
   "metadata": {},
   "outputs": [
    {
     "name": "stdout",
     "output_type": "stream",
     "text": [
      "dict_keys(['loss', 'accuracy', 'val_loss', 'val_accuracy'])\n"
     ]
    }
   ],
   "source": [
    "history_dict = history.history\n",
    "print(history_dict.keys()) # epoch에 따른 그래프를 그려볼 수 있는 항목들"
   ]
  },
  {
   "cell_type": "code",
   "execution_count": 136,
   "id": "f2dbfd39",
   "metadata": {},
   "outputs": [
    {
     "data": {
      "image/png": "[encoded data removed]",
      "text/plain": [
       "<Figure size 432x288 with 1 Axes>"
      ]
     },
     "metadata": {
      "needs_background": "light"
     },
     "output_type": "display_data"
    }
   ],
   "source": [
    "# 손실 그래프 살펴보기\n",
    "import matplotlib.pyplot as plt\n",
    "\n",
    "acc = history_dict['accuracy']\n",
    "val_acc = history_dict['val_accuracy']\n",
    "loss = history_dict['loss']\n",
    "val_loss = history_dict['val_loss']\n",
    "\n",
    "epochs = range(1, len(acc) + 1)\n",
    "\n",
    "# \"bo\"는 \"파란색 점\"입니다\n",
    "plt.plot(epochs, loss, 'bo', label='Training loss')\n",
    "# b는 \"파란 실선\"입니다\n",
    "plt.plot(epochs, val_loss, 'b', label='Validation loss')\n",
    "plt.title('Training and validation loss')\n",
    "plt.xlabel('Epochs')\n",
    "plt.ylabel('Loss')\n",
    "plt.legend()\n",
    "\n",
    "plt.show()\n"
   ]
  },
  {
   "cell_type": "code",
   "execution_count": null,
   "id": "979e441c",
   "metadata": {},
   "outputs": [],
   "source": [
    "embedding_layer = model.layers[0]\n",
    "weights = embedding_layer.get_weights()[0]\n",
    "print(weights.shape)    # shape: (vocab_size, embedding_dim)"
   ]
  },
  {
   "cell_type": "markdown",
   "id": "435981de",
   "metadata": {},
   "source": [
    "### RNN & Word2Vec"
   ]
  },
  {
   "cell_type": "code",
   "execution_count": 202,
   "id": "da4ae989",
   "metadata": {},
   "outputs": [
    {
     "data": {
      "text/plain": [
       "array([ 1.038851  , -1.1634965 ,  2.2386286 ,  0.8971453 , -2.088168  ,\n",
       "       -4.1942534 , -0.02519768, -0.69813883, -0.2908033 , -1.4651134 ,\n",
       "       -2.6863668 ,  0.7999443 , -0.6957915 , -0.5018775 ,  3.5025773 ,\n",
       "        0.21326113, -0.6588098 , -1.1900496 ,  0.61399573,  2.1247969 ,\n",
       "        0.1549463 ,  3.0840218 ,  3.1680267 , -3.9143991 ,  3.6073153 ,\n",
       "        0.5315545 , -0.3511633 , -1.107248  ,  1.7767181 , -0.95981866,\n",
       "        2.6072454 , -0.00697957, -3.27628   ,  1.558644  ,  0.81922376,\n",
       "        1.9231955 ,  3.7026553 , -0.53824735, -0.4920138 ,  2.4657123 ,\n",
       "       -2.620749  , -0.08950733,  0.61453176,  1.8866426 ,  0.257866  ,\n",
       "       -2.7827141 ,  2.9129577 , -0.6313133 ,  2.0387425 , -4.222685  ,\n",
       "       -2.7560544 ,  1.7903243 , -1.3080189 , -2.5531402 , -0.43849912,\n",
       "       -3.1073573 , -0.29090825,  5.1817617 ,  1.9604833 , -5.1421604 ,\n",
       "       -0.71431434,  4.5624633 , -0.55525815, -3.3019137 ,  1.6761336 ,\n",
       "       -1.9606539 , -0.2726863 ,  0.2465995 ,  1.2685091 ,  1.6055685 ,\n",
       "        1.8344896 ,  1.2752469 ,  0.99503314, -2.3348706 , -0.9290329 ,\n",
       "       -1.5920266 ,  5.693834  ,  1.1132814 , -0.9603875 , -1.970055  ,\n",
       "       -1.0120267 , -2.7289615 , -2.7759619 ,  3.214084  ,  1.8573734 ,\n",
       "       -1.3495721 , -0.10321241,  3.434593  , -2.8573685 , -1.9004927 ,\n",
       "       -1.6801298 , -2.805677  ,  1.7723105 , -0.41865307, -2.310913  ,\n",
       "       -6.2761464 , -0.8376036 ,  2.4590037 ,  2.1697695 , -4.440443  ],\n",
       "      dtype=float32)"
      ]
     },
     "execution_count": 202,
     "metadata": {},
     "output_type": "execute_result"
    }
   ],
   "source": [
    "# word2vec 불러오기\n",
    "from gensim.models.keyedvectors  import Word2VecKeyedVectors\n",
    "import os\n",
    "\n",
    "word2vec_path = os.getenv('HOME')+'/data/word2vec_ko.model'\n",
    "word2vec = Word2VecKeyedVectors.load(word2vec_path)\n",
    "vector = word2vec.wv[\"끝\"]\n",
    "vector"
   ]
  },
  {
   "cell_type": "code",
   "execution_count": 221,
   "id": "cf0805b0",
   "metadata": {},
   "outputs": [],
   "source": [
    "# 임베딩 matrix 만들기\n",
    "vocab_size = 10000    # 어휘 사전의 크기입니다(10,000개의 단어)\n",
    "word_vector_dim = 300  # 워드 벡터의 차원수\n",
    "embedding_matrix = np.random.rand(vocab_size, word_vector_dim)\n",
    "for i in range(4, vocab_size):\n",
    "    word = index_to_word[i]\n",
    "    try:\n",
    "        embedding_matrix[i] = word2vec[word\n",
    "    except:\n",
    "        pass"
   ]
  },
  {
   "cell_type": "code",
   "execution_count": 241,
   "id": "757c8095",
   "metadata": {},
   "outputs": [
    {
     "name": "stdout",
     "output_type": "stream",
     "text": [
      "Model: \"sequential_26\"\n",
      "_________________________________________________________________\n",
      "Layer (type)                 Output Shape              Param #   \n",
      "=================================================================\n",
      "embedding_24 (Embedding)     (None, None, 300)         3000000   \n",
      "_________________________________________________________________\n",
      "simple_rnn_25 (SimpleRNN)    (None, None, 32)          10656     \n",
      "_________________________________________________________________\n",
      "dense_19 (Dense)             (None, None, 1)           33        \n",
      "=================================================================\n",
      "Total params: 3,010,689\n",
      "Trainable params: 3,010,689\n",
      "Non-trainable params: 0\n",
      "_________________________________________________________________\n"
     ]
    }
   ],
   "source": [
    "# Constant는 지정한 파라미터를 특정한 상수값으로 생성\n",
    "from tensorflow.keras.initializers import Constant\n",
    "\n",
    "vocab_size = 10000    # 어휘 사전의 크기입니다(10,000개의 단어)\n",
    "word_vector_dim = 300  # 워드 벡터의 차원 수 (변경 가능한 하이퍼파라미터)\n",
    "\n",
    "# model 설계 \n",
    "model = tf.keras.Sequential()\n",
    "# trainable은 선택적 단계\n",
    "# 기본 모델의 일부 또는 전부를 동결 해제(?)하고 학습률이 매우 낮은 새로운 데이터에 대해 재훈련 과정 \n",
    "model.add(tf.keras.layers.Embedding(vocab_size, \n",
    "                                    word_vector_dim,\n",
    "                                    embeddings_initializer=Constant(embedding_matrix),\n",
    "                                    input_shape=(None,),\n",
    "                                   trainable=True))\n",
    "model.add(tf.keras.layers.SimpleRNN(32,dropout=0.3, recurrent_dropout=0.2, return_sequences=True))   # 가장 널리 쓰이는 RNN인 LSTM 레이어를 사용하였습니다. 이때 LSTM state 벡터의 차원수는 8로 하였습니다. (변경 가능) # 가장 널리 쓰이는 RNN인 LSTM 레이어를 사용하였습니다. 이때 LSTM state 벡터의 차원수는 8로 하였습니다. (변경 가능)\n",
    "model.add(tf.keras.layers.Dense(1, activation='sigmoid'))  # 최종 출력은 긍정/부정을 나타내는 1dim 입니다.\n",
    "\n",
    "\n",
    "\n",
    "model.summary()"
   ]
  },
  {
   "cell_type": "code",
   "execution_count": 242,
   "id": "435136da",
   "metadata": {},
   "outputs": [],
   "source": [
    "opt = tf.keras.optimizers.Adam()\n",
    "model.compile(optimizer=opt,\n",
    "              loss='binary_crossentropy',\n",
    "              metrics=['accuracy'])\n"
   ]
  },
  {
   "cell_type": "code",
   "execution_count": 243,
   "id": "175ae5d2",
   "metadata": {},
   "outputs": [
    {
     "name": "stdout",
     "output_type": "stream",
     "text": [
      "Epoch 1/5\n",
      "235/235 [==============================] - 18s 71ms/step - loss: 0.6974 - accuracy: 0.5210 - val_loss: 0.6747 - val_accuracy: 0.5501\n",
      "Epoch 2/5\n",
      "235/235 [==============================] - 16s 69ms/step - loss: 0.6673 - accuracy: 0.5785 - val_loss: 0.6899 - val_accuracy: 0.5038\n",
      "Epoch 3/5\n",
      "235/235 [==============================] - 16s 69ms/step - loss: 0.6858 - accuracy: 0.5304 - val_loss: 0.6791 - val_accuracy: 0.5434\n",
      "Epoch 4/5\n",
      "235/235 [==============================] - 16s 69ms/step - loss: 0.6731 - accuracy: 0.5494 - val_loss: 0.6496 - val_accuracy: 0.5810\n",
      "Epoch 5/5\n",
      "235/235 [==============================] - 16s 68ms/step - loss: 0.6232 - accuracy: 0.6304 - val_loss: 0.5122 - val_accuracy: 0.7833\n"
     ]
    }
   ],
   "source": [
    "epochs=5  \n",
    "\n",
    "history = model.fit(partial_x_train,\n",
    "                    partial_y_train,\n",
    "                    epochs=epochs,\n",
    "                    batch_size=512,\n",
    "                    validation_data=(x_val, y_val),\n",
    "                    verbose=1)"
   ]
  },
  {
   "cell_type": "code",
   "execution_count": 244,
   "id": "20d24997",
   "metadata": {},
   "outputs": [
    {
     "name": "stdout",
     "output_type": "stream",
     "text": [
      "1537/1537 - 8s - loss: 0.5152 - accuracy: 0.7801\n",
      "[0.5152367949485779, 0.7801331281661987]\n"
     ]
    }
   ],
   "source": [
    "results = model.evaluate(x_test,  y_test, verbose=2)\n",
    "print(results)"
   ]
  },
  {
   "cell_type": "code",
   "execution_count": 245,
   "id": "d2293e55",
   "metadata": {},
   "outputs": [
    {
     "name": "stdout",
     "output_type": "stream",
     "text": [
      "dict_keys(['loss', 'accuracy', 'val_loss', 'val_accuracy'])\n"
     ]
    }
   ],
   "source": [
    "history_dict = history.history\n",
    "print(history_dict.keys()) # epoch에 따른 그래프를 그려볼 수 있는 항목들"
   ]
  },
  {
   "cell_type": "code",
   "execution_count": 246,
   "id": "ce6185bb",
   "metadata": {},
   "outputs": [
    {
     "data": {
      "image/png": "[encoded data removed]",
      "text/plain": [
       "<Figure size 432x288 with 1 Axes>"
      ]
     },
     "metadata": {
      "needs_background": "light"
     },
     "output_type": "display_data"
    }
   ],
   "source": [
    "import matplotlib.pyplot as plt\n",
    "\n",
    "acc = history_dict['accuracy']\n",
    "val_acc = history_dict['val_accuracy']\n",
    "loss = history_dict['loss']\n",
    "val_loss = history_dict['val_loss']\n",
    "\n",
    "epochs = range(1, len(acc) + 1)\n",
    "\n",
    "# \"bo\"는 \"파란색 점\"입니다\n",
    "plt.plot(epochs, loss, 'bo', label='Training loss')\n",
    "# b는 \"파란 실선\"입니다\n",
    "plt.plot(epochs, val_loss, 'b', label='Validation loss')\n",
    "plt.title('Training and validation loss')\n",
    "plt.xlabel('Epochs')\n",
    "plt.ylabel('Loss')\n",
    "plt.legend()\n",
    "\n",
    "plt.show()\n"
   ]
  },
  {
   "cell_type": "code",
   "execution_count": 247,
   "id": "398b3d79",
   "metadata": {},
   "outputs": [
    {
     "name": "stdout",
     "output_type": "stream",
     "text": [
      "(10000, 300)\n"
     ]
    }
   ],
   "source": [
    "embedding_layer = model.layers[0]\n",
    "weights = embedding_layer.get_weights()[0]\n",
    "print(weights.shape)    # shape: (vocab_size, embedding_dim)"
   ]
  },
  {
   "cell_type": "code",
   "execution_count": null,
   "id": "76233b4b",
   "metadata": {},
   "outputs": [],
   "source": [
    "history_dict = history.history\n",
    "print(history_dict.keys())"
   ]
  },
  {
   "cell_type": "markdown",
   "id": "b6ae609b",
   "metadata": {},
   "source": [
    "- 특이하게도 단순 RNN을 가지고 훈렸했을 때와 Word2Vec로 훈련했을 때 비교를 해보았는데 하지 않았을 때가 더 높게 나타났다.. 훈련 과정을 너무 적게 했거나, 너무 단순한 모델이라서 그런 것이 아닐까 싶다."
   ]
  },
  {
   "cell_type": "markdown",
   "id": "3d79c278",
   "metadata": {},
   "source": [
    "### CNN"
   ]
  },
  {
   "cell_type": "code",
   "execution_count": 39,
   "id": "4514d01b",
   "metadata": {},
   "outputs": [
    {
     "name": "stdout",
     "output_type": "stream",
     "text": [
      "Model: \"sequential_1\"\n",
      "_________________________________________________________________\n",
      "Layer (type)                 Output Shape              Param #   \n",
      "=================================================================\n",
      "embedding (Embedding)        (None, 41, 250)           2500000   \n",
      "_________________________________________________________________\n",
      "conv1d (Conv1D)              (None, 35, 16)            28016     \n",
      "_________________________________________________________________\n",
      "max_pooling1d (MaxPooling1D) (None, 7, 16)             0         \n",
      "_________________________________________________________________\n",
      "conv1d_1 (Conv1D)            (None, 1, 16)             1808      \n",
      "_________________________________________________________________\n",
      "global_max_pooling1d (Global (None, 16)                0         \n",
      "_________________________________________________________________\n",
      "dense (Dense)                (None, 8)                 136       \n",
      "_________________________________________________________________\n",
      "dense_1 (Dense)              (None, 1)                 9         \n",
      "=================================================================\n",
      "Total params: 2,529,969\n",
      "Trainable params: 2,529,969\n",
      "Non-trainable params: 0\n",
      "_________________________________________________________________\n"
     ]
    }
   ],
   "source": [
    "vocab_size = 10000    # 어휘 사전의 크기입니다(10,000개의 단어)\n",
    "word_vector_dim = 250  # 워드 벡터의 차원 수 (변경 가능한 하이퍼파라미터)\n",
    "\n",
    "model = tf.keras.Sequential()\n",
    "model.add(tf.keras.layers.Embedding(vocab_size, \n",
    "                                 word_vector_dim, \n",
    "                                 input_length=maxlen, \n",
    "                                   ))   # trainable을 True로 주면 Fine-tuning\n",
    "model.add(tf.keras.layers.Conv1D(16, 7, activation='relu'))\n",
    "model.add(tf.keras.layers.MaxPooling1D(5))\n",
    "model.add(tf.keras.layers.Conv1D(16, 7, activation='relu'))\n",
    "model.add(tf.keras.layers.GlobalMaxPooling1D())\n",
    "model.add(tf.keras.layers.Dense(8, activation='relu'))\n",
    "model.add(tf.keras.layers.Dense(1, activation='sigmoid')) \n",
    "model.summary()"
   ]
  },
  {
   "cell_type": "code",
   "execution_count": 42,
   "id": "7bdc690d",
   "metadata": {},
   "outputs": [
    {
     "name": "stdout",
     "output_type": "stream",
     "text": [
      "Epoch 1/5\n",
      "235/235 [==============================] - 8s 13ms/step - loss: 0.4553 - accuracy: 0.7627 - val_loss: 0.3415 - val_accuracy: 0.8522\n",
      "Epoch 2/5\n",
      "235/235 [==============================] - 2s 7ms/step - loss: 0.3035 - accuracy: 0.8723 - val_loss: 0.3323 - val_accuracy: 0.8539\n",
      "Epoch 3/5\n",
      "235/235 [==============================] - 2s 7ms/step - loss: 0.2408 - accuracy: 0.9041 - val_loss: 0.3447 - val_accuracy: 0.8529\n",
      "Epoch 4/5\n",
      "235/235 [==============================] - 2s 7ms/step - loss: 0.1683 - accuracy: 0.9385 - val_loss: 0.3871 - val_accuracy: 0.8496\n",
      "Epoch 5/5\n",
      "235/235 [==============================] - 2s 7ms/step - loss: 0.1076 - accuracy: 0.9636 - val_loss: 0.4760 - val_accuracy: 0.8420\n"
     ]
    }
   ],
   "source": [
    "model.compile(optimizer='adam',\n",
    "              loss='binary_crossentropy',\n",
    "              metrics=['accuracy'])\n",
    "              \n",
    "epochs=5  # 몇 epoch를 훈련하면 좋을지 결과를 보면서 바꾸어 봅시다. \n",
    "\n",
    "history = model.fit(partial_x_train,\n",
    "                    partial_y_train,\n",
    "                    epochs=epochs,\n",
    "                    batch_size=512,\n",
    "                    validation_data=(x_val, y_val),\n",
    "                    verbose=1)"
   ]
  },
  {
   "cell_type": "code",
   "execution_count": 43,
   "id": "6d1a9f46",
   "metadata": {},
   "outputs": [
    {
     "name": "stdout",
     "output_type": "stream",
     "text": [
      "1537/1537 - 3s - loss: 0.4827 - accuracy: 0.8380\n",
      "[0.4826851487159729, 0.8379681706428528]\n"
     ]
    }
   ],
   "source": [
    "# 테스트셋을 통한 모델 평가\n",
    "results = model.evaluate(x_test,  y_test, verbose=2)\n",
    "\n",
    "print(results)"
   ]
  },
  {
   "cell_type": "code",
   "execution_count": 45,
   "id": "5600b95d",
   "metadata": {},
   "outputs": [
    {
     "name": "stdout",
     "output_type": "stream",
     "text": [
      "dict_keys(['loss', 'accuracy', 'val_loss', 'val_accuracy'])\n"
     ]
    }
   ],
   "source": [
    "history_dict = history.history\n",
    "print(history_dict.keys()) # epoch에 따른 그래프를 그려볼 수 있는 항목들"
   ]
  },
  {
   "cell_type": "code",
   "execution_count": 46,
   "id": "4a28b3b5",
   "metadata": {},
   "outputs": [
    {
     "data": {
      "image/png": "[encoded data removed]",
      "text/plain": [
       "<Figure size 432x288 with 1 Axes>"
      ]
     },
     "metadata": {
      "needs_background": "light"
     },
     "output_type": "display_data"
    }
   ],
   "source": [
    "import matplotlib.pyplot as plt\n",
    "\n",
    "acc = history_dict['accuracy']\n",
    "val_acc = history_dict['val_accuracy']\n",
    "loss = history_dict['loss']\n",
    "val_loss = history_dict['val_loss']\n",
    "\n",
    "epochs = range(1, len(acc) + 1)\n",
    "\n",
    "# \"bo\"는 \"파란색 점\"입니다\n",
    "plt.plot(epochs, loss, 'bo', label='Training loss')\n",
    "# b는 \"파란 실선\"입니다\n",
    "plt.plot(epochs, val_loss, 'b', label='Validation loss')\n",
    "plt.title('Training and validation loss')\n",
    "plt.xlabel('Epochs')\n",
    "plt.ylabel('Loss')\n",
    "plt.legend()\n",
    "\n",
    "plt.show()\n"
   ]
  },
  {
   "cell_type": "markdown",
   "id": "c62ec719",
   "metadata": {},
   "source": [
    "### CNN Word2Vec"
   ]
  },
  {
   "cell_type": "code",
   "execution_count": 1,
   "id": "920698da",
   "metadata": {},
   "outputs": [
    {
     "data": {
      "text/plain": [
       "array([ 1.038851  , -1.1634965 ,  2.2386286 ,  0.8971453 , -2.088168  ,\n",
       "       -4.1942534 , -0.02519768, -0.69813883, -0.2908033 , -1.4651134 ,\n",
       "       -2.6863668 ,  0.7999443 , -0.6957915 , -0.5018775 ,  3.5025773 ,\n",
       "        0.21326113, -0.6588098 , -1.1900496 ,  0.61399573,  2.1247969 ,\n",
       "        0.1549463 ,  3.0840218 ,  3.1680267 , -3.9143991 ,  3.6073153 ,\n",
       "        0.5315545 , -0.3511633 , -1.107248  ,  1.7767181 , -0.95981866,\n",
       "        2.6072454 , -0.00697957, -3.27628   ,  1.558644  ,  0.81922376,\n",
       "        1.9231955 ,  3.7026553 , -0.53824735, -0.4920138 ,  2.4657123 ,\n",
       "       -2.620749  , -0.08950733,  0.61453176,  1.8866426 ,  0.257866  ,\n",
       "       -2.7827141 ,  2.9129577 , -0.6313133 ,  2.0387425 , -4.222685  ,\n",
       "       -2.7560544 ,  1.7903243 , -1.3080189 , -2.5531402 , -0.43849912,\n",
       "       -3.1073573 , -0.29090825,  5.1817617 ,  1.9604833 , -5.1421604 ,\n",
       "       -0.71431434,  4.5624633 , -0.55525815, -3.3019137 ,  1.6761336 ,\n",
       "       -1.9606539 , -0.2726863 ,  0.2465995 ,  1.2685091 ,  1.6055685 ,\n",
       "        1.8344896 ,  1.2752469 ,  0.99503314, -2.3348706 , -0.9290329 ,\n",
       "       -1.5920266 ,  5.693834  ,  1.1132814 , -0.9603875 , -1.970055  ,\n",
       "       -1.0120267 , -2.7289615 , -2.7759619 ,  3.214084  ,  1.8573734 ,\n",
       "       -1.3495721 , -0.10321241,  3.434593  , -2.8573685 , -1.9004927 ,\n",
       "       -1.6801298 , -2.805677  ,  1.7723105 , -0.41865307, -2.310913  ,\n",
       "       -6.2761464 , -0.8376036 ,  2.4590037 ,  2.1697695 , -4.440443  ],\n",
       "      dtype=float32)"
      ]
     },
     "execution_count": 1,
     "metadata": {},
     "output_type": "execute_result"
    }
   ],
   "source": [
    "from gensim.models.keyedvectors  import Word2VecKeyedVectors\n",
    "import os\n",
    "\n",
    "word2vec_path = os.getenv('HOME')+'/data/word2vec_ko.model'\n",
    "word2vec = Word2VecKeyedVectors.load(word2vec_path)\n",
    "vector = word2vec.wv[\"끝\"]\n",
    "vector"
   ]
  },
  {
   "cell_type": "code",
   "execution_count": 12,
   "id": "d4b6c469",
   "metadata": {},
   "outputs": [],
   "source": [
    "# 임베딩 matrix 만들기\n",
    "vocab_size = 10000    # 어휘 사전의 크기입니다(10,000개의 단어)\n",
    "word_vector_dim = 300  # 워드 벡터의 차원수\n",
    "embedding_matrix = np.random.rand(vocab_size, word_vector_dim)\n",
    "for i in range(4, vocab_size):\n",
    "    word = index_to_word[i]\n",
    "    try:\n",
    "        embedding_matrix[i] = word2vec[word]\n",
    "    except:\n",
    "        pass\n"
   ]
  },
  {
   "cell_type": "code",
   "execution_count": 20,
   "id": "72ac91ad",
   "metadata": {},
   "outputs": [
    {
     "name": "stdout",
     "output_type": "stream",
     "text": [
      "Model: \"sequential_2\"\n",
      "_________________________________________________________________\n",
      "Layer (type)                 Output Shape              Param #   \n",
      "=================================================================\n",
      "embedding (Embedding)        (None, 41, 300)           3000000   \n",
      "_________________________________________________________________\n",
      "conv1d (Conv1D)              (None, 35, 16)            33616     \n",
      "_________________________________________________________________\n",
      "max_pooling1d (MaxPooling1D) (None, 7, 16)             0         \n",
      "_________________________________________________________________\n",
      "conv1d_1 (Conv1D)            (None, 1, 16)             1808      \n",
      "_________________________________________________________________\n",
      "global_max_pooling1d (Global (None, 16)                0         \n",
      "_________________________________________________________________\n",
      "dense (Dense)                (None, 8)                 136       \n",
      "_________________________________________________________________\n",
      "dense_1 (Dense)              (None, 1)                 9         \n",
      "=================================================================\n",
      "Total params: 3,035,569\n",
      "Trainable params: 3,035,569\n",
      "Non-trainable params: 0\n",
      "_________________________________________________________________\n"
     ]
    }
   ],
   "source": [
    "# Constant는 지정한 파라미터를 특정한 상수값으로 생성\n",
    "from tensorflow.keras.initializers import Constant\n",
    "model = tf.keras.Sequential()\n",
    "model.add(tf.keras.layers.Embedding(vocab_size, \n",
    "                                 word_vector_dim, \n",
    "                                 embeddings_initializer=Constant(embedding_matrix),  # 카피한 임베딩을 여기서 활용\n",
    "                                 input_length=maxlen, \n",
    "                                 trainable=True))   # trainable을 True로 주면 Fine-tuning\n",
    "model.add(tf.keras.layers.Conv1D(16, 7, activation='relu'))\n",
    "model.add(tf.keras.layers.MaxPooling1D(5))\n",
    "model.add(tf.keras.layers.Conv1D(16, 7, activation='relu'))\n",
    "model.add(tf.keras.layers.GlobalMaxPooling1D())\n",
    "model.add(tf.keras.layers.Dense(8, activation='relu'))\n",
    "model.add(tf.keras.layers.Dense(1, activation='sigmoid')) \n",
    "model.summary()"
   ]
  },
  {
   "cell_type": "code",
   "execution_count": 23,
   "id": "2667bd8b",
   "metadata": {},
   "outputs": [
    {
     "name": "stdout",
     "output_type": "stream",
     "text": [
      "Epoch 1/5\n",
      "235/235 [==============================] - 6s 10ms/step - loss: 0.6455 - accuracy: 0.6080 - val_loss: 0.4584 - val_accuracy: 0.7906\n",
      "Epoch 2/5\n",
      "235/235 [==============================] - 2s 8ms/step - loss: 0.3994 - accuracy: 0.8214 - val_loss: 0.3763 - val_accuracy: 0.8336\n",
      "Epoch 3/5\n",
      "235/235 [==============================] - 2s 8ms/step - loss: 0.3343 - accuracy: 0.8573 - val_loss: 0.3699 - val_accuracy: 0.8376\n",
      "Epoch 4/5\n",
      "235/235 [==============================] - 2s 8ms/step - loss: 0.3033 - accuracy: 0.8731 - val_loss: 0.3510 - val_accuracy: 0.8484\n",
      "Epoch 5/5\n",
      "235/235 [==============================] - 2s 8ms/step - loss: 0.2779 - accuracy: 0.8866 - val_loss: 0.4093 - val_accuracy: 0.8220\n"
     ]
    }
   ],
   "source": [
    "model.compile(optimizer='adam',\n",
    "              loss='binary_crossentropy',\n",
    "              metrics=['accuracy'])\n",
    "              \n",
    "epochs=5\n",
    "\n",
    "history = model.fit(partial_x_train,\n",
    "                    partial_y_train,\n",
    "                    epochs=epochs,\n",
    "                    batch_size=512,\n",
    "                    validation_data=(x_val, y_val),\n",
    "                    verbose=1)"
   ]
  },
  {
   "cell_type": "code",
   "execution_count": 24,
   "id": "30237b28",
   "metadata": {},
   "outputs": [
    {
     "name": "stdout",
     "output_type": "stream",
     "text": [
      "1537/1537 - 3s - loss: 0.4212 - accuracy: 0.8199\n",
      "[0.42120474576950073, 0.819903552532196]\n"
     ]
    }
   ],
   "source": [
    "# 테스트셋을 통한 모델 평가\n",
    "results = model.evaluate(x_test,  y_test, verbose=2)\n",
    "\n",
    "print(results)"
   ]
  },
  {
   "cell_type": "code",
   "execution_count": 25,
   "id": "671f04cb",
   "metadata": {},
   "outputs": [
    {
     "name": "stdout",
     "output_type": "stream",
     "text": [
      "dict_keys(['loss', 'accuracy', 'val_loss', 'val_accuracy'])\n"
     ]
    }
   ],
   "source": [
    "history_dict = history.history\n",
    "print(history_dict.keys()) # epoch에 따른 그래프를 그려볼 수 있는 항목들"
   ]
  },
  {
   "cell_type": "code",
   "execution_count": 26,
   "id": "01c5d538",
   "metadata": {},
   "outputs": [
    {
     "data": {
      "image/png": "[encoded data removed]",
      "text/plain": [
       "<Figure size 432x288 with 1 Axes>"
      ]
     },
     "metadata": {
      "needs_background": "light"
     },
     "output_type": "display_data"
    }
   ],
   "source": [
    "import matplotlib.pyplot as plt\n",
    "\n",
    "acc = history_dict['accuracy']\n",
    "val_acc = history_dict['val_accuracy']\n",
    "loss = history_dict['loss']\n",
    "val_loss = history_dict['val_loss']\n",
    "\n",
    "epochs = range(1, len(acc) + 1)\n",
    "\n",
    "# \"bo\"는 \"파란색 점\"입니다\n",
    "plt.plot(epochs, loss, 'bo', label='Training loss')\n",
    "# b는 \"파란 실선\"입니다\n",
    "plt.plot(epochs, val_loss, 'b', label='Validation loss')\n",
    "plt.title('Training and validation loss')\n",
    "plt.xlabel('Epochs')\n",
    "plt.ylabel('Loss')\n",
    "plt.legend()\n",
    "\n",
    "plt.show()\n"
   ]
  },
  {
   "cell_type": "markdown",
   "id": "2bb4d1ae",
   "metadata": {},
   "source": [
    "### Transformer"
   ]
  },
  {
   "cell_type": "code",
   "execution_count": 1,
   "id": "591f7eb4",
   "metadata": {},
   "outputs": [
    {
     "name": "stdout",
     "output_type": "stream",
     "text": [
      "Collecting git+https://****@github.com/SKTBrain/KoBERT.git@master\n",
      "  Cloning https://****@github.com/SKTBrain/KoBERT.git (to revision master) to /tmp/pip-req-build-excws4e0\n",
      "  Running command git clone --filter=blob:none -q 'https://****@github.com/SKTBrain/KoBERT.git' /tmp/pip-req-build-excws4e0\n",
      "  Resolved https://****@github.com/SKTBrain/KoBERT.git to commit 47a69af87928fc24e20f571fe10c3cc9dd9af9a3\n",
      "  Preparing metadata (setup.py) ... \u001b[?25ldone\n",
      "\u001b[?25hCollecting boto3<=1.15.18\n",
      "  Downloading boto3-1.15.18-py2.py3-none-any.whl (129 kB)\n",
      "     |████████████████████████████████| 129 kB 6.0 MB/s            \n",
      "\u001b[?25hCollecting gluonnlp<=0.10.0,>=0.6.0\n",
      "  Downloading gluonnlp-0.10.0.tar.gz (344 kB)\n",
      "     |████████████████████████████████| 344 kB 36.7 MB/s            \n",
      "\u001b[?25h  Preparing metadata (setup.py) ... \u001b[?25ldone\n",
      "\u001b[?25hCollecting mxnet<=1.7.0.post2,>=1.4.0\n",
      "  Downloading mxnet-1.7.0.post2-py2.py3-none-manylinux2014_x86_64.whl (54.7 MB)\n",
      "     |████████████████████████████████| 54.7 MB 21 kB/s              \n",
      "\u001b[?25hCollecting onnxruntime<=1.8.0,==1.8.0\n",
      "  Downloading onnxruntime-1.8.0-cp39-cp39-manylinux_2_17_x86_64.manylinux2014_x86_64.whl (4.5 MB)\n",
      "     |████████████████████████████████| 4.5 MB 53.6 MB/s            \n",
      "\u001b[?25hRequirement already satisfied: sentencepiece<=0.1.96,>=0.1.6 in /opt/conda/lib/python3.9/site-packages (from kobert==0.2.3) (0.1.96)\n",
      "Requirement already satisfied: torch<=1.10.1,>=1.7.0 in /opt/conda/lib/python3.9/site-packages (from kobert==0.2.3) (1.9.1+cu111)\n",
      "Collecting transformers<=4.8.1,>=4.8.1\n",
      "  Downloading transformers-4.8.1-py3-none-any.whl (2.5 MB)\n",
      "     |████████████████████████████████| 2.5 MB 37.0 MB/s            \n",
      "\u001b[?25hRequirement already satisfied: protobuf in /opt/conda/lib/python3.9/site-packages (from onnxruntime<=1.8.0,==1.8.0->kobert==0.2.3) (3.19.1)\n",
      "Requirement already satisfied: flatbuffers in /opt/conda/lib/python3.9/site-packages (from onnxruntime<=1.8.0,==1.8.0->kobert==0.2.3) (1.12)\n",
      "Requirement already satisfied: numpy>=1.16.6 in /opt/conda/lib/python3.9/site-packages (from onnxruntime<=1.8.0,==1.8.0->kobert==0.2.3) (1.21.4)\n",
      "Collecting s3transfer<0.4.0,>=0.3.0\n",
      "  Downloading s3transfer-0.3.7-py2.py3-none-any.whl (73 kB)\n",
      "     |████████████████████████████████| 73 kB 3.6 MB/s             \n",
      "\u001b[?25hCollecting jmespath<1.0.0,>=0.7.1\n",
      "  Downloading jmespath-0.10.0-py2.py3-none-any.whl (24 kB)\n",
      "Collecting botocore<1.19.0,>=1.18.18\n",
      "  Downloading botocore-1.18.18-py2.py3-none-any.whl (6.7 MB)\n",
      "     |████████████████████████████████| 6.7 MB 62.4 MB/s            \n",
      "\u001b[?25hRequirement already satisfied: cython in /opt/conda/lib/python3.9/site-packages (from gluonnlp<=0.10.0,>=0.6.0->kobert==0.2.3) (0.29.24)\n",
      "Requirement already satisfied: packaging in /opt/conda/lib/python3.9/site-packages (from gluonnlp<=0.10.0,>=0.6.0->kobert==0.2.3) (21.3)\n",
      "Requirement already satisfied: requests<3,>=2.20.0 in /opt/conda/lib/python3.9/site-packages (from mxnet<=1.7.0.post2,>=1.4.0->kobert==0.2.3) (2.26.0)\n",
      "Collecting graphviz<0.9.0,>=0.8.1\n",
      "  Downloading graphviz-0.8.4-py2.py3-none-any.whl (16 kB)\n",
      "Requirement already satisfied: typing-extensions in /opt/conda/lib/python3.9/site-packages (from torch<=1.10.1,>=1.7.0->kobert==0.2.3) (4.0.1)\n",
      "Requirement already satisfied: sacremoses in /opt/conda/lib/python3.9/site-packages (from transformers<=4.8.1,>=4.8.1->kobert==0.2.3) (0.0.46)\n",
      "Requirement already satisfied: tokenizers<0.11,>=0.10.1 in /opt/conda/lib/python3.9/site-packages (from transformers<=4.8.1,>=4.8.1->kobert==0.2.3) (0.10.3)\n",
      "Requirement already satisfied: tqdm>=4.27 in /opt/conda/lib/python3.9/site-packages (from transformers<=4.8.1,>=4.8.1->kobert==0.2.3) (4.62.3)\n",
      "Requirement already satisfied: regex!=2019.12.17 in /opt/conda/lib/python3.9/site-packages (from transformers<=4.8.1,>=4.8.1->kobert==0.2.3) (2021.11.10)\n",
      "Collecting huggingface-hub==0.0.12\n",
      "  Downloading huggingface_hub-0.0.12-py3-none-any.whl (37 kB)\n",
      "Requirement already satisfied: pyyaml in /opt/conda/lib/python3.9/site-packages (from transformers<=4.8.1,>=4.8.1->kobert==0.2.3) (6.0)\n",
      "Requirement already satisfied: filelock in /opt/conda/lib/python3.9/site-packages (from transformers<=4.8.1,>=4.8.1->kobert==0.2.3) (3.4.0)\n",
      "Collecting urllib3<1.26,>=1.20\n",
      "  Downloading urllib3-1.25.11-py2.py3-none-any.whl (127 kB)\n",
      "     |████████████████████████████████| 127 kB 94.5 MB/s            \n",
      "\u001b[?25hRequirement already satisfied: python-dateutil<3.0.0,>=2.1 in /opt/conda/lib/python3.9/site-packages (from botocore<1.19.0,>=1.18.18->boto3<=1.15.18->kobert==0.2.3) (2.8.2)\n",
      "Requirement already satisfied: pyparsing!=3.0.5,>=2.0.2 in /opt/conda/lib/python3.9/site-packages (from packaging->gluonnlp<=0.10.0,>=0.6.0->kobert==0.2.3) (3.0.6)\n",
      "Requirement already satisfied: charset-normalizer~=2.0.0 in /opt/conda/lib/python3.9/site-packages (from requests<3,>=2.20.0->mxnet<=1.7.0.post2,>=1.4.0->kobert==0.2.3) (2.0.8)\n",
      "Requirement already satisfied: certifi>=2017.4.17 in /opt/conda/lib/python3.9/site-packages (from requests<3,>=2.20.0->mxnet<=1.7.0.post2,>=1.4.0->kobert==0.2.3) (2021.10.8)\n",
      "Requirement already satisfied: idna<4,>=2.5 in /opt/conda/lib/python3.9/site-packages (from requests<3,>=2.20.0->mxnet<=1.7.0.post2,>=1.4.0->kobert==0.2.3) (2.10)\n",
      "Requirement already satisfied: joblib in /opt/conda/lib/python3.9/site-packages (from sacremoses->transformers<=4.8.1,>=4.8.1->kobert==0.2.3) (1.1.0)\n",
      "Requirement already satisfied: click in /opt/conda/lib/python3.9/site-packages (from sacremoses->transformers<=4.8.1,>=4.8.1->kobert==0.2.3) (8.0.3)\n",
      "Requirement already satisfied: six in /opt/conda/lib/python3.9/site-packages (from sacremoses->transformers<=4.8.1,>=4.8.1->kobert==0.2.3) (1.16.0)\n",
      "Building wheels for collected packages: kobert, gluonnlp\n",
      "  Building wheel for kobert (setup.py) ... \u001b[?25ldone\n",
      "\u001b[?25h  Created wheel for kobert: filename=kobert-0.2.3-py3-none-any.whl size=15708 sha256=33709afc2ad2aa3f9f1ba2641354f8f46ee1056af6902957e60e7343d51b4516\n",
      "  Stored in directory: /tmp/pip-ephem-wheel-cache-kdogipas/wheels/0b/20/d8/031374f3d29b5150c59c814bed091fca7d6d4c8218148bf286\n",
      "  Building wheel for gluonnlp (setup.py) ... \u001b[?25ldone\n",
      "\u001b[?25h  Created wheel for gluonnlp: filename=gluonnlp-0.10.0-cp39-cp39-linux_x86_64.whl size=475209 sha256=70dcf1ec3f2c2138680224864beda85cfd398ed909fa9db1c6b4c754e878b4a1\n",
      "  Stored in directory: /aiffel/.cache/pip/wheels/47/17/70/b257bc53879a458c4bfcc900e89271aa8b4f19366a54bd2455\n",
      "Successfully built kobert gluonnlp\n",
      "Installing collected packages: urllib3, jmespath, botocore, s3transfer, huggingface-hub, graphviz, transformers, onnxruntime, mxnet, gluonnlp, boto3, kobert\n",
      "  Attempting uninstall: urllib3\n",
      "    Found existing installation: urllib3 1.26.7\n",
      "    Uninstalling urllib3-1.26.7:\n",
      "      Successfully uninstalled urllib3-1.26.7\n",
      "  Attempting uninstall: huggingface-hub\n",
      "    Found existing installation: huggingface-hub 0.0.19\n",
      "    Uninstalling huggingface-hub-0.0.19:\n",
      "      Successfully uninstalled huggingface-hub-0.0.19\n",
      "  Attempting uninstall: transformers\n",
      "    Found existing installation: transformers 4.11.3\n",
      "    Uninstalling transformers-4.11.3:\n",
      "      Successfully uninstalled transformers-4.11.3\n",
      "\u001b[31mERROR: pip's dependency resolver does not currently take into account all the packages that are installed. This behaviour is the source of the following dependency conflicts.\n",
      "selenium 4.0.0 requires urllib3[secure]~=1.26, but you have urllib3 1.25.11 which is incompatible.\n",
      "datasets 1.14.0 requires huggingface-hub<0.1.0,>=0.0.19, but you have huggingface-hub 0.0.12 which is incompatible.\u001b[0m\n",
      "Successfully installed boto3-1.15.18 botocore-1.18.18 gluonnlp-0.10.0 graphviz-0.8.4 huggingface-hub-0.0.12 jmespath-0.10.0 kobert-0.2.3 mxnet-1.7.0.post2 onnxruntime-1.8.0 s3transfer-0.3.7 transformers-4.8.1 urllib3-1.25.11\n",
      "\u001b[33mWARNING: Running pip as the 'root' user can result in broken permissions and conflicting behaviour with the system package manager. It is recommended to use a virtual environment instead: https://pip.pypa.io/warnings/venv\u001b[0m\n"
     ]
    }
   ],
   "source": [
    "!pip install git+https://git@github.com/SKTBrain/KoBERT.git@master"
   ]
  },
  {
   "cell_type": "code",
   "execution_count": 3,
   "id": "da8a91dc",
   "metadata": {},
   "outputs": [],
   "source": [
    "import torch\n",
    "from torch import nn\n",
    "import torch.nn.functional as F\n",
    "import torch.optim as optim\n",
    "from torch.utils.data import Dataset, DataLoader\n",
    "import gluonnlp as nlp\n",
    "import numpy as np\n",
    "from tqdm.notebook import tqdm"
   ]
  },
  {
   "cell_type": "code",
   "execution_count": 4,
   "id": "d41938ba",
   "metadata": {},
   "outputs": [],
   "source": [
    "from kobert import get_tokenizer\n",
    "from kobert import get_pytorch_kobert_model"
   ]
  },
  {
   "cell_type": "code",
   "execution_count": 5,
   "id": "8fdcf24d",
   "metadata": {},
   "outputs": [],
   "source": [
    "\n",
    "from transformers import AdamW\n",
    "from transformers.optimization import get_cosine_schedule_with_warmup"
   ]
  },
  {
   "cell_type": "code",
   "execution_count": 6,
   "id": "f4c14216",
   "metadata": {},
   "outputs": [],
   "source": [
    "device = torch.device(\"cpu\")\n"
   ]
  },
  {
   "cell_type": "code",
   "execution_count": 7,
   "id": "27eabe52",
   "metadata": {},
   "outputs": [
    {
     "name": "stdout",
     "output_type": "stream",
     "text": [
      "using cached model. /aiffel/aiffel/Aiffel_online_Quest/Quest04/.cache/kobert_v1.zip\n",
      "using cached model. /aiffel/aiffel/Aiffel_online_Quest/Quest04/.cache/kobert_news_wiki_ko_cased-1087f8699e.spiece\n"
     ]
    }
   ],
   "source": [
    "bertmodel, vocab = get_pytorch_kobert_model(cachedir=\".cache\")"
   ]
  },
  {
   "cell_type": "code",
   "execution_count": 9,
   "id": "1a877e1d",
   "metadata": {},
   "outputs": [
    {
     "name": "stdout",
     "output_type": "stream",
     "text": [
      "--2023-11-23 23:55:43--  http://skt-lsl-nlp-model.s3.amazonaws.com/KoBERT/datasets/nsmc/ratings_train.txt\n",
      "Resolving skt-lsl-nlp-model.s3.amazonaws.com (skt-lsl-nlp-model.s3.amazonaws.com)... 52.219.148.51, 52.219.146.87, 52.219.146.91, ...\n",
      "Connecting to skt-lsl-nlp-model.s3.amazonaws.com (skt-lsl-nlp-model.s3.amazonaws.com)|52.219.148.51|:80... connected.\n",
      "HTTP request sent, awaiting response... 200 OK\n",
      "Length: 14628807 (14M) [text/plain]\n",
      "Saving to: ‘.cache/ratings_train.txt’\n",
      "\n",
      ".cache/ratings_trai 100%[===================>]  13.95M  10.6MB/s    in 1.3s    \n",
      "\n",
      "2023-11-23 23:55:44 (10.6 MB/s) - ‘.cache/ratings_train.txt’ saved [14628807/14628807]\n",
      "\n",
      "--2023-11-23 23:55:45--  http://skt-lsl-nlp-model.s3.amazonaws.com/KoBERT/datasets/nsmc/ratings_test.txt\n",
      "Resolving skt-lsl-nlp-model.s3.amazonaws.com (skt-lsl-nlp-model.s3.amazonaws.com)... 52.219.60.118, 52.219.60.94, 52.219.148.87, ...\n",
      "Connecting to skt-lsl-nlp-model.s3.amazonaws.com (skt-lsl-nlp-model.s3.amazonaws.com)|52.219.60.118|:80... connected.\n",
      "HTTP request sent, awaiting response... 200 OK\n",
      "Length: 4893335 (4.7M) [text/plain]\n",
      "Saving to: ‘.cache/ratings_test.txt’\n",
      "\n",
      ".cache/ratings_test 100%[===================>]   4.67M  4.87MB/s    in 1.0s    \n",
      "\n",
      "2023-11-23 23:55:47 (4.87 MB/s) - ‘.cache/ratings_test.txt’ saved [4893335/4893335]\n",
      "\n"
     ]
    }
   ],
   "source": [
    "!wget -O .cache/ratings_train.txt http://skt-lsl-nlp-model.s3.amazonaws.com/KoBERT/datasets/nsmc/ratings_train.txt\n",
    "!wget -O .cache/ratings_test.txt http://skt-lsl-nlp-model.s3.amazonaws.com/KoBERT/datasets/nsmc/ratings_test.txt"
   ]
  },
  {
   "cell_type": "code",
   "execution_count": 10,
   "id": "9c66f768",
   "metadata": {},
   "outputs": [],
   "source": [
    "dataset_train = nlp.data.TSVDataset(\".cache/ratings_train.txt\", field_indices=[1,2], num_discard_samples=1)\n",
    "dataset_test = nlp.data.TSVDataset(\".cache/ratings_test.txt\", field_indices=[1,2], num_discard_samples=1)\n",
    "# 결과가 [[문장, label]]"
   ]
  },
  {
   "cell_type": "code",
   "execution_count": null,
   "id": "51149b2f",
   "metadata": {},
   "outputs": [],
   "source": [
    "x_train = X_train.copy()\n",
    "y_train = y_train.copy()\n",
    "df_train= pd.DataFrame({\n",
    "    \"document\":x_train,\n",
    "    \"label\": y_train\n",
    "})\n",
    "df_train\n",
    "dataset_train = df_train[[\"document\",\"label\"]].values.tolist()\n",
    "x_test = X_test.copy()\n",
    "y_test = y_test.copy()\n",
    "df_test= pd.DataFrame({\n",
    "    \"document\":x_test,\n",
    "    \"label\": y_test\n",
    "})\n",
    "df_test\n",
    "dataset_train = df_test[[\"document\",\"label\"]].values.tolist()"
   ]
  },
  {
   "cell_type": "code",
   "execution_count": 15,
   "id": "1c0d834e",
   "metadata": {},
   "outputs": [
    {
     "data": {
      "text/plain": [
       "(50000, 2)"
      ]
     },
     "execution_count": 15,
     "metadata": {},
     "output_type": "execute_result"
    }
   ],
   "source": [
    "np.array(dataset_test[:]).shape"
   ]
  },
  {
   "cell_type": "code",
   "execution_count": 16,
   "id": "d2255b11",
   "metadata": {},
   "outputs": [
    {
     "name": "stdout",
     "output_type": "stream",
     "text": [
      "using cached model. /aiffel/aiffel/Aiffel_online_Quest/Quest04/.cache/kobert_news_wiki_ko_cased-1087f8699e.spiece\n"
     ]
    }
   ],
   "source": [
    "# 토크나이징 및 임베딩 작업\n",
    "tokenizer = get_tokenizer()\n",
    "tok = nlp.data.BERTSPTokenizer(tokenizer, vocab, lower=False)"
   ]
  },
  {
   "cell_type": "code",
   "execution_count": 17,
   "id": "271fe22a",
   "metadata": {},
   "outputs": [],
   "source": [
    "class BERTDataset(Dataset):\n",
    "    def __init__(self, dataset, sent_idx, label_idx, bert_tokenizer, max_len,\n",
    "                 pad, pair):\n",
    "        transform = nlp.data.BERTSentenceTransform(\n",
    "            bert_tokenizer, max_seq_length=max_len, pad=pad, pair=pair)\n",
    "\n",
    "        self.sentences = [transform([i[sent_idx]]) for i in dataset]\n",
    "        self.labels = [np.int32(i[label_idx]) for i in dataset]\n",
    "\n",
    "    def __getitem__(self, i):\n",
    "        return (self.sentences[i] + (self.labels[i], ))\n",
    "\n",
    "    def __len__(self):\n",
    "        return (len(self.labels))"
   ]
  },
  {
   "cell_type": "code",
   "execution_count": 18,
   "id": "f03988fa",
   "metadata": {},
   "outputs": [],
   "source": [
    "## Setting parameters\n",
    "max_len = 64\n",
    "batch_size = 256\n",
    "warmup_ratio = 0.1\n",
    "num_epochs = 5\n",
    "max_grad_norm = 1\n",
    "log_interval = 200\n",
    "learning_rate =  5e-5"
   ]
  },
  {
   "cell_type": "code",
   "execution_count": 19,
   "id": "3a4d8e6b",
   "metadata": {},
   "outputs": [],
   "source": [
    "data_train = BERTDataset(dataset_train, 0, 1, tok, max_len, True, False)\n",
    "data_test = BERTDataset(dataset_test, 0, 1, tok, max_len, True, False)"
   ]
  },
  {
   "cell_type": "code",
   "execution_count": 20,
   "id": "5794e92f",
   "metadata": {},
   "outputs": [
    {
     "name": "stderr",
     "output_type": "stream",
     "text": [
      "/opt/conda/lib/python3.9/site-packages/torch/utils/data/dataloader.py:478: UserWarning: This DataLoader will create 5 worker processes in total. Our suggested max number of worker in current system is 4, which is smaller than what this DataLoader is going to create. Please be aware that excessive worker creation might get DataLoader running slow or even freeze, lower the worker number to avoid potential slowness/freeze if necessary.\n",
      "  warnings.warn(_create_warning_msg(\n"
     ]
    }
   ],
   "source": [
    "train_dataloader = torch.utils.data.DataLoader(data_train, batch_size=batch_size, num_workers=5)\n",
    "test_dataloader = torch.utils.data.DataLoader(data_test, batch_size=batch_size, num_workers=5)"
   ]
  },
  {
   "cell_type": "code",
   "execution_count": 21,
   "id": "f8bb7f4c",
   "metadata": {},
   "outputs": [],
   "source": [
    "class BERTClassifier(nn.Module):\n",
    "    def __init__(self,\n",
    "                 bert,\n",
    "                 hidden_size = 768,\n",
    "                 num_classes=2,\n",
    "                 dr_rate=None,\n",
    "                 params=None):\n",
    "        super(BERTClassifier, self).__init__()\n",
    "        self.bert = bert\n",
    "        self.dr_rate = dr_rate\n",
    "                 \n",
    "        self.classifier = nn.Linear(hidden_size , num_classes)\n",
    "        if dr_rate:\n",
    "            self.dropout = nn.Dropout(p=dr_rate)\n",
    "    \n",
    "    def gen_attention_mask(self, token_ids, valid_length):\n",
    "        attention_mask = torch.zeros_like(token_ids)\n",
    "        for i, v in enumerate(valid_length):\n",
    "            attention_mask[i][:v] = 1\n",
    "        return attention_mask.float()\n",
    "\n",
    "    def forward(self, token_ids, valid_length, segment_ids):\n",
    "        attention_mask = self.gen_attention_mask(token_ids, valid_length)\n",
    "        \n",
    "        _, pooler = self.bert(input_ids = token_ids, token_type_ids = segment_ids.long(), attention_mask = attention_mask.float().to(token_ids.device))\n",
    "        if self.dr_rate:\n",
    "            out = self.dropout(pooler)\n",
    "        else:\n",
    "            out = pooler\n",
    "        return self.classifier(out)"
   ]
  },
  {
   "cell_type": "code",
   "execution_count": 22,
   "id": "a84d1f9a",
   "metadata": {},
   "outputs": [],
   "source": [
    "model = BERTClassifier(bertmodel,  dr_rate=0.5).to(device)"
   ]
  },
  {
   "cell_type": "code",
   "execution_count": 23,
   "id": "f4eb9032",
   "metadata": {},
   "outputs": [],
   "source": [
    "no_decay = ['bias', 'LayerNorm.weight']\n",
    "optimizer_grouped_parameters = [\n",
    "    {'params': [p for n, p in model.named_parameters() if not any(nd in n for nd in no_decay)], 'weight_decay': 0.01},\n",
    "    {'params': [p for n, p in model.named_parameters() if any(nd in n for nd in no_decay)], 'weight_decay': 0.0}\n",
    "]"
   ]
  },
  {
   "cell_type": "code",
   "execution_count": 24,
   "id": "eda4d3de",
   "metadata": {},
   "outputs": [],
   "source": [
    "optimizer = AdamW(optimizer_grouped_parameters, lr=learning_rate)\n",
    "loss_fn = nn.CrossEntropyLoss()"
   ]
  },
  {
   "cell_type": "code",
   "execution_count": 25,
   "id": "ce3a6e03",
   "metadata": {},
   "outputs": [],
   "source": [
    "t_total = len(train_dataloader) * num_epochs\n",
    "warmup_step = int(t_total * warmup_ratio)"
   ]
  },
  {
   "cell_type": "code",
   "execution_count": 26,
   "id": "5d66bb82",
   "metadata": {},
   "outputs": [],
   "source": [
    "# 트랜스포머 모델의 스케줄러는 학습률을 조절하는 역할 - 학습이 진행되면 학습률을 줄임\n",
    "scheduler = get_cosine_schedule_with_warmup(optimizer, num_warmup_steps=warmup_step, num_training_steps=t_total)\n"
   ]
  },
  {
   "cell_type": "code",
   "execution_count": 27,
   "id": "71240fac",
   "metadata": {},
   "outputs": [],
   "source": [
    "def calc_accuracy(X,Y):\n",
    "    max_vals, max_indices = torch.max(X, 1)\n",
    "    train_acc = (max_indices == Y).sum().data.cpu().numpy()/max_indices.size()[0]\n",
    "    return train_acc\n"
   ]
  },
  {
   "cell_type": "code",
   "execution_count": 28,
   "id": "17ee6fdb",
   "metadata": {},
   "outputs": [
    {
     "data": {
      "application/vnd.jupyter.widget-view+json": {
       "model_id": "215e33efdfd8412aba991c62c73bae2c",
       "version_major": 2,
       "version_minor": 0
      },
      "text/plain": [
       "  0%|          | 0/2344 [00:00<?, ?it/s]"
      ]
     },
     "metadata": {},
     "output_type": "display_data"
    },
    {
     "name": "stdout",
     "output_type": "stream",
     "text": [
      "epoch 1 batch id 1 loss 0.7366246581077576 train acc 0.46875\n",
      "epoch 1 batch id 201 loss 0.43987104296684265 train acc 0.5649875621890548\n",
      "epoch 1 batch id 401 loss 0.46243298053741455 train acc 0.6777197630922693\n",
      "epoch 1 batch id 601 loss 0.4453789293766022 train acc 0.7303452579034941\n"
     ]
    },
    {
     "ename": "KeyboardInterrupt",
     "evalue": "",
     "output_type": "error",
     "traceback": [
      "\u001b[0;31m---------------------------------------------------------------------------\u001b[0m",
      "\u001b[0;31mKeyboardInterrupt\u001b[0m                         Traceback (most recent call last)",
      "\u001b[0;32m/tmp/ipykernel_31/3465636087.py\u001b[0m in \u001b[0;36m<module>\u001b[0;34m\u001b[0m\n\u001b[1;32m     11\u001b[0m         \u001b[0mout\u001b[0m \u001b[0;34m=\u001b[0m \u001b[0mmodel\u001b[0m\u001b[0;34m(\u001b[0m\u001b[0mtoken_ids\u001b[0m\u001b[0;34m,\u001b[0m \u001b[0mvalid_length\u001b[0m\u001b[0;34m,\u001b[0m \u001b[0msegment_ids\u001b[0m\u001b[0;34m)\u001b[0m\u001b[0;34m\u001b[0m\u001b[0;34m\u001b[0m\u001b[0m\n\u001b[1;32m     12\u001b[0m         \u001b[0mloss\u001b[0m \u001b[0;34m=\u001b[0m \u001b[0mloss_fn\u001b[0m\u001b[0;34m(\u001b[0m\u001b[0mout\u001b[0m\u001b[0;34m,\u001b[0m \u001b[0mlabel\u001b[0m\u001b[0;34m)\u001b[0m\u001b[0;34m\u001b[0m\u001b[0;34m\u001b[0m\u001b[0m\n\u001b[0;32m---> 13\u001b[0;31m         \u001b[0mloss\u001b[0m\u001b[0;34m.\u001b[0m\u001b[0mbackward\u001b[0m\u001b[0;34m(\u001b[0m\u001b[0;34m)\u001b[0m\u001b[0;34m\u001b[0m\u001b[0;34m\u001b[0m\u001b[0m\n\u001b[0m\u001b[1;32m     14\u001b[0m         \u001b[0mtorch\u001b[0m\u001b[0;34m.\u001b[0m\u001b[0mnn\u001b[0m\u001b[0;34m.\u001b[0m\u001b[0mutils\u001b[0m\u001b[0;34m.\u001b[0m\u001b[0mclip_grad_norm_\u001b[0m\u001b[0;34m(\u001b[0m\u001b[0mmodel\u001b[0m\u001b[0;34m.\u001b[0m\u001b[0mparameters\u001b[0m\u001b[0;34m(\u001b[0m\u001b[0;34m)\u001b[0m\u001b[0;34m,\u001b[0m \u001b[0mmax_grad_norm\u001b[0m\u001b[0;34m)\u001b[0m\u001b[0;34m\u001b[0m\u001b[0;34m\u001b[0m\u001b[0m\n\u001b[1;32m     15\u001b[0m         \u001b[0moptimizer\u001b[0m\u001b[0;34m.\u001b[0m\u001b[0mstep\u001b[0m\u001b[0;34m(\u001b[0m\u001b[0;34m)\u001b[0m\u001b[0;34m\u001b[0m\u001b[0;34m\u001b[0m\u001b[0m\n",
      "\u001b[0;32m/opt/conda/lib/python3.9/site-packages/torch/_tensor.py\u001b[0m in \u001b[0;36mbackward\u001b[0;34m(self, gradient, retain_graph, create_graph, inputs)\u001b[0m\n\u001b[1;32m    253\u001b[0m                 \u001b[0mcreate_graph\u001b[0m\u001b[0;34m=\u001b[0m\u001b[0mcreate_graph\u001b[0m\u001b[0;34m,\u001b[0m\u001b[0;34m\u001b[0m\u001b[0;34m\u001b[0m\u001b[0m\n\u001b[1;32m    254\u001b[0m                 inputs=inputs)\n\u001b[0;32m--> 255\u001b[0;31m         \u001b[0mtorch\u001b[0m\u001b[0;34m.\u001b[0m\u001b[0mautograd\u001b[0m\u001b[0;34m.\u001b[0m\u001b[0mbackward\u001b[0m\u001b[0;34m(\u001b[0m\u001b[0mself\u001b[0m\u001b[0;34m,\u001b[0m \u001b[0mgradient\u001b[0m\u001b[0;34m,\u001b[0m \u001b[0mretain_graph\u001b[0m\u001b[0;34m,\u001b[0m \u001b[0mcreate_graph\u001b[0m\u001b[0;34m,\u001b[0m \u001b[0minputs\u001b[0m\u001b[0;34m=\u001b[0m\u001b[0minputs\u001b[0m\u001b[0;34m)\u001b[0m\u001b[0;34m\u001b[0m\u001b[0;34m\u001b[0m\u001b[0m\n\u001b[0m\u001b[1;32m    256\u001b[0m \u001b[0;34m\u001b[0m\u001b[0m\n\u001b[1;32m    257\u001b[0m     \u001b[0;32mdef\u001b[0m \u001b[0mregister_hook\u001b[0m\u001b[0;34m(\u001b[0m\u001b[0mself\u001b[0m\u001b[0;34m,\u001b[0m \u001b[0mhook\u001b[0m\u001b[0;34m)\u001b[0m\u001b[0;34m:\u001b[0m\u001b[0;34m\u001b[0m\u001b[0;34m\u001b[0m\u001b[0m\n",
      "\u001b[0;32m/opt/conda/lib/python3.9/site-packages/torch/autograd/__init__.py\u001b[0m in \u001b[0;36mbackward\u001b[0;34m(tensors, grad_tensors, retain_graph, create_graph, grad_variables, inputs)\u001b[0m\n\u001b[1;32m    145\u001b[0m         \u001b[0mretain_graph\u001b[0m \u001b[0;34m=\u001b[0m \u001b[0mcreate_graph\u001b[0m\u001b[0;34m\u001b[0m\u001b[0;34m\u001b[0m\u001b[0m\n\u001b[1;32m    146\u001b[0m \u001b[0;34m\u001b[0m\u001b[0m\n\u001b[0;32m--> 147\u001b[0;31m     Variable._execution_engine.run_backward(\n\u001b[0m\u001b[1;32m    148\u001b[0m         \u001b[0mtensors\u001b[0m\u001b[0;34m,\u001b[0m \u001b[0mgrad_tensors_\u001b[0m\u001b[0;34m,\u001b[0m \u001b[0mretain_graph\u001b[0m\u001b[0;34m,\u001b[0m \u001b[0mcreate_graph\u001b[0m\u001b[0;34m,\u001b[0m \u001b[0minputs\u001b[0m\u001b[0;34m,\u001b[0m\u001b[0;34m\u001b[0m\u001b[0;34m\u001b[0m\u001b[0m\n\u001b[1;32m    149\u001b[0m         allow_unreachable=True, accumulate_grad=True)  # allow_unreachable flag\n",
      "\u001b[0;31mKeyboardInterrupt\u001b[0m: "
     ]
    }
   ],
   "source": [
    "for e in range(num_epochs):\n",
    "    train_acc = 0.0\n",
    "    test_acc = 0.0\n",
    "    model.train()\n",
    "    for batch_id, (token_ids, valid_length, segment_ids, label) in tqdm(enumerate(train_dataloader), total=len(train_dataloader)):\n",
    "        optimizer.zero_grad()\n",
    "        token_ids = token_ids.long().to(device)\n",
    "        segment_ids = segment_ids.long().to(device)\n",
    "        valid_length= valid_length\n",
    "        label = label.long().to(device)\n",
    "        out = model(token_ids, valid_length, segment_ids)\n",
    "        loss = loss_fn(out, label)\n",
    "        loss.backward()\n",
    "        torch.nn.utils.clip_grad_norm_(model.parameters(), max_grad_norm)\n",
    "        optimizer.step()\n",
    "        scheduler.step()  # Update learning rate schedule\n",
    "        train_acc += calc_accuracy(out, label)\n",
    "        if batch_id % log_interval == 0:\n",
    "            print(\"epoch {} batch id {} loss {} train acc {}\".format(e+1, batch_id+1, loss.data.cpu().numpy(), train_acc / (batch_id+1)))\n",
    "    print(\"epoch {} train acc {}\".format(e+1, train_acc / (batch_id+1)))\n",
    "    model.eval()\n",
    "    for batch_id, (token_ids, valid_length, segment_ids, label) in tqdm(enumerate(test_dataloader), total=len(test_dataloader)):\n",
    "        token_ids = token_ids.long().to(device)\n",
    "        segment_ids = segment_ids.long().to(device)\n",
    "        valid_length= valid_length\n",
    "        label = label.long().to(device)\n",
    "        out = model(token_ids, valid_length, segment_ids)\n",
    "        test_acc += calc_accuracy(out, label)\n",
    "    print(\"epoch {} test acc {}\".format(e+1, test_acc / (batch_id+1)))"
   ]
  },
  {
   "cell_type": "markdown",
   "id": "a9a0b0d6",
   "metadata": {},
   "source": [
    "- Transformer 모델은 koBERT 오픈소스 모델을 사용\n",
    "- KoBERT\n",
    "    - 학습셋\n",
    "        - 한국어 위키\t5M\t54M\n",
    "- 다른 모델에 비해 학습시간이 매우 오래걸렸다.\n",
    "- 학습을 batch 단위로 나눠서 진행는 것 같다. 너무 길어서 어느 정도 정확도를 달성한 뒤에는 멈췄다."
   ]
  },
  {
   "cell_type": "markdown",
   "id": "5d512adf",
   "metadata": {},
   "source": [
    "## 회고\n",
    "\n",
    "### 서론\n",
    "다양한 모델을 이용해 네이버 리뷰 감성분석을 해본다.\n",
    "\n",
    "### 개발 과정\n",
    "- 공통 과정\n",
    "    - 데이터 불러오기\n",
    "    - 데이터 전처리 및 load\n",
    "    - 패딩 처리(Transformer 모델 제외)\n",
    "    - 임베딩 처리\n",
    "- RNN 모델 구성\n",
    "    - 단순 simpleRNN\n",
    "- LSTM 모델 구성\n",
    "    - Bi-LSTM으로 구성\n",
    "- CNN 모델 구성\n",
    "- Ko-BERT 모델 활용\n",
    "    - Transformer 모델 같은 경우에는 어텐션 메커니즘을 사용하면 입력 시퀀스의 각 위치에 대해 가중치를 부여하기 때문에 패딩을 사용해서 시퀀스 길이를 맞춰줄 필요가 상대적으로 적다.\n",
    "\n",
    "### 배운 점 및 회고\n",
    "- 과적합이 생각보다 빠르게 와서 당황했지만, Dropout과 optimzier를 바꿔가면서 진행해보았다. 그런데 Dropout이 효과가 조금 있었다. \n",
    "- LSTM 모델은 하나를 할 때보다, 두 개를 연속으로한 Bi-LSTM이 더 효과가 좋았다. 아마도 좀 더 표현력이 더 많아져서 그런 것 이 아닐까 싶다. Dense layer와 함께 해보았지만 LSTM 모델로 하고 output layer만 Dense로 구성하는 것이 가장 효과가 좋았다\n",
    "- 하지만 LSTM이 RNN의 한계를 개선하고자, 장 단기 기억으로 가져가는 것은 맞지만 결국 word vector dic가 있어야하기 때문에 여전히 문장이 길어졌을 때는 한계가 있을 것으로 보인다\n",
    "- RNN은 다른 것들에 비해 성능이 떨어졌지만 그래도 초창기 모델을 직접 사용해 보았다는 것에 의미를 두려고 한다\n",
    "- Transformer 모델은 기존의 LSTM과 RNN의 모델의 한계를 다른 방향으로 해결한 모델로서 사용해보고 싶었다 Transformer 인코더에 대표 모델인 BERT를 사용해 보았는데 기존의 Bert가 한국의 한계가 있어서 만든 Ko-BERT를 직접 사용해보았다. 학습속도가 너무 느렸지만, 조금 시간을 가지고 했을 때 가장 성능이 좋을 것이라고 예상해 보해본다."
   ]
  },
  {
   "cell_type": "code",
   "execution_count": null,
   "id": "917f3afc",
   "metadata": {},
   "outputs": [],
   "source": []
  }
 ],
 "metadata": {
  "kernelspec": {
   "display_name": "Python 3 (ipykernel)",
   "language": "python",
   "name": "python3"
  },
  "language_info": {
   "codemirror_mode": {
    "name": "ipython",
    "version": 3
   },
   "file_extension": ".py",
   "mimetype": "text/x-python",
   "name": "python",
   "nbconvert_exporter": "python",
   "pygments_lexer": "ipython3",
   "version": "3.9.7"
  }
 },
 "nbformat": 4,
 "nbformat_minor": 5
}
